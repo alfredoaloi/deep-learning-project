{
 "cells": [
  {
   "cell_type": "markdown",
   "metadata": {
    "id": "0qRtuZENww0d"
   },
   "source": [
    "# 0. Imports and initializations"
   ]
  },
  {
   "cell_type": "code",
   "execution_count": 1,
   "metadata": {
    "id": "UOlpf5IRws-i"
   },
   "outputs": [],
   "source": [
    "# for data manipulation\n",
    "import numpy as np\n",
    "import pandas as pd\n",
    "\n",
    "# for data normalization and splitting\n",
    "from sklearn.preprocessing import StandardScaler\n",
    "from sklearn.model_selection import train_test_split\n",
    "\n",
    "# for models\n",
    "from tensorflow.keras import models\n",
    "from tensorflow.keras import layers\n",
    "from tensorflow.keras import optimizers\n",
    "from tensorflow.keras import losses\n",
    "from tensorflow.keras import metrics\n",
    "from tensorflow.keras import callbacks\n",
    "from keras.utils.vis_utils import plot_model\n",
    "import keras_tuner\n",
    "\n",
    "# for plots\n",
    "import matplotlib.pyplot as plt\n",
    "import matplotlib.image as mpimg\n",
    "\n",
    "# for file management\n",
    "from os.path import exists\n",
    "from os import remove\n",
    "\n",
    "# for sequences\n",
    "WINDOW_SIZE = 30  # 10 seconds sequences in 5 minutes\n",
    "WINDOW_SHIFT = 6  # 10 seconds sequences in 1 minute\n",
    "\n",
    "# for models fit\n",
    "EPOCHS = 25\n",
    "BATCH_SIZE = 32\n",
    "\n",
    "plt.rcParams['figure.figsize'] = plt.rcParamsDefault['figure.figsize']"
   ]
  },
  {
   "cell_type": "markdown",
   "metadata": {
    "id": "J3Sj5NJ6rz2-"
   },
   "source": [
    "# 1. Next Value Prediction Task"
   ]
  },
  {
   "cell_type": "markdown",
   "metadata": {
    "id": "ra_xitvr2Lhq",
    "tags": []
   },
   "source": [
    "## 1.1 Utility functions"
   ]
  },
  {
   "cell_type": "markdown",
   "metadata": {
    "id": "hdM8h32s2Rr3"
   },
   "source": [
    "### 1.1.1 <code>features_and_lables</code>\n",
    "Given the normalized data, the function will produce sequencies of specific window size window shift."
   ]
  },
  {
   "cell_type": "code",
   "execution_count": 2,
   "metadata": {
    "id": "UtyirwKy2LIi"
   },
   "outputs": [],
   "source": [
    "def features_and_labels(data, window_size: int = 30, window_shift: int = 6):\n",
    "  \"\"\"\n",
    "  Given the data, the function will produce sequencies of specific\n",
    "  window size window shift.\n",
    "  \"\"\"\n",
    "\n",
    "  features = []\n",
    "  labels = []\n",
    "\n",
    "  for i in range(window_size, len(data), window_shift):\n",
    "    features.append(np.reshape(data[i - window_size:i], (1, -1))[0])\n",
    "    labels.append(data[i])\n",
    "  features, labels = np.array(features), np.array(labels)\n",
    "\n",
    "  return features, labels"
   ]
  },
  {
   "cell_type": "markdown",
   "metadata": {
    "id": "rHQyzZ7X5W5q"
   },
   "source": [
    "### 1.1.2 <code>build_model</code>\n",
    "Given in input the features, the model will be fitted to the input shape. Moreover, this model will have a single output node."
   ]
  },
  {
   "cell_type": "code",
   "execution_count": 3,
   "metadata": {
    "id": "AbIsuTz55obV"
   },
   "outputs": [],
   "source": [
    "def build_model(input_shape, units_1, units_2, units_3, units_4, learning_rate):\n",
    "  \"\"\"\n",
    "  The function builds the model, given in input the parameters.\n",
    "  \"\"\"\n",
    "\n",
    "  model = models.Sequential(name='Sequential')\n",
    "  model.add(layers.Input(input_shape, name='Input'))\n",
    "  model.add(layers.LSTM(units=units_1, return_sequences=True, name='LSTM-1'))\n",
    "  model.add(layers.Dropout(0.2, name='Dropout-1'))\n",
    "  model.add(layers.LSTM(units=units_1, return_sequences=True, name='LSTM-2'))\n",
    "  model.add(layers.Dropout(0.2, name='Dropout-2'))\n",
    "  model.add(layers.LSTM(units=units_1, name='LSTM-3'))\n",
    "  model.add(layers.Dropout(0.2, name='Dropout-3'))\n",
    "  model.add(layers.Dense(units=units_2, activation='relu', name='Dense-1'))\n",
    "  model.add(layers.Dropout(0.2, name='Dropout-4'))\n",
    "  model.add(layers.Dense(units=units_3, activation='relu', name='Dense-2'))\n",
    "  model.add(layers.Dropout(0.2, name='Dropout-5'))\n",
    "  model.add(layers.Dense(units=units_4, activation='relu', name='Dense-3'))\n",
    "  model.add(layers.Dropout(0.2, name='Dropout-6'))\n",
    "  model.add(layers.Dense(units=1, name='Dense-final'))\n",
    "  model.compile(optimizer=optimizers.Adam(learning_rate=learning_rate), loss=losses.mse, metrics=[metrics.mae])\n",
    "\n",
    "  return model"
   ]
  },
  {
   "cell_type": "markdown",
   "metadata": {
    "id": "J4m1hRoOCtVB"
   },
   "source": [
    "### 1.1.3 <code>denormalize</code>\n",
    "Given in input a value and the scaler used for the normalization, the function returns the denormalized value"
   ]
  },
  {
   "cell_type": "code",
   "execution_count": 4,
   "metadata": {
    "id": "AKlKnriQC7FC"
   },
   "outputs": [],
   "source": [
    "def denormalize(value: float, scaler: StandardScaler):\n",
    "  \"\"\"\n",
    "  Given in input the mean absolute error and the scaler used for the\n",
    "  normalization, the function returns the denormalized value\n",
    "  \"\"\"\n",
    "\n",
    "  return (scaler.inverse_transform(np.reshape(np.array([value]), (-1, 1))))[0][0]"
   ]
  },
  {
   "cell_type": "markdown",
   "metadata": {
    "id": "g6JayVHUVqPE"
   },
   "source": [
    "### 1.1.4 <code>model_builder</code>\n",
    "The function is used for searching the best model to be used"
   ]
  },
  {
   "cell_type": "code",
   "execution_count": 5,
   "metadata": {
    "id": "49I2DzEQtSak"
   },
   "outputs": [],
   "source": [
    "def model_builder(hp):\n",
    "  \"\"\"\n",
    "  The function is used for searching the best model to be used\n",
    "  \"\"\"\n",
    "\n",
    "  hp_units_1 = hp.Int('units_1', min_value=32, max_value=256, step=16)  # for LSTMs\n",
    "  hp_units_2 = hp.Int('units_2', min_value=32, max_value=256, step=16)  # for first dense\n",
    "  hp_units_3 = hp.Int('units_3', min_value=32, max_value=256, step=16)  # for second dense\n",
    "  hp_units_4 = hp.Int('units_4', min_value=32, max_value=256, step=16)  # for third dense\n",
    "  hp_learning_rate = hp.Choice('learning_rate', values=[1e-2, 1e-3, 1e-4])\n",
    "\n",
    "  model = models.Sequential(name='Sequential')\n",
    "  model.add(layers.Input((30, 1), name='Input'))\n",
    "  model.add(layers.LSTM(units=hp_units_1, return_sequences=True, name='LSTM-1'))\n",
    "  model.add(layers.Dropout(0.2, name='Dropout-1'))\n",
    "  model.add(layers.LSTM(units=hp_units_1, return_sequences=True, name='LSTM-2'))\n",
    "  model.add(layers.Dropout(0.2, name='Dropout-2'))\n",
    "  model.add(layers.LSTM(units=hp_units_1, name='LSTM-3'))\n",
    "  model.add(layers.Dropout(0.2, name='Dropout-3'))\n",
    "  model.add(layers.Dense(units=hp_units_2, activation='relu', name='Dense-1'))\n",
    "  model.add(layers.Dropout(0.2, name='Dropout-4'))\n",
    "  model.add(layers.Dense(units=hp_units_3, activation='relu', name='Dense-2'))\n",
    "  model.add(layers.Dropout(0.2, name='Dropout-5'))\n",
    "  model.add(layers.Dense(units=hp_units_4, activation='relu', name='Dense-3'))\n",
    "  model.add(layers.Dropout(0.2, name='Dropout-6'))\n",
    "  model.add(layers.Dense(units=1, name='Dense-final'))\n",
    "  model.compile(optimizer=optimizers.Adam(learning_rate=hp_learning_rate), loss=losses.mse, metrics=[metrics.mae])\n",
    "\n",
    "  return model"
   ]
  },
  {
   "cell_type": "markdown",
   "metadata": {},
   "source": [
    "### 1.1.5 <code>model_builder_three</code>\n",
    "\n",
    "The function is used for searching the best model to be used"
   ]
  },
  {
   "cell_type": "code",
   "execution_count": 6,
   "metadata": {},
   "outputs": [],
   "source": [
    "def model_builder_three(hp):\n",
    "  \"\"\"\n",
    "  The function is used for searching the best model to be used\n",
    "  \"\"\"\n",
    "\n",
    "  hp_units_1 = hp.Int('units_1', min_value=32, max_value=256, step=16)  # for LSTMs\n",
    "  hp_units_2 = hp.Int('units_2', min_value=32, max_value=256, step=16)  # for first dense\n",
    "  hp_units_3 = hp.Int('units_3', min_value=32, max_value=256, step=16)  # for second dense\n",
    "  hp_units_4 = hp.Int('units_4', min_value=32, max_value=256, step=16)  # for third dense\n",
    "  hp_learning_rate = hp.Choice('learning_rate', values=[1e-2, 1e-3, 1e-4])\n",
    "\n",
    "  model = models.Sequential(name='Sequential')\n",
    "  model.add(layers.Input((30, 3), name='Input'))\n",
    "  model.add(layers.LSTM(units=hp_units_1, return_sequences=True, name='LSTM-1'))\n",
    "  model.add(layers.Dropout(0.2, name='Dropout-1'))\n",
    "  model.add(layers.LSTM(units=hp_units_1, return_sequences=True, name='LSTM-2'))\n",
    "  model.add(layers.Dropout(0.2, name='Dropout-2'))\n",
    "  model.add(layers.LSTM(units=hp_units_1, name='LSTM-3'))\n",
    "  model.add(layers.Dropout(0.2, name='Dropout-3'))\n",
    "  model.add(layers.Dense(units=hp_units_2, activation='relu', name='Dense-1'))\n",
    "  model.add(layers.Dropout(0.2, name='Dropout-4'))\n",
    "  model.add(layers.Dense(units=hp_units_3, activation='relu', name='Dense-2'))\n",
    "  model.add(layers.Dropout(0.2, name='Dropout-5'))\n",
    "  model.add(layers.Dense(units=hp_units_4, activation='relu', name='Dense-3'))\n",
    "  model.add(layers.Dropout(0.2, name='Dropout-6'))\n",
    "  model.add(layers.Dense(units=3, name='Dense-final'))\n",
    "  model.compile(optimizer=optimizers.Adam(learning_rate=hp_learning_rate), loss=losses.mse, metrics=[metrics.mae])\n",
    "\n",
    "  return model"
   ]
  },
  {
   "cell_type": "markdown",
   "metadata": {
    "id": "0UZ_peltsBjo",
    "tags": []
   },
   "source": [
    "## 1.2 Fixed windows properties\n",
    "We have 3 time series (X, Y, Z) recorded each 10 seconds\n",
    "- Given a sequence of 5 minutes every one minute\n",
    "- The goal is to predict the next value of the sequence for each time series\n",
    "- Evaluation Metric: **Mean Absolute Error**\n"
   ]
  },
  {
   "cell_type": "markdown",
   "metadata": {
    "id": "87a7SVmA2G2s"
   },
   "source": [
    "### 1.2.1 Loading the dataset"
   ]
  },
  {
   "cell_type": "code",
   "execution_count": 45,
   "metadata": {
    "colab": {
     "base_uri": "https://localhost:8080/",
     "height": 206
    },
    "id": "UJ0l_SV7TftM",
    "outputId": "0ce36823-7ed1-40a3-b76a-f4e1b50f7435"
   },
   "outputs": [
    {
     "data": {
      "text/html": [
       "<div>\n",
       "<style scoped>\n",
       "    .dataframe tbody tr th:only-of-type {\n",
       "        vertical-align: middle;\n",
       "    }\n",
       "\n",
       "    .dataframe tbody tr th {\n",
       "        vertical-align: top;\n",
       "    }\n",
       "\n",
       "    .dataframe thead th {\n",
       "        text-align: right;\n",
       "    }\n",
       "</style>\n",
       "<table border=\"1\" class=\"dataframe\">\n",
       "  <thead>\n",
       "    <tr style=\"text-align: right;\">\n",
       "      <th></th>\n",
       "      <th>x</th>\n",
       "      <th>y</th>\n",
       "      <th>z</th>\n",
       "    </tr>\n",
       "  </thead>\n",
       "  <tbody>\n",
       "    <tr>\n",
       "      <th>144906</th>\n",
       "      <td>559</td>\n",
       "      <td>-803</td>\n",
       "      <td>-294</td>\n",
       "    </tr>\n",
       "    <tr>\n",
       "      <th>144907</th>\n",
       "      <td>559</td>\n",
       "      <td>-803</td>\n",
       "      <td>-294</td>\n",
       "    </tr>\n",
       "    <tr>\n",
       "      <th>144908</th>\n",
       "      <td>559</td>\n",
       "      <td>-802</td>\n",
       "      <td>-295</td>\n",
       "    </tr>\n",
       "    <tr>\n",
       "      <th>144909</th>\n",
       "      <td>559</td>\n",
       "      <td>-803</td>\n",
       "      <td>-294</td>\n",
       "    </tr>\n",
       "    <tr>\n",
       "      <th>144910</th>\n",
       "      <td>559</td>\n",
       "      <td>-802</td>\n",
       "      <td>-294</td>\n",
       "    </tr>\n",
       "  </tbody>\n",
       "</table>\n",
       "</div>"
      ],
      "text/plain": [
       "          x    y    z\n",
       "144906  559 -803 -294\n",
       "144907  559 -803 -294\n",
       "144908  559 -802 -295\n",
       "144909  559 -803 -294\n",
       "144910  559 -802 -294"
      ]
     },
     "execution_count": 45,
     "metadata": {},
     "output_type": "execute_result"
    }
   ],
   "source": [
    "data = pd.read_csv('dataset_task_1/train.csv')\n",
    "\n",
    "data.tail()"
   ]
  },
  {
   "cell_type": "markdown",
   "metadata": {
    "id": "ihyHMqvJ6j3S"
   },
   "source": [
    "### 1.2.2 Reshaping columns\n",
    "We separate each column, to process them in a separate way"
   ]
  },
  {
   "cell_type": "code",
   "execution_count": 8,
   "metadata": {
    "colab": {
     "base_uri": "https://localhost:8080/"
    },
    "id": "OiMyfWTBei14",
    "outputId": "0336abf7-de91-4181-bac9-473b6755c03b"
   },
   "outputs": [
    {
     "data": {
      "text/plain": [
       "array([[ -24],\n",
       "       [-206],\n",
       "       [-139],\n",
       "       ...,\n",
       "       [ 559],\n",
       "       [ 559],\n",
       "       [ 559]])"
      ]
     },
     "execution_count": 8,
     "metadata": {},
     "output_type": "execute_result"
    }
   ],
   "source": [
    "x_data = np.reshape(data.x.to_numpy(), (-1, 1))\n",
    "y_data = np.reshape(data.y.to_numpy(), (-1, 1))\n",
    "z_data = np.reshape(data.z.to_numpy(), (-1, 1))\n",
    "\n",
    "x_data"
   ]
  },
  {
   "cell_type": "markdown",
   "metadata": {
    "id": "JwReU1Sq7YMu"
   },
   "source": [
    "### 1.2.3 Data preprocessing\n",
    "We use the function <code>features_and_lables</code>, defined before, that helps with the transformation of data in sequences."
   ]
  },
  {
   "cell_type": "code",
   "execution_count": 9,
   "metadata": {
    "colab": {
     "base_uri": "https://localhost:8080/"
    },
    "id": "r97zIpuwhGwA",
    "outputId": "d8cc9346-f1c7-4a3c-8d70-ed73b98b68c8"
   },
   "outputs": [
    {
     "name": "stdout",
     "output_type": "stream",
     "text": [
      "[ -24 -206 -139 -503 -278  240 -671  -45  102   15  142    3 -176 -768\n",
      " -838 -420 -419 -420 -419 -418 -417 -414 -408 -407 -407 -408 -407 -408\n",
      " -408 -409]\n",
      "[-408]\n"
     ]
    }
   ],
   "source": [
    "x_features, x_labels = features_and_labels(x_data, window_size=30, window_shift=6)\n",
    "y_features, y_labels = features_and_labels(y_data, window_size=30, window_shift=6)\n",
    "z_features, z_labels = features_and_labels(z_data, window_size=30, window_shift=6)\n",
    "\n",
    "print(x_features[0])\n",
    "print(x_labels[0])"
   ]
  },
  {
   "cell_type": "markdown",
   "metadata": {
    "id": "AkRYB4Lv7AWv"
   },
   "source": [
    "### 1.2.4 Data normalization\n",
    "We use the standard scaler, in order to normalize features."
   ]
  },
  {
   "cell_type": "code",
   "execution_count": 10,
   "metadata": {
    "colab": {
     "base_uri": "https://localhost:8080/"
    },
    "id": "__Gmr4shfOV3",
    "outputId": "4519f452-2ce7-489c-b9aa-e4f20655e870"
   },
   "outputs": [
    {
     "data": {
      "text/plain": [
       "array([-0.31846375, -0.69210742, -0.55333931, -1.29009094, -0.8330969 ,\n",
       "        0.21812059, -1.63390757, -0.36431967, -0.06244556, -0.23752702,\n",
       "        0.01981392, -0.26366122, -0.62766428, -1.83661042, -1.97735234,\n",
       "       -1.12156197, -1.11954163, -1.12352781, -1.12177456, -1.12407862,\n",
       "       -1.11992643, -1.10946296, -1.09729569, -1.09719701, -1.09747076,\n",
       "       -1.10380867, -1.09964788, -1.09736257, -1.09738732, -1.10135407])"
      ]
     },
     "execution_count": 10,
     "metadata": {},
     "output_type": "execute_result"
    }
   ],
   "source": [
    "x_scaler = StandardScaler()\n",
    "x_scaler.fit(x_features)\n",
    "x_features = x_scaler.transform(x_features)\n",
    "\n",
    "y_scaler = StandardScaler()\n",
    "y_scaler.fit(y_features)\n",
    "y_features = y_scaler.transform(y_features)\n",
    "\n",
    "z_scaler = StandardScaler()\n",
    "z_scaler.fit(z_features)\n",
    "z_features = z_scaler.transform(z_features)\n",
    "\n",
    "x_features[0]"
   ]
  },
  {
   "cell_type": "markdown",
   "metadata": {
    "id": "N3oELnj674AD"
   },
   "source": [
    "### 1.2.5 Splitting in training set and validation set"
   ]
  },
  {
   "cell_type": "code",
   "execution_count": 11,
   "metadata": {
    "id": "An0ypfE3iwYC"
   },
   "outputs": [],
   "source": [
    "x_train_features, x_val_features, x_train_labels, x_val_labels = train_test_split(x_features, x_labels, test_size=0.2, random_state=7)\n",
    "y_train_features, y_val_features, y_train_labels, y_val_labels = train_test_split(y_features, y_labels, test_size=0.2, random_state=7)\n",
    "z_train_features, z_val_features, z_train_labels, z_val_labels = train_test_split(z_features, z_labels, test_size=0.2, random_state=7)"
   ]
  },
  {
   "cell_type": "markdown",
   "metadata": {
    "id": "OL_UO_x68ZkV"
   },
   "source": [
    "### 1.2.6 Hyperparameters search\n",
    "We let the tuner look for the best parameters for each model."
   ]
  },
  {
   "cell_type": "code",
   "execution_count": 12,
   "metadata": {
    "colab": {
     "base_uri": "https://localhost:8080/"
    },
    "id": "2vVkJNhUimEV",
    "outputId": "95793237-845e-4603-adab-c9ab15084abf"
   },
   "outputs": [
    {
     "name": "stdout",
     "output_type": "stream",
     "text": [
      "INFO:tensorflow:Reloading Oracle from existing project task_1.1/tuner/x/oracle.json\n"
     ]
    },
    {
     "name": "stderr",
     "output_type": "stream",
     "text": [
      "2021-12-29 14:52:25.513387: E tensorflow/stream_executor/cuda/cuda_driver.cc:271] failed call to cuInit: UNKNOWN ERROR (100)\n",
      "2021-12-29 14:52:25.513441: I tensorflow/stream_executor/cuda/cuda_diagnostics.cc:156] kernel driver does not appear to be running on this host (LAPTOP-8VNS6LCU): /proc/driver/nvidia/version does not exist\n",
      "2021-12-29 14:52:25.513790: I tensorflow/core/platform/cpu_feature_guard.cc:151] This TensorFlow binary is optimized with oneAPI Deep Neural Network Library (oneDNN) to use the following CPU instructions in performance-critical operations:  AVX2 FMA\n",
      "To enable them in other operations, rebuild TensorFlow with the appropriate compiler flags.\n"
     ]
    },
    {
     "name": "stdout",
     "output_type": "stream",
     "text": [
      "INFO:tensorflow:Reloading Tuner from task_1.1/tuner/x/tuner0.json\n",
      "INFO:tensorflow:Oracle triggered exit\n",
      "INFO:tensorflow:Reloading Oracle from existing project task_1.1/tuner/y/oracle.json\n",
      "INFO:tensorflow:Reloading Tuner from task_1.1/tuner/y/tuner0.json\n",
      "INFO:tensorflow:Oracle triggered exit\n",
      "INFO:tensorflow:Reloading Oracle from existing project task_1.1/tuner/z/oracle.json\n",
      "INFO:tensorflow:Reloading Tuner from task_1.1/tuner/z/tuner0.json\n",
      "INFO:tensorflow:Oracle triggered exit\n"
     ]
    }
   ],
   "source": [
    "# x\n",
    "x_tuner = keras_tuner.Hyperband(model_builder,\n",
    "                              objective='val_mean_absolute_error',\n",
    "                              max_epochs=15,\n",
    "                              factor=3,\n",
    "                              directory='task_1.1/tuner',\n",
    "                              project_name='x')\n",
    "\n",
    "x_tuner.search(x_train_features, x_train_labels, validation_data=(x_val_features, x_val_labels), epochs=EPOCHS, batch_size=BATCH_SIZE)\n",
    "x_best_hps = x_tuner.get_best_hyperparameters(num_trials=1)[0]\n",
    "\n",
    "# y\n",
    "y_tuner = keras_tuner.Hyperband(model_builder,\n",
    "                              objective='val_mean_absolute_error',\n",
    "                              max_epochs=15,\n",
    "                              factor=3,\n",
    "                              directory='task_1.1/tuner',\n",
    "                              project_name='y')\n",
    "\n",
    "y_tuner.search(y_train_features, y_train_labels, validation_data=(y_val_features, y_val_labels), epochs=EPOCHS, batch_size=BATCH_SIZE)\n",
    "y_best_hps = y_tuner.get_best_hyperparameters(num_trials=1)[0]\n",
    "\n",
    "z_tuner = keras_tuner.Hyperband(model_builder,\n",
    "                              objective='val_mean_absolute_error',\n",
    "                              max_epochs=15,\n",
    "                              factor=3,\n",
    "                              directory='task_1.1/tuner',\n",
    "                              project_name='z')\n",
    "\n",
    "z_tuner.search(z_train_features, z_train_labels, validation_data=(z_val_features, z_val_labels), epochs=EPOCHS, batch_size=BATCH_SIZE)\n",
    "z_best_hps = z_tuner.get_best_hyperparameters(num_trials=1)[0]"
   ]
  },
  {
   "cell_type": "code",
   "execution_count": 13,
   "metadata": {
    "colab": {
     "base_uri": "https://localhost:8080/"
    },
    "id": "ZWXk115CCw81",
    "outputId": "f58b06ea-b043-40c7-d572-e30b9ab623bc"
   },
   "outputs": [
    {
     "name": "stdout",
     "output_type": "stream",
     "text": [
      "\n",
      "The hyperparameter search is complete.\n",
      "units_1:\tx: 112\t\ty: 208\t\tz: 96\n",
      "units_2:\tx: 224\t\ty: 208\t\tz: 144\n",
      "units_3:\tx: 192\t\ty: 192\t\tz: 160\n",
      "units_4:\tx: 240\t\ty: 240\t\tz: 224\n",
      "learning_rate:\tx: 0.0001\ty: 0.0001\tz: 0.001\n",
      "\n"
     ]
    }
   ],
   "source": [
    "print(f\"\"\"\n",
    "The hyperparameter search is complete.\n",
    "units_1:\\tx: {x_best_hps.get('units_1')}\\t\\ty: {y_best_hps.get('units_1')}\\t\\tz: {z_best_hps.get('units_1')}\n",
    "units_2:\\tx: {x_best_hps.get('units_2')}\\t\\ty: {y_best_hps.get('units_2')}\\t\\tz: {z_best_hps.get('units_2')}\n",
    "units_3:\\tx: {x_best_hps.get('units_3')}\\t\\ty: {y_best_hps.get('units_3')}\\t\\tz: {z_best_hps.get('units_3')}\n",
    "units_4:\\tx: {x_best_hps.get('units_4')}\\t\\ty: {y_best_hps.get('units_4')}\\t\\tz: {z_best_hps.get('units_4')}\n",
    "learning_rate:\\tx: {x_best_hps.get('learning_rate')}\\ty: {y_best_hps.get('learning_rate')}\\tz: {z_best_hps.get('learning_rate')}\n",
    "\"\"\")"
   ]
  },
  {
   "cell_type": "markdown",
   "metadata": {},
   "source": [
    "### 1.2.7 Models building and fitting\n",
    "\n",
    "We build the models according to the parameters found by tuner, then fit the data."
   ]
  },
  {
   "cell_type": "code",
   "execution_count": 14,
   "metadata": {},
   "outputs": [],
   "source": [
    "x_model = x_tuner.hypermodel.build(x_best_hps)\n",
    "y_model = y_tuner.hypermodel.build(y_best_hps)\n",
    "z_model = z_tuner.hypermodel.build(z_best_hps)\n",
    "\n",
    "plot_model(x_model, to_file='task_1.1/models/x_model.png', show_shapes=True, show_layer_names=True)\n",
    "plot_model(y_model, to_file='task_1.1/models/y_model.png', show_shapes=True, show_layer_names=True)\n",
    "plot_model(z_model, to_file='task_1.1/models/z_model.png', show_shapes=True, show_layer_names=True)\n",
    "\n",
    "if not exists('task_1.1/models/x.index'):\n",
    "    x_model_checkpoint_callback = callbacks.ModelCheckpoint('task_1.1/models/x', save_weights_only=True, monitor='val_mean_absolute_error', mode='min', save_best_only=True)\n",
    "    x_history = x_model.fit(x_train_features, x_train_labels, validation_data=(x_val_features, x_val_labels), epochs=EPOCHS, batch_size=BATCH_SIZE, callbacks=[x_model_checkpoint_callback])\n",
    "    if exists('task_1.1/plots/x_loss.png'):\n",
    "        remove('task_1.1/plots/x_loss.png')\n",
    "    if exists('task_1.1/plots/x_mae.png'):\n",
    "        remove('task_1.1/plots/x_mae.png')\n",
    "\n",
    "if not exists('task_1.1/models/y.index'):\n",
    "    y_model_checkpoint_callback = callbacks.ModelCheckpoint('task_1.1/models/y', save_weights_only=True, monitor='val_mean_absolute_error', mode='min', save_best_only=True)\n",
    "    y_history = y_model.fit(y_train_features, y_train_labels, validation_data=(y_val_features, y_val_labels), epochs=EPOCHS, batch_size=BATCH_SIZE, callbacks=[y_model_checkpoint_callback])\n",
    "    if exists('task_1.1/plots/y_loss.png'):\n",
    "        remove('task_1.1/plots/y_loss.png')\n",
    "    if exists('task_1.1/plots/y_mae.png'):\n",
    "        remove('task_1.1/plots/y_mae.png')\n",
    "\n",
    "if not exists('task_1.1/models/z.index'):\n",
    "    z_model_checkpoint_callback = callbacks.ModelCheckpoint('task_1.1/models/z', save_weights_only=True, monitor='val_mean_absolute_error', mode='min', save_best_only=True)\n",
    "    z_history = z_model.fit(z_train_features, z_train_labels, validation_data=(z_val_features, z_val_labels), epochs=EPOCHS, batch_size=BATCH_SIZE, callbacks=[z_model_checkpoint_callback])\n",
    "    if exists('task_1.1/plots/z_loss.png'):\n",
    "        remove('task_1.1/plots/z_loss.png')\n",
    "    if exists('task_1.1/plots/z_mae.png'):\n",
    "        remove('task_1.1/plots/z_mae.png')"
   ]
  },
  {
   "cell_type": "markdown",
   "metadata": {
    "id": "KnPexhqj8i9R"
   },
   "source": [
    "### 1.2.8 Plotting losses and metrics"
   ]
  },
  {
   "cell_type": "code",
   "execution_count": 15,
   "metadata": {
    "id": "reG_A2gHAuy-"
   },
   "outputs": [
    {
     "data": {
      "image/png": "[encoded data removed]",
      "text/plain": [
       "<Figure size 460.8x345.6 with 1 Axes>"
      ]
     },
     "metadata": {
      "needs_background": "light"
     },
     "output_type": "display_data"
    }
   ],
   "source": [
    "if not exists('task_1.1/plots/x_loss.png'):\n",
    "    x_loss = x_history.history['loss']\n",
    "    x_val_loss = x_history.history['val_loss']\n",
    "    epochs = range(1, EPOCHS + 1)\n",
    "    plt.plot(epochs, x_loss, 'b', label='x training loss')\n",
    "    plt.plot(epochs, x_val_loss, 'y', label='x validation loss')\n",
    "    plt.title('Loss')\n",
    "    plt.xlabel('Epochs')\n",
    "    plt.ylabel('MSE')\n",
    "    plt.legend()\n",
    "    plt.savefig('task_1.1/plots/x_loss.png')\n",
    "    plt.show()\n",
    "else:\n",
    "    img = mpimg.imread('task_1.1/plots/x_loss.png')\n",
    "    imgplot = plt.imshow(img)\n",
    "    plt.axis('off')\n",
    "    plt.show()"
   ]
  },
  {
   "cell_type": "code",
   "execution_count": 16,
   "metadata": {
    "id": "MK6fX55rMSIa"
   },
   "outputs": [
    {
     "data": {
      "image/png": "[encoded data removed]",
      "text/plain": [
       "<Figure size 460.8x345.6 with 1 Axes>"
      ]
     },
     "metadata": {
      "needs_background": "light"
     },
     "output_type": "display_data"
    }
   ],
   "source": [
    "if not exists('task_1.1/plots/y_loss.png'):\n",
    "    y_loss = y_history.history['loss']\n",
    "    y_val_loss = y_history.history['val_loss']\n",
    "    epochs = range(1, EPOCHS + 1)\n",
    "    plt.plot(epochs, y_loss, 'b', label='y training loss')\n",
    "    plt.plot(epochs, y_val_loss, 'y', label='y validation loss')\n",
    "    plt.title('Loss')\n",
    "    plt.xlabel('Epochs')\n",
    "    plt.ylabel('MSE')\n",
    "    plt.legend()\n",
    "    plt.savefig('task_1.1/plots/y_loss.png')\n",
    "    plt.show()\n",
    "else:\n",
    "    img = mpimg.imread('task_1.1/plots/y_loss.png')\n",
    "    imgplot = plt.imshow(img)\n",
    "    plt.axis('off')\n",
    "    plt.show()"
   ]
  },
  {
   "cell_type": "code",
   "execution_count": 17,
   "metadata": {
    "id": "f4Gr230LMS6C"
   },
   "outputs": [
    {
     "data": {
      "image/png": "[encoded data removed]",
      "text/plain": [
       "<Figure size 460.8x345.6 with 1 Axes>"
      ]
     },
     "metadata": {
      "needs_background": "light"
     },
     "output_type": "display_data"
    }
   ],
   "source": [
    "if not exists('task_1.1/plots/z_loss.png'):\n",
    "    z_loss = z_history.history['loss']\n",
    "    z_val_loss = z_history.history['val_loss']\n",
    "    epochs = range(1, EPOCHS + 1)\n",
    "    plt.plot(epochs, z_loss, 'b', label='z training loss')\n",
    "    plt.plot(epochs, z_val_loss, 'y', label='z validation loss')\n",
    "    plt.title('Loss')\n",
    "    plt.xlabel('Epochs')\n",
    "    plt.ylabel('MSE')\n",
    "    plt.legend()\n",
    "    plt.savefig('task_1.1/plots/z_loss.png')\n",
    "    plt.show()\n",
    "else:\n",
    "    img = mpimg.imread('task_1.1/plots/z_loss.png')\n",
    "    imgplot = plt.imshow(img)\n",
    "    plt.axis('off')\n",
    "    plt.show()"
   ]
  },
  {
   "cell_type": "code",
   "execution_count": 18,
   "metadata": {
    "id": "x49mDpq19Z88"
   },
   "outputs": [
    {
     "data": {
      "image/png": "[encoded data removed]",
      "text/plain": [
       "<Figure size 460.8x345.6 with 1 Axes>"
      ]
     },
     "metadata": {
      "needs_background": "light"
     },
     "output_type": "display_data"
    }
   ],
   "source": [
    "if not exists('task_1.1/plots/x_mae.png'):\n",
    "    x_mae = x_history.history['mean_absolute_error']\n",
    "    x_val_mae = x_history.history['val_mean_absolute_error']\n",
    "    epochs = range(1, EPOCHS + 1)\n",
    "    plt.plot(epochs, x_mae, 'b', label='x training mae')\n",
    "    plt.plot(epochs, x_val_mae, 'y', label='x validation mae')\n",
    "    plt.title('MAE')\n",
    "    plt.xlabel('Epochs')\n",
    "    plt.ylabel('MAE')\n",
    "    plt.legend()\n",
    "    plt.savefig('task_1.1/plots/x_mae.png')\n",
    "    plt.show()\n",
    "else:\n",
    "    img = mpimg.imread('task_1.1/plots/x_mae.png')\n",
    "    imgplot = plt.imshow(img)\n",
    "    plt.axis('off')\n",
    "    plt.show()"
   ]
  },
  {
   "cell_type": "code",
   "execution_count": 19,
   "metadata": {
    "id": "eqoV0kuFMd3w"
   },
   "outputs": [
    {
     "data": {
      "image/png": "[encoded data removed]",
      "text/plain": [
       "<Figure size 460.8x345.6 with 1 Axes>"
      ]
     },
     "metadata": {
      "needs_background": "light"
     },
     "output_type": "display_data"
    }
   ],
   "source": [
    "if not exists('task_1.1/plots/y_mae.png'):\n",
    "    y_mae = y_history.history['mean_absolute_error']\n",
    "    y_val_mae = y_history.history['val_mean_absolute_error']\n",
    "    epochs = range(1, EPOCHS + 1)\n",
    "    plt.plot(epochs, y_mae, 'b', label='y training mae')\n",
    "    plt.plot(epochs, y_val_mae, 'y', label='y validation mae')\n",
    "    plt.title('MAE')\n",
    "    plt.xlabel('Epochs')\n",
    "    plt.ylabel('MAE')\n",
    "    plt.legend()\n",
    "    plt.savefig('task_1.1/plots/y_mae.png')\n",
    "    plt.show()\n",
    "else:\n",
    "    img = mpimg.imread('task_1.1/plots/y_mae.png')\n",
    "    imgplot = plt.imshow(img)\n",
    "    plt.axis('off')\n",
    "    plt.show()"
   ]
  },
  {
   "cell_type": "code",
   "execution_count": 20,
   "metadata": {
    "id": "y9XXd2jrMemL"
   },
   "outputs": [
    {
     "data": {
      "image/png": "[encoded data removed]",
      "text/plain": [
       "<Figure size 460.8x345.6 with 1 Axes>"
      ]
     },
     "metadata": {
      "needs_background": "light"
     },
     "output_type": "display_data"
    }
   ],
   "source": [
    "if not exists('task_1.1/plots/z_mae.png'):\n",
    "    z_mae = z_history.history['mean_absolute_error']\n",
    "    z_val_mae = z_history.history['val_mean_absolute_error']\n",
    "    epochs = range(1, EPOCHS + 1)\n",
    "    plt.plot(epochs, z_mae, 'b', label='z training mae')\n",
    "    plt.plot(epochs, z_val_mae, 'y', label='z validation mae')\n",
    "    plt.title('MAE')\n",
    "    plt.xlabel('Epochs')\n",
    "    plt.ylabel('MAE')\n",
    "    plt.legend()\n",
    "    plt.savefig('task_1.1/plots/z_mae.png')\n",
    "    plt.show()\n",
    "else:\n",
    "    img = mpimg.imread('task_1.1/plots/z_mae.png')\n",
    "    imgplot = plt.imshow(img)\n",
    "    plt.axis('off')\n",
    "    plt.show()"
   ]
  },
  {
   "cell_type": "markdown",
   "metadata": {
    "id": "h9m-FYDF-ifa"
   },
   "source": [
    "### 1.2.9 Evaluation\n",
    "\n",
    "Targets:\n",
    "- x = 81.06\n",
    "- y = 85.26\n",
    "- z = 79.94"
   ]
  },
  {
   "cell_type": "code",
   "execution_count": 21,
   "metadata": {
    "id": "KZ3ogayDj3HQ"
   },
   "outputs": [
    {
     "name": "stdout",
     "output_type": "stream",
     "text": [
      "773/773 [==============================] - 28s 33ms/step - loss: 27998.5176 - mean_absolute_error: 77.6206\n",
      "773/773 [==============================] - 44s 56ms/step - loss: 26341.1289 - mean_absolute_error: 84.3111\n",
      "773/773 [==============================] - 18s 22ms/step - loss: 22666.8672 - mean_absolute_error: 78.3938\n",
      "x_mean_absolute_error:\t77.6206283569336\n",
      "y_mean_absolute_error:\t84.31108093261719\n",
      "z_mean_absolute_error:\t78.39376068115234\n"
     ]
    }
   ],
   "source": [
    "test_data = pd.read_csv('dataset_task_1/test.csv')\n",
    "\n",
    "x_test_data = np.reshape(test_data.x.to_numpy(), (-1, 1))\n",
    "y_test_data = np.reshape(test_data.y.to_numpy(), (-1, 1))\n",
    "z_test_data = np.reshape(test_data.z.to_numpy(), (-1, 1))\n",
    "\n",
    "x_test_features, x_test_labels = features_and_labels(x_test_data, window_size=30, window_shift=6)\n",
    "y_test_features, y_test_labels = features_and_labels(y_test_data, window_size=30, window_shift=6)\n",
    "z_test_features, z_test_labels = features_and_labels(z_test_data, window_size=30, window_shift=6)\n",
    "\n",
    "x_test_features = x_scaler.transform(x_test_features)\n",
    "y_test_features = y_scaler.transform(y_test_features)\n",
    "z_test_features = z_scaler.transform(z_test_features)\n",
    "\n",
    "# Loading the best models for each time series\n",
    "x_model.load_weights('task_1.1/models/x')\n",
    "y_model.load_weights('task_1.1/models/y')\n",
    "z_model.load_weights('task_1.1/models/z')\n",
    "\n",
    "x_evaluation = x_model.evaluate(x_test_features, x_test_labels)[1]\n",
    "y_evaluation = y_model.evaluate(y_test_features, y_test_labels)[1]\n",
    "z_evaluation = z_model.evaluate(z_test_features, z_test_labels)[1]\n",
    "\n",
    "print(f'x_mean_absolute_error:\\t{x_evaluation}')\n",
    "print(f'y_mean_absolute_error:\\t{y_evaluation}')\n",
    "print(f'z_mean_absolute_error:\\t{z_evaluation}')"
   ]
  },
  {
   "cell_type": "markdown",
   "metadata": {
    "id": "N9uFsJPTCY3N"
   },
   "source": [
    "### 1.2.10 Predict some values\n",
    "We predict some values to look at how good it is."
   ]
  },
  {
   "cell_type": "code",
   "execution_count": 22,
   "metadata": {
    "id": "2gEmCPgow1Kq"
   },
   "outputs": [
    {
     "name": "stdout",
     "output_type": "stream",
     "text": [
      "x\n",
      "expected prediction:\t[576]\n",
      "actual prediction:\t[580.3734]\n",
      "y\n",
      "expected prediction:\t[-407]\n",
      "actual prediction:\t[-419.1903]\n",
      "z\n",
      "expected prediction:\t[-730]\n",
      "actual prediction:\t[-713.19415]\n"
     ]
    }
   ],
   "source": [
    "index = 1\n",
    "\n",
    "print(f'x')\n",
    "expected_prediction = x_test_labels[index]\n",
    "test = np.reshape(x_test_features[index], (1, x_test_features[index].shape[0]))\n",
    "actual_prediction = x_model.predict(test)[0]\n",
    "print(f'expected prediction:\\t{expected_prediction}')\n",
    "print(f'actual prediction:\\t{actual_prediction}')\n",
    "\n",
    "print(f'y')\n",
    "expected_prediction = y_test_labels[index]\n",
    "test = np.reshape(y_test_features[index], (1, y_test_features[index].shape[0]))\n",
    "actual_prediction = y_model.predict(test)[0]\n",
    "print(f'expected prediction:\\t{expected_prediction}')\n",
    "print(f'actual prediction:\\t{actual_prediction}')\n",
    "\n",
    "print(f'z')\n",
    "expected_prediction = z_test_labels[index]\n",
    "test = np.reshape(z_test_features[index], (1, z_test_features[index].shape[0]))\n",
    "actual_prediction = z_model.predict(test)[0]\n",
    "print(f'expected prediction:\\t{expected_prediction}')\n",
    "print(f'actual prediction:\\t{actual_prediction}')"
   ]
  },
  {
   "cell_type": "markdown",
   "metadata": {
    "id": "kYDqaKyYERkV",
    "jp-MarkdownHeadingCollapsed": true,
    "tags": []
   },
   "source": [
    "## 1.3 Best window size and window shift selection\n",
    "Now we need to try to find the best <code>window_size</code> and <code>window_shift</code> that better fit the model of one of the time series. We choose the y time series."
   ]
  },
  {
   "cell_type": "markdown",
   "metadata": {
    "id": "AwrljuD_Ew6A"
   },
   "source": [
    "### 1.3.1 Definition of search space"
   ]
  },
  {
   "cell_type": "code",
   "execution_count": 23,
   "metadata": {
    "id": "5vBnfJgYE1wu"
   },
   "outputs": [],
   "source": [
    "window_sizes = [\n",
    " 18,  # 10 seconds sequences in 3 minutes\n",
    " 24,  # 10 seconds sequences in 4 minutes\n",
    " 30,  # 10 seconds sequences in 5 minutes\n",
    " 36,  # 10 seconds sequences in 6 minutes\n",
    " 42,  # 10 seconds sequences in 7 minutes\n",
    "]\n",
    "\n",
    "window_shifts = [\n",
    " 1,  # 10 seconds shift\n",
    " 3,  # 30 seconds shift\n",
    " 6,  # 1 minute shift\n",
    " 9,  # 1 minute and 30 seconds shift\n",
    "]"
   ]
  },
  {
   "cell_type": "markdown",
   "metadata": {
    "id": "hPdMHhpMFfMo"
   },
   "source": [
    "### 1.3.2 Model building, fitting and evaluation\n",
    "For each combination, we build the model, fit it, evaluate it and save all the information."
   ]
  },
  {
   "cell_type": "code",
   "execution_count": 24,
   "metadata": {
    "id": "Tm4-C-_21LjY"
   },
   "outputs": [
    {
     "name": "stdout",
     "output_type": "stream",
     "text": [
      "window_size: 18 - window_shift: 1\n",
      "starting to fit...\n",
      "fit ended!\n",
      "starting to evaluate...\n",
      "4637/4637 [==============================] - 169s 36ms/step - loss: 25420.2051 - mean_absolute_error: 85.3548\n",
      "evaluation ended!\n",
      "window_size: 18 - window_shift: 3\n",
      "starting to fit...\n",
      "fit ended!\n",
      "starting to evaluate...\n",
      "1546/1546 [==============================] - 54s 34ms/step - loss: 26294.8633 - mean_absolute_error: 86.2145\n",
      "evaluation ended!\n",
      "window_size: 18 - window_shift: 6\n",
      "WARNING:tensorflow:Unresolved object in checkpoint: (root).optimizer.iter\n",
      "WARNING:tensorflow:Unresolved object in checkpoint: (root).optimizer.beta_1\n",
      "WARNING:tensorflow:Unresolved object in checkpoint: (root).optimizer.beta_2\n",
      "WARNING:tensorflow:Unresolved object in checkpoint: (root).optimizer.decay\n",
      "WARNING:tensorflow:Unresolved object in checkpoint: (root).optimizer.learning_rate\n",
      "WARNING:tensorflow:A checkpoint was restored (e.g. tf.train.Checkpoint.restore or tf.keras.Model.load_weights) but not all checkpointed values were used. See above for specific issues. Use expect_partial() on the load status object, e.g. tf.train.Checkpoint.restore(...).expect_partial(), to silence these warnings, or use assert_consumed() to make the check explicit. See https://www.tensorflow.org/guide/checkpoint#loading_mechanics for details.\n",
      "starting to fit...\n",
      "fit ended!\n",
      "starting to evaluate...\n",
      "773/773 [==============================] - 28s 34ms/step - loss: 25629.2852 - mean_absolute_error: 84.8304\n",
      "evaluation ended!\n",
      "window_size: 18 - window_shift: 9\n",
      "starting to fit...\n",
      "fit ended!\n",
      "starting to evaluate...\n",
      "516/516 [==============================] - 20s 36ms/step - loss: 25535.5801 - mean_absolute_error: 86.7556\n",
      "evaluation ended!\n",
      "window_size: 24 - window_shift: 1\n",
      "starting to fit...\n",
      "fit ended!\n",
      "starting to evaluate...\n",
      "4636/4636 [==============================] - 214s 46ms/step - loss: 25603.7793 - mean_absolute_error: 83.6524\n",
      "evaluation ended!\n",
      "window_size: 24 - window_shift: 3\n",
      "WARNING:tensorflow:Unresolved object in checkpoint: (root).optimizer.iter\n",
      "WARNING:tensorflow:Unresolved object in checkpoint: (root).optimizer.beta_1\n",
      "WARNING:tensorflow:Unresolved object in checkpoint: (root).optimizer.beta_2\n",
      "WARNING:tensorflow:Unresolved object in checkpoint: (root).optimizer.decay\n",
      "WARNING:tensorflow:Unresolved object in checkpoint: (root).optimizer.learning_rate\n",
      "WARNING:tensorflow:A checkpoint was restored (e.g. tf.train.Checkpoint.restore or tf.keras.Model.load_weights) but not all checkpointed values were used. See above for specific issues. Use expect_partial() on the load status object, e.g. tf.train.Checkpoint.restore(...).expect_partial(), to silence these warnings, or use assert_consumed() to make the check explicit. See https://www.tensorflow.org/guide/checkpoint#loading_mechanics for details.\n",
      "WARNING:tensorflow:Unresolved object in checkpoint: (root).optimizer.iter\n",
      "WARNING:tensorflow:Unresolved object in checkpoint: (root).optimizer.beta_1\n",
      "WARNING:tensorflow:Unresolved object in checkpoint: (root).optimizer.beta_2\n",
      "WARNING:tensorflow:Unresolved object in checkpoint: (root).optimizer.decay\n",
      "WARNING:tensorflow:Unresolved object in checkpoint: (root).optimizer.learning_rate\n",
      "WARNING:tensorflow:A checkpoint was restored (e.g. tf.train.Checkpoint.restore or tf.keras.Model.load_weights) but not all checkpointed values were used. See above for specific issues. Use expect_partial() on the load status object, e.g. tf.train.Checkpoint.restore(...).expect_partial(), to silence these warnings, or use assert_consumed() to make the check explicit. See https://www.tensorflow.org/guide/checkpoint#loading_mechanics for details.\n",
      "WARNING:tensorflow:Unresolved object in checkpoint: (root).optimizer.iter\n",
      "WARNING:tensorflow:Unresolved object in checkpoint: (root).optimizer.beta_1\n",
      "WARNING:tensorflow:Unresolved object in checkpoint: (root).optimizer.beta_2\n",
      "WARNING:tensorflow:Unresolved object in checkpoint: (root).optimizer.decay\n",
      "WARNING:tensorflow:Unresolved object in checkpoint: (root).optimizer.learning_rate\n",
      "WARNING:tensorflow:A checkpoint was restored (e.g. tf.train.Checkpoint.restore or tf.keras.Model.load_weights) but not all checkpointed values were used. See above for specific issues. Use expect_partial() on the load status object, e.g. tf.train.Checkpoint.restore(...).expect_partial(), to silence these warnings, or use assert_consumed() to make the check explicit. See https://www.tensorflow.org/guide/checkpoint#loading_mechanics for details.\n",
      "starting to fit...\n",
      "fit ended!\n",
      "starting to evaluate...\n",
      "1546/1546 [==============================] - 71s 45ms/step - loss: 26586.4258 - mean_absolute_error: 87.9144\n",
      "evaluation ended!\n",
      "window_size: 24 - window_shift: 6\n",
      "starting to fit...\n",
      "fit ended!\n",
      "starting to evaluate...\n",
      "773/773 [==============================] - 39s 48ms/step - loss: 25914.6855 - mean_absolute_error: 83.7120\n",
      "evaluation ended!\n",
      "window_size: 24 - window_shift: 9\n",
      "starting to fit...\n",
      "fit ended!\n",
      "starting to evaluate...\n",
      "516/516 [==============================] - 26s 46ms/step - loss: 26544.9512 - mean_absolute_error: 86.7441\n",
      "evaluation ended!\n",
      "window_size: 30 - window_shift: 1\n",
      "starting to fit...\n",
      "fit ended!\n",
      "starting to evaluate...\n",
      "WARNING:tensorflow:Unresolved object in checkpoint: (root).optimizer.iter\n",
      "WARNING:tensorflow:Unresolved object in checkpoint: (root).optimizer.beta_1\n",
      "WARNING:tensorflow:Unresolved object in checkpoint: (root).optimizer.beta_2\n",
      "WARNING:tensorflow:Unresolved object in checkpoint: (root).optimizer.decay\n",
      "WARNING:tensorflow:Unresolved object in checkpoint: (root).optimizer.learning_rate\n",
      "WARNING:tensorflow:A checkpoint was restored (e.g. tf.train.Checkpoint.restore or tf.keras.Model.load_weights) but not all checkpointed values were used. See above for specific issues. Use expect_partial() on the load status object, e.g. tf.train.Checkpoint.restore(...).expect_partial(), to silence these warnings, or use assert_consumed() to make the check explicit. See https://www.tensorflow.org/guide/checkpoint#loading_mechanics for details.\n",
      "WARNING:tensorflow:Unresolved object in checkpoint: (root).optimizer.iter\n",
      "WARNING:tensorflow:Unresolved object in checkpoint: (root).optimizer.beta_1\n",
      "WARNING:tensorflow:Unresolved object in checkpoint: (root).optimizer.beta_2\n",
      "WARNING:tensorflow:Unresolved object in checkpoint: (root).optimizer.decay\n",
      "WARNING:tensorflow:Unresolved object in checkpoint: (root).optimizer.learning_rate\n",
      "WARNING:tensorflow:A checkpoint was restored (e.g. tf.train.Checkpoint.restore or tf.keras.Model.load_weights) but not all checkpointed values were used. See above for specific issues. Use expect_partial() on the load status object, e.g. tf.train.Checkpoint.restore(...).expect_partial(), to silence these warnings, or use assert_consumed() to make the check explicit. See https://www.tensorflow.org/guide/checkpoint#loading_mechanics for details.\n",
      "WARNING:tensorflow:Unresolved object in checkpoint: (root).optimizer.iter\n",
      "WARNING:tensorflow:Unresolved object in checkpoint: (root).optimizer.beta_1\n",
      "WARNING:tensorflow:Unresolved object in checkpoint: (root).optimizer.beta_2\n",
      "WARNING:tensorflow:Unresolved object in checkpoint: (root).optimizer.decay\n",
      "WARNING:tensorflow:Unresolved object in checkpoint: (root).optimizer.learning_rate\n",
      "WARNING:tensorflow:A checkpoint was restored (e.g. tf.train.Checkpoint.restore or tf.keras.Model.load_weights) but not all checkpointed values were used. See above for specific issues. Use expect_partial() on the load status object, e.g. tf.train.Checkpoint.restore(...).expect_partial(), to silence these warnings, or use assert_consumed() to make the check explicit. See https://www.tensorflow.org/guide/checkpoint#loading_mechanics for details.\n",
      "WARNING:tensorflow:Unresolved object in checkpoint: (root).optimizer.iter\n",
      "WARNING:tensorflow:Unresolved object in checkpoint: (root).optimizer.beta_1\n",
      "WARNING:tensorflow:Unresolved object in checkpoint: (root).optimizer.beta_2\n",
      "WARNING:tensorflow:Unresolved object in checkpoint: (root).optimizer.decay\n",
      "WARNING:tensorflow:Unresolved object in checkpoint: (root).optimizer.learning_rate\n",
      "WARNING:tensorflow:A checkpoint was restored (e.g. tf.train.Checkpoint.restore or tf.keras.Model.load_weights) but not all checkpointed values were used. See above for specific issues. Use expect_partial() on the load status object, e.g. tf.train.Checkpoint.restore(...).expect_partial(), to silence these warnings, or use assert_consumed() to make the check explicit. See https://www.tensorflow.org/guide/checkpoint#loading_mechanics for details.\n",
      "4636/4636 [==============================] - 274s 59ms/step - loss: 25720.8008 - mean_absolute_error: 82.2438\n",
      "evaluation ended!\n",
      "window_size: 30 - window_shift: 3\n",
      "starting to fit...\n",
      "fit ended!\n",
      "starting to evaluate...\n",
      "1546/1546 [==============================] - 90s 57ms/step - loss: 25764.2227 - mean_absolute_error: 84.6936\n",
      "evaluation ended!\n",
      "window_size: 30 - window_shift: 6\n",
      "starting to fit...\n",
      "fit ended!\n",
      "starting to evaluate...\n",
      "773/773 [==============================] - 44s 55ms/step - loss: 26341.1289 - mean_absolute_error: 84.3111\n",
      "evaluation ended!\n",
      "window_size: 30 - window_shift: 9\n",
      "starting to fit...\n",
      "fit ended!\n",
      "starting to evaluate...\n",
      "WARNING:tensorflow:Unresolved object in checkpoint: (root).optimizer.iter\n",
      "WARNING:tensorflow:Unresolved object in checkpoint: (root).optimizer.beta_1\n",
      "WARNING:tensorflow:Unresolved object in checkpoint: (root).optimizer.beta_2\n",
      "WARNING:tensorflow:Unresolved object in checkpoint: (root).optimizer.decay\n",
      "WARNING:tensorflow:Unresolved object in checkpoint: (root).optimizer.learning_rate\n",
      "WARNING:tensorflow:A checkpoint was restored (e.g. tf.train.Checkpoint.restore or tf.keras.Model.load_weights) but not all checkpointed values were used. See above for specific issues. Use expect_partial() on the load status object, e.g. tf.train.Checkpoint.restore(...).expect_partial(), to silence these warnings, or use assert_consumed() to make the check explicit. See https://www.tensorflow.org/guide/checkpoint#loading_mechanics for details.\n",
      "WARNING:tensorflow:Unresolved object in checkpoint: (root).optimizer.iter\n",
      "WARNING:tensorflow:Unresolved object in checkpoint: (root).optimizer.beta_1\n",
      "WARNING:tensorflow:Unresolved object in checkpoint: (root).optimizer.beta_2\n",
      "WARNING:tensorflow:Unresolved object in checkpoint: (root).optimizer.decay\n",
      "WARNING:tensorflow:Unresolved object in checkpoint: (root).optimizer.learning_rate\n",
      "WARNING:tensorflow:A checkpoint was restored (e.g. tf.train.Checkpoint.restore or tf.keras.Model.load_weights) but not all checkpointed values were used. See above for specific issues. Use expect_partial() on the load status object, e.g. tf.train.Checkpoint.restore(...).expect_partial(), to silence these warnings, or use assert_consumed() to make the check explicit. See https://www.tensorflow.org/guide/checkpoint#loading_mechanics for details.\n",
      "WARNING:tensorflow:Unresolved object in checkpoint: (root).optimizer.iter\n",
      "WARNING:tensorflow:Unresolved object in checkpoint: (root).optimizer.beta_1\n",
      "WARNING:tensorflow:Unresolved object in checkpoint: (root).optimizer.beta_2\n",
      "WARNING:tensorflow:Unresolved object in checkpoint: (root).optimizer.decay\n",
      "WARNING:tensorflow:Unresolved object in checkpoint: (root).optimizer.learning_rate\n",
      "WARNING:tensorflow:A checkpoint was restored (e.g. tf.train.Checkpoint.restore or tf.keras.Model.load_weights) but not all checkpointed values were used. See above for specific issues. Use expect_partial() on the load status object, e.g. tf.train.Checkpoint.restore(...).expect_partial(), to silence these warnings, or use assert_consumed() to make the check explicit. See https://www.tensorflow.org/guide/checkpoint#loading_mechanics for details.\n",
      "516/516 [==============================] - 35s 65ms/step - loss: 27590.9512 - mean_absolute_error: 89.0134\n",
      "evaluation ended!\n",
      "window_size: 36 - window_shift: 1\n",
      "starting to fit...\n",
      "fit ended!\n",
      "starting to evaluate...\n",
      "4636/4636 [==============================] - 318s 68ms/step - loss: 26302.9473 - mean_absolute_error: 84.0687\n",
      "evaluation ended!\n",
      "window_size: 36 - window_shift: 3\n",
      "starting to fit...\n",
      "fit ended!\n",
      "starting to evaluate...\n",
      "1546/1546 [==============================] - 115s 73ms/step - loss: 25970.7129 - mean_absolute_error: 84.0325\n",
      "evaluation ended!\n",
      "window_size: 36 - window_shift: 6\n",
      "starting to fit...\n",
      "fit ended!\n",
      "starting to evaluate...\n",
      "WARNING:tensorflow:Unresolved object in checkpoint: (root).optimizer.iter\n",
      "WARNING:tensorflow:Unresolved object in checkpoint: (root).optimizer.beta_1\n",
      "WARNING:tensorflow:Unresolved object in checkpoint: (root).optimizer.beta_2\n",
      "WARNING:tensorflow:Unresolved object in checkpoint: (root).optimizer.decay\n",
      "WARNING:tensorflow:Unresolved object in checkpoint: (root).optimizer.learning_rate\n",
      "WARNING:tensorflow:A checkpoint was restored (e.g. tf.train.Checkpoint.restore or tf.keras.Model.load_weights) but not all checkpointed values were used. See above for specific issues. Use expect_partial() on the load status object, e.g. tf.train.Checkpoint.restore(...).expect_partial(), to silence these warnings, or use assert_consumed() to make the check explicit. See https://www.tensorflow.org/guide/checkpoint#loading_mechanics for details.\n",
      "WARNING:tensorflow:Unresolved object in checkpoint: (root).optimizer.iter\n",
      "WARNING:tensorflow:Unresolved object in checkpoint: (root).optimizer.beta_1\n",
      "WARNING:tensorflow:Unresolved object in checkpoint: (root).optimizer.beta_2\n",
      "WARNING:tensorflow:Unresolved object in checkpoint: (root).optimizer.decay\n",
      "WARNING:tensorflow:Unresolved object in checkpoint: (root).optimizer.learning_rate\n",
      "WARNING:tensorflow:A checkpoint was restored (e.g. tf.train.Checkpoint.restore or tf.keras.Model.load_weights) but not all checkpointed values were used. See above for specific issues. Use expect_partial() on the load status object, e.g. tf.train.Checkpoint.restore(...).expect_partial(), to silence these warnings, or use assert_consumed() to make the check explicit. See https://www.tensorflow.org/guide/checkpoint#loading_mechanics for details.\n",
      "WARNING:tensorflow:Unresolved object in checkpoint: (root).optimizer.iter\n",
      "WARNING:tensorflow:Unresolved object in checkpoint: (root).optimizer.beta_1\n",
      "WARNING:tensorflow:Unresolved object in checkpoint: (root).optimizer.beta_2\n",
      "WARNING:tensorflow:Unresolved object in checkpoint: (root).optimizer.decay\n",
      "WARNING:tensorflow:Unresolved object in checkpoint: (root).optimizer.learning_rate\n",
      "WARNING:tensorflow:A checkpoint was restored (e.g. tf.train.Checkpoint.restore or tf.keras.Model.load_weights) but not all checkpointed values were used. See above for specific issues. Use expect_partial() on the load status object, e.g. tf.train.Checkpoint.restore(...).expect_partial(), to silence these warnings, or use assert_consumed() to make the check explicit. See https://www.tensorflow.org/guide/checkpoint#loading_mechanics for details.\n",
      "773/773 [==============================] - 56s 70ms/step - loss: 25431.9297 - mean_absolute_error: 84.4137\n",
      "evaluation ended!\n",
      "window_size: 36 - window_shift: 9\n",
      "starting to fit...\n",
      "fit ended!\n",
      "starting to evaluate...\n",
      "516/516 [==============================] - 39s 72ms/step - loss: 25184.1914 - mean_absolute_error: 84.3712\n",
      "evaluation ended!\n",
      "window_size: 42 - window_shift: 1\n",
      "starting to fit...\n",
      "fit ended!\n",
      "starting to evaluate...\n",
      "4636/4636 [==============================] - 367s 79ms/step - loss: 25402.4160 - mean_absolute_error: 83.3698\n",
      "evaluation ended!\n",
      "window_size: 42 - window_shift: 3\n",
      "starting to fit...\n",
      "fit ended!\n",
      "starting to evaluate...\n",
      "WARNING:tensorflow:Unresolved object in checkpoint: (root).optimizer.iter\n",
      "WARNING:tensorflow:Unresolved object in checkpoint: (root).optimizer.beta_1\n",
      "WARNING:tensorflow:Unresolved object in checkpoint: (root).optimizer.beta_2\n",
      "WARNING:tensorflow:Unresolved object in checkpoint: (root).optimizer.decay\n",
      "WARNING:tensorflow:Unresolved object in checkpoint: (root).optimizer.learning_rate\n",
      "WARNING:tensorflow:A checkpoint was restored (e.g. tf.train.Checkpoint.restore or tf.keras.Model.load_weights) but not all checkpointed values were used. See above for specific issues. Use expect_partial() on the load status object, e.g. tf.train.Checkpoint.restore(...).expect_partial(), to silence these warnings, or use assert_consumed() to make the check explicit. See https://www.tensorflow.org/guide/checkpoint#loading_mechanics for details.\n",
      "WARNING:tensorflow:Unresolved object in checkpoint: (root).optimizer.iter\n",
      "WARNING:tensorflow:Unresolved object in checkpoint: (root).optimizer.beta_1\n",
      "WARNING:tensorflow:Unresolved object in checkpoint: (root).optimizer.beta_2\n",
      "WARNING:tensorflow:Unresolved object in checkpoint: (root).optimizer.decay\n",
      "WARNING:tensorflow:Unresolved object in checkpoint: (root).optimizer.learning_rate\n",
      "WARNING:tensorflow:A checkpoint was restored (e.g. tf.train.Checkpoint.restore or tf.keras.Model.load_weights) but not all checkpointed values were used. See above for specific issues. Use expect_partial() on the load status object, e.g. tf.train.Checkpoint.restore(...).expect_partial(), to silence these warnings, or use assert_consumed() to make the check explicit. See https://www.tensorflow.org/guide/checkpoint#loading_mechanics for details.\n",
      "WARNING:tensorflow:Unresolved object in checkpoint: (root).optimizer.iter\n",
      "WARNING:tensorflow:Unresolved object in checkpoint: (root).optimizer.beta_1\n",
      "WARNING:tensorflow:Unresolved object in checkpoint: (root).optimizer.beta_2\n",
      "WARNING:tensorflow:Unresolved object in checkpoint: (root).optimizer.decay\n",
      "WARNING:tensorflow:Unresolved object in checkpoint: (root).optimizer.learning_rate\n",
      "WARNING:tensorflow:A checkpoint was restored (e.g. tf.train.Checkpoint.restore or tf.keras.Model.load_weights) but not all checkpointed values were used. See above for specific issues. Use expect_partial() on the load status object, e.g. tf.train.Checkpoint.restore(...).expect_partial(), to silence these warnings, or use assert_consumed() to make the check explicit. See https://www.tensorflow.org/guide/checkpoint#loading_mechanics for details.\n",
      "1546/1546 [==============================] - 127s 81ms/step - loss: 26703.6914 - mean_absolute_error: 85.0109\n",
      "evaluation ended!\n",
      "window_size: 42 - window_shift: 6\n",
      "starting to fit...\n",
      "fit ended!\n",
      "starting to evaluate...\n",
      "773/773 [==============================] - 60s 76ms/step - loss: 26460.7520 - mean_absolute_error: 86.5559\n",
      "evaluation ended!\n",
      "window_size: 42 - window_shift: 9\n",
      "starting to fit...\n",
      "fit ended!\n",
      "starting to evaluate...\n",
      "516/516 [==============================] - 41s 76ms/step - loss: 26726.9023 - mean_absolute_error: 88.2021\n",
      "evaluation ended!\n"
     ]
    }
   ],
   "source": [
    "evaluations = []\n",
    "for window_size in window_sizes:\n",
    "    for window_shift in window_shifts:\n",
    "        print(f'window_size: {window_size} - window_shift: {window_shift}')\n",
    "\n",
    "        features, labels = features_and_labels(y_data, window_size, window_shift)\n",
    "        scaler = StandardScaler()\n",
    "        scaler.fit(features)\n",
    "        features = scaler.transform(features)\n",
    "        train_features, val_features, train_labels, val_labels = train_test_split(features, labels, test_size=0.2, random_state=7)\n",
    "\n",
    "        test_features, test_labels = features_and_labels(y_test_data, window_size, window_shift)\n",
    "        test_features = scaler.transform(test_features)\n",
    "\n",
    "        model = build_model((window_size, 1), y_best_hps['units_1'], y_best_hps['units_2'], y_best_hps['units_3'], y_best_hps['units_4'], y_best_hps['learning_rate'])\n",
    "\n",
    "        print(f'starting to fit...')\n",
    "        if not exists(f'task_1.2/models/{window_size}-{window_shift}.index'):\n",
    "            model_checkpoint_callback = callbacks.ModelCheckpoint(f'task_1.2/models/{window_size}-{window_shift}', save_weights_only=True, monitor='val_mean_absolute_error', mode='min', save_best_only=True)\n",
    "            model.fit(train_features, train_labels, validation_data=(val_features, val_labels), epochs=EPOCHS, batch_size=BATCH_SIZE, callbacks=[model_checkpoint_callback])\n",
    "        print(f'fit ended!')\n",
    "        print(f'starting to evaluate...')\n",
    "        model.load_weights(f'task_1.2/models/{window_size}-{window_shift}')\n",
    "        evaluation = model.evaluate(test_features, test_labels)[1]\n",
    "        evaluations.append((evaluation, f'{window_size}-{window_shift}'))\n",
    "        print(f'evaluation ended!')"
   ]
  },
  {
   "cell_type": "markdown",
   "metadata": {
    "id": "TpTGsMd7Hcic"
   },
   "source": [
    "### 1.3.3 Printing and plotting evaluations"
   ]
  },
  {
   "cell_type": "code",
   "execution_count": 25,
   "metadata": {
    "id": "O9y9cJSN2LLu"
   },
   "outputs": [
    {
     "data": {
      "image/png": "[encoded data removed]",
      "text/plain": [
       "<Figure size 1224x216 with 1 Axes>"
      ]
     },
     "metadata": {
      "needs_background": "light"
     },
     "output_type": "display_data"
    }
   ],
   "source": [
    "evaluations.sort(key=lambda elem : elem[0])\n",
    "\n",
    "combinations = []\n",
    "values = []\n",
    "for evaluation in evaluations:\n",
    "    values.append(evaluation[0])\n",
    "    combinations.append(evaluation[1])\n",
    "\n",
    "plt.rcParams['figure.figsize'] = (17,3)\n",
    "plt.bar(combinations, values, label='Evaluation')\n",
    "plt.title('Loss')\n",
    "plt.ylim(min(values) - 1, max(values) + 1)\n",
    "plt.xlabel('Epochs')\n",
    "plt.ylabel('Evaluation')\n",
    "plt.legend()\n",
    "plt.show()\n",
    "plt.rcParams['figure.figsize'] = plt.rcParamsDefault['figure.figsize']"
   ]
  },
  {
   "cell_type": "code",
   "execution_count": 26,
   "metadata": {},
   "outputs": [
    {
     "name": "stdout",
     "output_type": "stream",
     "text": [
      "Best result:\t\t\t82.24378204345703\n",
      "Best window_size-window_shift:\t30-1\n"
     ]
    }
   ],
   "source": [
    "print(f'Best result:\\t\\t\\t{values[0]}')\n",
    "print(f'Best window_size-window_shift:\\t{combinations[0]}')"
   ]
  },
  {
   "cell_type": "markdown",
   "metadata": {
    "id": "mM-P26ZuskH4",
    "tags": []
   },
   "source": [
    "## 1.4 Considerations about possible correlations\n",
    "Now, we decide to build a model that takes in input all time series, in order to see if we can obtain more accurate results."
   ]
  },
  {
   "cell_type": "markdown",
   "metadata": {
    "id": "ruSvW7A4sy4M"
   },
   "source": [
    "### 1.4.1 Data preprocessing\n",
    "We reshape the data in order to have a feature set, containing records of a specific window size, and a label set, containing the next value for each window."
   ]
  },
  {
   "cell_type": "code",
   "execution_count": 36,
   "metadata": {
    "colab": {
     "base_uri": "https://localhost:8080/"
    },
    "id": "yQi36sFwb3Kf",
    "outputId": "3cac925d-dc99-439c-ed8a-8271488ffb78"
   },
   "outputs": [
    {
     "name": "stdout",
     "output_type": "stream",
     "text": [
      "[[ -24  749 -626]\n",
      " [-206  930  -63]\n",
      " [-139  763 -577]\n",
      " [-503  441 -557]\n",
      " [-278  705 -396]\n",
      " [ 240  839 -310]\n",
      " [-671  318 -213]\n",
      " [ -45  296 -927]\n",
      " [ 102  294 -888]\n",
      " [  15  635 -671]\n",
      " [ 142  101 -945]\n",
      " [   3  143  543]\n",
      " [-176  368  629]\n",
      " [-768 -547  202]\n",
      " [-838 -509  194]\n",
      " [-420  306  885]\n",
      " [-419  307  885]\n",
      " [-420  308  884]\n",
      " [-419  309  885]\n",
      " [-418  309  885]\n",
      " [-417  310  884]\n",
      " [-414  312  885]\n",
      " [-408  315  887]\n",
      " [-407  315  887]\n",
      " [-407  316  887]\n",
      " [-408  316  887]\n",
      " [-407  315  887]\n",
      " [-408  316  887]\n",
      " [-408  316  887]\n",
      " [-409  316  887]]\n",
      "[-408  316  887]\n"
     ]
    }
   ],
   "source": [
    "features = []\n",
    "labels = []\n",
    "\n",
    "for i in range(WINDOW_SIZE, len(data), WINDOW_SHIFT):\n",
    "    features.append(data.to_numpy()[i - WINDOW_SIZE:i])\n",
    "    labels.append(data.to_numpy()[i])\n",
    "features, labels = np.array(features), np.array(labels)\n",
    "\n",
    "print(features[0])\n",
    "print(labels[0])"
   ]
  },
  {
   "cell_type": "markdown",
   "metadata": {},
   "source": [
    "### 1.4.2 Data normalization\n",
    "\n",
    "We use the standard scaler, in order to normalize features."
   ]
  },
  {
   "cell_type": "code",
   "execution_count": 37,
   "metadata": {},
   "outputs": [
    {
     "data": {
      "text/plain": [
       "array([[-0.31871224,  1.31732579, -0.59142138],\n",
       "       [-0.68885218,  1.62155109,  0.45436087],\n",
       "       [-0.55259187,  1.34085703, -0.50040303],\n",
       "       [-1.29287176,  0.79963853, -0.46325269],\n",
       "       [-0.83528117,  1.24337046, -0.1641924 ],\n",
       "       [ 0.21819405,  1.46859804, -0.00444591],\n",
       "       [-1.63453939,  0.59289978,  0.17573327],\n",
       "       [-0.3614207 ,  0.55592212, -1.15053409],\n",
       "       [-0.06246151,  0.55256052, -1.07809092],\n",
       "       [-0.23939654,  1.12571427, -0.67500966],\n",
       "       [ 0.01888792,  0.22816558, -1.1839694 ],\n",
       "       [-0.26380137,  0.2987593 ,  1.58001636],\n",
       "       [-0.6278401 ,  0.67693992,  1.73976285],\n",
       "       [-1.83181178, -0.86099463,  0.94660296],\n",
       "       [-1.9741733 , -0.79712412,  0.93174282],\n",
       "       [-1.12407167,  0.57273015,  2.21528729],\n",
       "       [-1.12203794,  0.57441095,  2.21528729],\n",
       "       [-1.12407167,  0.57609176,  2.21342977],\n",
       "       [-1.12203794,  0.57777256,  2.21528729],\n",
       "       [-1.1200042 ,  0.57777256,  2.21528729],\n",
       "       [-1.11797047,  0.57945336,  2.21342977],\n",
       "       [-1.11186926,  0.58281497,  2.21528729],\n",
       "       [-1.09966684,  0.58785738,  2.21900232],\n",
       "       [-1.09763311,  0.58785738,  2.21900232],\n",
       "       [-1.09763311,  0.58953818,  2.21900232],\n",
       "       [-1.09966684,  0.58953818,  2.21900232],\n",
       "       [-1.09763311,  0.58785738,  2.21900232],\n",
       "       [-1.09966684,  0.58953818,  2.21900232],\n",
       "       [-1.09966684,  0.58953818,  2.21900232],\n",
       "       [-1.10170058,  0.58953818,  2.21900232]])"
      ]
     },
     "execution_count": 37,
     "metadata": {},
     "output_type": "execute_result"
    }
   ],
   "source": [
    "normalized_features = np.reshape(features, (-1, features.shape[-1]))\n",
    "\n",
    "scaler = StandardScaler()\n",
    "scaler.fit(normalized_features)\n",
    "normalized_features = scaler.transform(normalized_features)\n",
    "\n",
    "normalized_features = np.reshape(normalized_features, features.shape)\n",
    "features = normalized_features\n",
    "features[0]"
   ]
  },
  {
   "cell_type": "markdown",
   "metadata": {
    "id": "vs5ViXLrzkQR"
   },
   "source": [
    "### 1.4.3 Splitting in training set and validation set\n",
    "We are splitting the data in training data and validation data"
   ]
  },
  {
   "cell_type": "code",
   "execution_count": 38,
   "metadata": {
    "id": "ngeSTdMfuvIy"
   },
   "outputs": [],
   "source": [
    "train_features, val_features, train_labels, val_labels = train_test_split(features, labels, test_size=0.2, random_state=7)"
   ]
  },
  {
   "cell_type": "markdown",
   "metadata": {
    "id": "kVwBplk5ugQ6"
   },
   "source": [
    "### 1.4.4 Hyperparameter search\n",
    "\n",
    "We let the tuner look for the best parameters for each model."
   ]
  },
  {
   "cell_type": "code",
   "execution_count": 39,
   "metadata": {
    "colab": {
     "base_uri": "https://localhost:8080/"
    },
    "id": "qeftxctfk0e-",
    "outputId": "11abe4f0-ea10-4e9e-995b-4527ed582adb"
   },
   "outputs": [
    {
     "name": "stdout",
     "output_type": "stream",
     "text": [
      "INFO:tensorflow:Reloading Oracle from existing project task_1.3/tuner/all/oracle.json\n",
      "INFO:tensorflow:Reloading Tuner from task_1.3/tuner/all/tuner0.json\n",
      "INFO:tensorflow:Oracle triggered exit\n"
     ]
    }
   ],
   "source": [
    "tuner = keras_tuner.Hyperband(model_builder_three,\n",
    "                              objective='val_mean_absolute_error',\n",
    "                              max_epochs=15,\n",
    "                              factor=3,\n",
    "                              directory='task_1.3/tuner',\n",
    "                              project_name='all')\n",
    "\n",
    "tuner.search(train_features, train_labels, validation_data=(val_features, val_labels), epochs=EPOCHS, batch_size=BATCH_SIZE)\n",
    "best_hps = tuner.get_best_hyperparameters(num_trials=1)[0]"
   ]
  },
  {
   "cell_type": "code",
   "execution_count": 40,
   "metadata": {},
   "outputs": [
    {
     "name": "stdout",
     "output_type": "stream",
     "text": [
      "\n",
      "The hyperparameter search is complete.\n",
      "units_1:\t80\n",
      "units_2:\t64\n",
      "units_3:\t208\n",
      "units_4:\t208\n",
      "learning rate:\t0.001\n",
      "\n"
     ]
    }
   ],
   "source": [
    "print(f\"\"\"\n",
    "The hyperparameter search is complete.\n",
    "units_1:\\t{best_hps.get('units_1')}\n",
    "units_2:\\t{best_hps.get('units_2')}\n",
    "units_3:\\t{best_hps.get('units_3')}\n",
    "units_4:\\t{best_hps.get('units_4')}\n",
    "learning rate:\\t{best_hps.get('learning_rate')}\n",
    "\"\"\")"
   ]
  },
  {
   "cell_type": "markdown",
   "metadata": {
    "id": "yR0edFrOz_9F"
   },
   "source": [
    "### 1.4.5 Model building and fitting\n",
    "\n",
    "We build the models according to the parameters found by tuner, then fit the data."
   ]
  },
  {
   "cell_type": "code",
   "execution_count": 41,
   "metadata": {
    "colab": {
     "base_uri": "https://localhost:8080/",
     "height": 865
    },
    "id": "AN35kWVO0EZV",
    "outputId": "4bbed59b-32d9-4bbb-9f7e-6edf7dbcbe4a"
   },
   "outputs": [],
   "source": [
    "model = tuner.hypermodel.build(best_hps)\n",
    "\n",
    "plot_model(model, to_file='task_1.3/models/model.png', show_shapes=True, show_layer_names=True)\n",
    "if not exists('task_1.3/models/model.index'):\n",
    "    model_checkpoint_callback = callbacks.ModelCheckpoint('task_1.3/models/model', save_weights_only=True, monitor='val_mean_absolute_error', mode='min', save_best_only=True)\n",
    "    history = model.fit(train_features, train_labels, validation_data=(val_features, val_labels), epochs=EPOCHS, batch_size=BATCH_SIZE, callbacks=[model_checkpoint_callback])\n",
    "    if exists('task_1.3/plots/loss.png'):\n",
    "        remove('task_1.3/plots/loss.png')\n",
    "    if exists('task_1.3/plots/mae.png'):\n",
    "        remove('task_1.3/plots/mae.png')"
   ]
  },
  {
   "cell_type": "markdown",
   "metadata": {
    "id": "e-QddczM0_Wg"
   },
   "source": [
    "### 1.4.6 Plotting losses and metrics"
   ]
  },
  {
   "cell_type": "code",
   "execution_count": 42,
   "metadata": {
    "colab": {
     "base_uri": "https://localhost:8080/",
     "height": 295
    },
    "id": "r7nA8yyIq2TL",
    "outputId": "84a1c19c-f7e7-4bda-ac0f-4e7d736e845b"
   },
   "outputs": [
    {
     "data": {
      "image/png": "[encoded data removed]",
      "text/plain": [
       "<Figure size 460.8x345.6 with 1 Axes>"
      ]
     },
     "metadata": {
      "needs_background": "light"
     },
     "output_type": "display_data"
    }
   ],
   "source": [
    "if not exists('task_1.3/plots/loss.png'):\n",
    "    loss = history.history['loss']\n",
    "    val_loss = history.history['val_loss']\n",
    "    epochs = range(1, EPOCHS + 1)\n",
    "    plt.plot(epochs, loss, 'b', label='training loss')\n",
    "    plt.plot(epochs, val_loss, 'y', label='validation loss')\n",
    "    plt.title('Loss')\n",
    "    plt.xlabel('Epochs')\n",
    "    plt.ylabel('MSE')\n",
    "    plt.legend()\n",
    "    plt.savefig('task_1.3/plots/loss.png')\n",
    "    plt.show()\n",
    "else:\n",
    "    img = mpimg.imread('task_1.3/plots/loss.png')\n",
    "    imgplot = plt.imshow(img)\n",
    "    plt.axis('off')\n",
    "    plt.show()"
   ]
  },
  {
   "cell_type": "code",
   "execution_count": 43,
   "metadata": {
    "colab": {
     "base_uri": "https://localhost:8080/",
     "height": 295
    },
    "id": "5_3WiIupxg_Z",
    "outputId": "f617d301-eb5f-448f-acf9-4e43c1706762"
   },
   "outputs": [
    {
     "data": {
      "image/png": "[encoded data removed]",
      "text/plain": [
       "<Figure size 460.8x345.6 with 1 Axes>"
      ]
     },
     "metadata": {
      "needs_background": "light"
     },
     "output_type": "display_data"
    }
   ],
   "source": [
    "if not exists('task_1.3/plots/mae.png'):\n",
    "    mae = history.history['mean_absolute_error']\n",
    "    val_mae = history.history['val_mean_absolute_error']\n",
    "    epochs = range(1, EPOCHS + 1)\n",
    "    plt.plot(epochs, mae, 'b', label='training mae')\n",
    "    plt.plot(epochs, val_mae, 'y', label='validation mae')\n",
    "    plt.title('MAE')\n",
    "    plt.xlabel('Epochs')\n",
    "    plt.ylabel('MAE')\n",
    "    plt.legend()\n",
    "    plt.savefig('task_1.3/plots/mae.png')\n",
    "    plt.show()\n",
    "else:\n",
    "    img = mpimg.imread('task_1.3/plots/mae.png')\n",
    "    imgplot = plt.imshow(img)\n",
    "    plt.axis('off')\n",
    "    plt.show()"
   ]
  },
  {
   "cell_type": "markdown",
   "metadata": {
    "id": "4KYRDeWi1IOr"
   },
   "source": [
    "### 1.4.7 Evaluation"
   ]
  },
  {
   "cell_type": "code",
   "execution_count": 44,
   "metadata": {
    "colab": {
     "base_uri": "https://localhost:8080/"
    },
    "id": "4hoOegrqoAUt",
    "outputId": "01a78932-4e2e-4b98-ecde-69a540d96a83"
   },
   "outputs": [
    {
     "name": "stdout",
     "output_type": "stream",
     "text": [
      "755/755 [==============================] - 17s 21ms/step - loss: 27518.3887 - mean_absolute_error: 93.8679\n",
      "mean_absolute_error:\t93.86788177490234\n"
     ]
    }
   ],
   "source": [
    "test_features = []\n",
    "test_labels = []\n",
    "\n",
    "for i in range(WINDOW_SIZE, len(data), WINDOW_SHIFT):\n",
    "    test_features.append(test_data.to_numpy()[i - WINDOW_SIZE:i])\n",
    "    test_labels.append(test_data.to_numpy()[i])\n",
    "test_features, test_labels = np.array(test_features), np.array(test_labels)\n",
    "\n",
    "normalized_test_features = np.reshape(test_features, (-1, test_features.shape[-1]))\n",
    "normalized_test_features = scaler.transform(normalized_test_features)\n",
    "\n",
    "normalized_test_features = np.reshape(normalized_test_features, test_features.shape)\n",
    "test_features = normalized_test_features\n",
    "\n",
    "model.load_weights('task_1.3/models/model')\n",
    "evaluation = model.evaluate(test_features, test_labels)[1]\n",
    "print(f'mean_absolute_error:\\t{evaluation}')"
   ]
  }
 ],
 "metadata": {
  "accelerator": "GPU",
  "colab": {
   "collapsed_sections": [
    "ra_xitvr2Lhq",
    "kYDqaKyYERkV",
    "mM-P26ZuskH4",
    "ruSvW7A4sy4M",
    "vs5ViXLrzkQR",
    "kVwBplk5ugQ6",
    "yR0edFrOz_9F",
    "4KYRDeWi1IOr",
    "y5tM0Jki4sBY",
    "B_iNHNG8ppnX"
   ],
   "name": "Deep Learning Project",
   "provenance": [],
   "toc_visible": true
  },
  "kernelspec": {
   "display_name": "Python 3 (ipykernel)",
   "language": "python",
   "name": "python3"
  },
  "language_info": {
   "codemirror_mode": {
    "name": "ipython",
    "version": 3
   },
   "file_extension": ".py",
   "mimetype": "text/x-python",
   "name": "python",
   "nbconvert_exporter": "python",
   "pygments_lexer": "ipython3",
   "version": "3.8.10"
  }
 },
 "nbformat": 4,
 "nbformat_minor": 4
}
