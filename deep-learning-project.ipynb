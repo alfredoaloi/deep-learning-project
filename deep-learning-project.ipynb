{
 "cells": [
  {
   "cell_type": "markdown",
   "metadata": {
    "id": "0qRtuZENww0d"
   },
   "source": [
    "# 0. Imports and initializations"
   ]
  },
  {
   "cell_type": "code",
   "execution_count": 1,
   "metadata": {
    "id": "UOlpf5IRws-i"
   },
   "outputs": [],
   "source": [
    "# for data manipulation\n",
    "import numpy as np\n",
    "import pandas as pd\n",
    "\n",
    "# for data normalization and splitting\n",
    "from sklearn.preprocessing import StandardScaler\n",
    "from sklearn.model_selection import train_test_split\n",
    "\n",
    "# for models\n",
    "from tensorflow.keras import models\n",
    "from tensorflow.keras import layers\n",
    "from tensorflow.keras import optimizers\n",
    "from tensorflow.keras import losses\n",
    "from tensorflow.keras import metrics\n",
    "from tensorflow.keras import callbacks\n",
    "from keras.utils.vis_utils import plot_model\n",
    "import keras_tuner\n",
    "\n",
    "# for plots\n",
    "import matplotlib.pyplot as plt\n",
    "import matplotlib.image as mpimg\n",
    "\n",
    "# for file management\n",
    "from os.path import exists\n",
    "from os import remove\n",
    "\n",
    "# for sequences\n",
    "WINDOW_SIZE = 30  # 10 seconds sequences in 5 minutes\n",
    "WINDOW_SHIFT = 6  # 10 seconds sequences in 1 minute\n",
    "\n",
    "# for models fit\n",
    "EPOCHS = 25\n",
    "BATCH_SIZE = 32\n",
    "\n",
    "plt.rcParams['figure.figsize'] = plt.rcParamsDefault['figure.figsize']"
   ]
  },
  {
   "cell_type": "markdown",
   "metadata": {
    "id": "J3Sj5NJ6rz2-"
   },
   "source": [
    "# 1. Next Value Prediction Task"
   ]
  },
  {
   "cell_type": "markdown",
   "metadata": {
    "id": "ra_xitvr2Lhq"
   },
   "source": [
    "## 1.1 Utility functions"
   ]
  },
  {
   "cell_type": "markdown",
   "metadata": {
    "id": "hdM8h32s2Rr3"
   },
   "source": [
    "### 1.1.1 <code>features_and_lables</code>\n",
    "Given the normalized data, the function will produce sequencies of specific window size window shift."
   ]
  },
  {
   "cell_type": "code",
   "execution_count": 2,
   "metadata": {
    "id": "UtyirwKy2LIi"
   },
   "outputs": [],
   "source": [
    "def features_and_labels(data, window_size: int = 30, window_shift: int = 6):\n",
    "  \"\"\"\n",
    "  Given the data, the function will produce sequencies of specific\n",
    "  window size window shift.\n",
    "  \"\"\"\n",
    "\n",
    "  features = []\n",
    "  labels = []\n",
    "\n",
    "  for i in range(window_size, len(data), window_shift):\n",
    "    features.append(np.reshape(data[i - window_size:i], (1, -1))[0])\n",
    "    labels.append(data[i])\n",
    "  features, labels = np.array(features), np.array(labels)\n",
    "\n",
    "  return features, labels"
   ]
  },
  {
   "cell_type": "markdown",
   "metadata": {
    "id": "rHQyzZ7X5W5q"
   },
   "source": [
    "### 1.1.2 <code>build_model</code>\n",
    "Given in input the features, the model will be fitted to the input shape. Moreover, this model will have a single output node."
   ]
  },
  {
   "cell_type": "code",
   "execution_count": 3,
   "metadata": {
    "id": "AbIsuTz55obV"
   },
   "outputs": [],
   "source": [
    "def build_model(input_shape, units_1, units_2, units_3, units_4, learning_rate):\n",
    "  \"\"\"\n",
    "  The function builds the model, given in input the parameters.\n",
    "  \"\"\"\n",
    "\n",
    "  model = models.Sequential(name='Sequential')\n",
    "  model.add(layers.Input(input_shape, name='Input'))\n",
    "  model.add(layers.LSTM(units=units_1, return_sequences=True, name='LSTM-1'))\n",
    "  model.add(layers.Dropout(0.2, name='Dropout-1'))\n",
    "  model.add(layers.LSTM(units=units_1, return_sequences=True, name='LSTM-2'))\n",
    "  model.add(layers.Dropout(0.2, name='Dropout-2'))\n",
    "  model.add(layers.LSTM(units=units_1, name='LSTM-3'))\n",
    "  model.add(layers.Dropout(0.2, name='Dropout-3'))\n",
    "  model.add(layers.Dense(units=units_2, activation='relu', name='Dense-1'))\n",
    "  model.add(layers.Dropout(0.2, name='Dropout-4'))\n",
    "  model.add(layers.Dense(units=units_3, activation='relu', name='Dense-2'))\n",
    "  model.add(layers.Dropout(0.2, name='Dropout-5'))\n",
    "  model.add(layers.Dense(units=units_4, activation='relu', name='Dense-3'))\n",
    "  model.add(layers.Dropout(0.2, name='Dropout-6'))\n",
    "  model.add(layers.Dense(units=1, name='Dense-final'))\n",
    "  model.compile(optimizer=optimizers.Adam(learning_rate=learning_rate), loss=losses.mse, metrics=[metrics.mae])\n",
    "\n",
    "  return model"
   ]
  },
  {
   "cell_type": "markdown",
   "metadata": {
    "id": "J4m1hRoOCtVB"
   },
   "source": [
    "### 1.1.3 <code>denormalize</code>\n",
    "Given in input a value and the scaler used for the normalization, the function returns the denormalized value"
   ]
  },
  {
   "cell_type": "code",
   "execution_count": 4,
   "metadata": {
    "id": "AKlKnriQC7FC"
   },
   "outputs": [],
   "source": [
    "def denormalize(value: float, scaler: StandardScaler):\n",
    "  \"\"\"\n",
    "  Given in input the mean absolute error and the scaler used for the\n",
    "  normalization, the function returns the denormalized value\n",
    "  \"\"\"\n",
    "\n",
    "  return (scaler.inverse_transform(np.reshape(np.array([value]), (-1, 1))))[0][0]"
   ]
  },
  {
   "cell_type": "markdown",
   "metadata": {
    "id": "g6JayVHUVqPE"
   },
   "source": [
    "### 1.1.4 <code>model_builder</code>\n",
    "The function is used for searching the best model to be used"
   ]
  },
  {
   "cell_type": "code",
   "execution_count": 5,
   "metadata": {
    "id": "49I2DzEQtSak"
   },
   "outputs": [],
   "source": [
    "def model_builder(hp):\n",
    "  \"\"\"\n",
    "  The function is used for searching the best model to be used\n",
    "  \"\"\"\n",
    "\n",
    "  hp_units_1 = hp.Int('units_1', min_value=32, max_value=256, step=16)  # for LSTMs\n",
    "  hp_units_2 = hp.Int('units_2', min_value=32, max_value=256, step=16)  # for first dense\n",
    "  hp_units_3 = hp.Int('units_3', min_value=32, max_value=256, step=16)  # for second dense\n",
    "  hp_units_4 = hp.Int('units_4', min_value=32, max_value=256, step=16)  # for third dense\n",
    "  hp_learning_rate = hp.Choice('learning_rate', values=[1e-2, 1e-3, 1e-4])\n",
    "\n",
    "  model = models.Sequential(name='Sequential')\n",
    "  model.add(layers.Input((30, 1), name='Input'))\n",
    "  model.add(layers.LSTM(units=hp_units_1, return_sequences=True, name='LSTM-1'))\n",
    "  model.add(layers.Dropout(0.2, name='Dropout-1'))\n",
    "  model.add(layers.LSTM(units=hp_units_1, return_sequences=True, name='LSTM-2'))\n",
    "  model.add(layers.Dropout(0.2, name='Dropout-2'))\n",
    "  model.add(layers.LSTM(units=hp_units_1, name='LSTM-3'))\n",
    "  model.add(layers.Dropout(0.2, name='Dropout-3'))\n",
    "  model.add(layers.Dense(units=hp_units_2, activation='relu', name='Dense-1'))\n",
    "  model.add(layers.Dropout(0.2, name='Dropout-4'))\n",
    "  model.add(layers.Dense(units=hp_units_3, activation='relu', name='Dense-2'))\n",
    "  model.add(layers.Dropout(0.2, name='Dropout-5'))\n",
    "  model.add(layers.Dense(units=hp_units_4, activation='relu', name='Dense-3'))\n",
    "  model.add(layers.Dropout(0.2, name='Dropout-6'))\n",
    "  model.add(layers.Dense(units=1, name='Dense-final'))\n",
    "  model.compile(optimizer=optimizers.Adam(learning_rate=hp_learning_rate), loss=losses.mse, metrics=[metrics.mae])\n",
    "\n",
    "  return model"
   ]
  },
  {
   "cell_type": "markdown",
   "metadata": {},
   "source": [
    "### 1.1.5 <code>model_builder_three</code>\n",
    "\n",
    "The function is used for searching the best model to be used"
   ]
  },
  {
   "cell_type": "code",
   "execution_count": 6,
   "metadata": {},
   "outputs": [],
   "source": [
    "def model_builder_three(hp):\n",
    "  \"\"\"\n",
    "  The function is used for searching the best model to be used\n",
    "  \"\"\"\n",
    "\n",
    "  hp_units_1 = hp.Int('units_1', min_value=32, max_value=256, step=16)  # for LSTMs\n",
    "  hp_units_2 = hp.Int('units_2', min_value=32, max_value=256, step=16)  # for first dense\n",
    "  hp_units_3 = hp.Int('units_3', min_value=32, max_value=256, step=16)  # for second dense\n",
    "  hp_units_4 = hp.Int('units_4', min_value=32, max_value=256, step=16)  # for third dense\n",
    "  hp_learning_rate = hp.Choice('learning_rate', values=[1e-2, 1e-3, 1e-4])\n",
    "\n",
    "  model = models.Sequential(name='Sequential')\n",
    "  model.add(layers.Input((30, 3), name='Input'))\n",
    "  model.add(layers.LSTM(units=hp_units_1, return_sequences=True, name='LSTM-1'))\n",
    "  model.add(layers.Dropout(0.2, name='Dropout-1'))\n",
    "  model.add(layers.LSTM(units=hp_units_1, return_sequences=True, name='LSTM-2'))\n",
    "  model.add(layers.Dropout(0.2, name='Dropout-2'))\n",
    "  model.add(layers.LSTM(units=hp_units_1, name='LSTM-3'))\n",
    "  model.add(layers.Dropout(0.2, name='Dropout-3'))\n",
    "  model.add(layers.Dense(units=hp_units_2, activation='relu', name='Dense-1'))\n",
    "  model.add(layers.Dropout(0.2, name='Dropout-4'))\n",
    "  model.add(layers.Dense(units=hp_units_3, activation='relu', name='Dense-2'))\n",
    "  model.add(layers.Dropout(0.2, name='Dropout-5'))\n",
    "  model.add(layers.Dense(units=hp_units_4, activation='relu', name='Dense-3'))\n",
    "  model.add(layers.Dropout(0.2, name='Dropout-6'))\n",
    "  model.add(layers.Dense(units=3, name='Dense-final'))\n",
    "  model.compile(optimizer=optimizers.Adam(learning_rate=hp_learning_rate), loss=losses.mse, metrics=[metrics.mae])\n",
    "\n",
    "  return model"
   ]
  },
  {
   "cell_type": "markdown",
   "metadata": {
    "id": "0UZ_peltsBjo"
   },
   "source": [
    "## 1.2 Fixed windows properties\n",
    "We have 3 time series (X, Y, Z) recorded each 10 seconds\n",
    "- Given a sequence of 5 minutes every one minute\n",
    "- The goal is to predict the next value of the sequence for each time series\n",
    "- Evaluation Metric: **Mean Absolute Error**\n"
   ]
  },
  {
   "cell_type": "markdown",
   "metadata": {
    "id": "87a7SVmA2G2s"
   },
   "source": [
    "### 1.2.1 Loading the dataset"
   ]
  },
  {
   "cell_type": "code",
   "execution_count": 7,
   "metadata": {
    "colab": {
     "base_uri": "https://localhost:8080/",
     "height": 206
    },
    "id": "UJ0l_SV7TftM",
    "outputId": "0ce36823-7ed1-40a3-b76a-f4e1b50f7435"
   },
   "outputs": [
    {
     "data": {
      "text/html": [
       "<div>\n",
       "<style scoped>\n",
       "    .dataframe tbody tr th:only-of-type {\n",
       "        vertical-align: middle;\n",
       "    }\n",
       "\n",
       "    .dataframe tbody tr th {\n",
       "        vertical-align: top;\n",
       "    }\n",
       "\n",
       "    .dataframe thead th {\n",
       "        text-align: right;\n",
       "    }\n",
       "</style>\n",
       "<table border=\"1\" class=\"dataframe\">\n",
       "  <thead>\n",
       "    <tr style=\"text-align: right;\">\n",
       "      <th></th>\n",
       "      <th>x</th>\n",
       "      <th>y</th>\n",
       "      <th>z</th>\n",
       "    </tr>\n",
       "  </thead>\n",
       "  <tbody>\n",
       "    <tr>\n",
       "      <th>0</th>\n",
       "      <td>-24</td>\n",
       "      <td>749</td>\n",
       "      <td>-626</td>\n",
       "    </tr>\n",
       "    <tr>\n",
       "      <th>1</th>\n",
       "      <td>-206</td>\n",
       "      <td>930</td>\n",
       "      <td>-63</td>\n",
       "    </tr>\n",
       "    <tr>\n",
       "      <th>2</th>\n",
       "      <td>-139</td>\n",
       "      <td>763</td>\n",
       "      <td>-577</td>\n",
       "    </tr>\n",
       "    <tr>\n",
       "      <th>3</th>\n",
       "      <td>-503</td>\n",
       "      <td>441</td>\n",
       "      <td>-557</td>\n",
       "    </tr>\n",
       "    <tr>\n",
       "      <th>4</th>\n",
       "      <td>-278</td>\n",
       "      <td>705</td>\n",
       "      <td>-396</td>\n",
       "    </tr>\n",
       "  </tbody>\n",
       "</table>\n",
       "</div>"
      ],
      "text/plain": [
       "     x    y    z\n",
       "0  -24  749 -626\n",
       "1 -206  930  -63\n",
       "2 -139  763 -577\n",
       "3 -503  441 -557\n",
       "4 -278  705 -396"
      ]
     },
     "execution_count": 7,
     "metadata": {},
     "output_type": "execute_result"
    }
   ],
   "source": [
    "data = pd.read_csv('dataset_task_1/train.csv')\n",
    "\n",
    "data.head()"
   ]
  },
  {
   "cell_type": "markdown",
   "metadata": {
    "id": "ihyHMqvJ6j3S"
   },
   "source": [
    "### 1.2.2 Reshaping columns\n",
    "We separate each column, to process them in a separate way"
   ]
  },
  {
   "cell_type": "code",
   "execution_count": 8,
   "metadata": {
    "colab": {
     "base_uri": "https://localhost:8080/"
    },
    "id": "OiMyfWTBei14",
    "outputId": "0336abf7-de91-4181-bac9-473b6755c03b"
   },
   "outputs": [
    {
     "data": {
      "text/plain": [
       "array([[ -24],\n",
       "       [-206],\n",
       "       [-139],\n",
       "       ...,\n",
       "       [ 559],\n",
       "       [ 559],\n",
       "       [ 559]])"
      ]
     },
     "execution_count": 8,
     "metadata": {},
     "output_type": "execute_result"
    }
   ],
   "source": [
    "x_data = np.reshape(data.x.to_numpy(), (-1, 1))\n",
    "y_data = np.reshape(data.y.to_numpy(), (-1, 1))\n",
    "z_data = np.reshape(data.z.to_numpy(), (-1, 1))\n",
    "\n",
    "x_data"
   ]
  },
  {
   "cell_type": "markdown",
   "metadata": {
    "id": "JwReU1Sq7YMu"
   },
   "source": [
    "### 1.2.3 Data preprocessing\n",
    "We use the function <code>features_and_lables</code>, defined before, that helps with the transformation of data in sequences."
   ]
  },
  {
   "cell_type": "code",
   "execution_count": 9,
   "metadata": {
    "colab": {
     "base_uri": "https://localhost:8080/"
    },
    "id": "r97zIpuwhGwA",
    "outputId": "d8cc9346-f1c7-4a3c-8d70-ed73b98b68c8"
   },
   "outputs": [
    {
     "name": "stdout",
     "output_type": "stream",
     "text": [
      "[ -24 -206 -139 -503 -278  240 -671  -45  102   15  142    3 -176 -768\n",
      " -838 -420 -419 -420 -419 -418 -417 -414 -408 -407 -407 -408 -407 -408\n",
      " -408 -409]\n",
      "[-408]\n"
     ]
    }
   ],
   "source": [
    "x_features, x_labels = features_and_labels(x_data, window_size=30, window_shift=6)\n",
    "y_features, y_labels = features_and_labels(y_data, window_size=30, window_shift=6)\n",
    "z_features, z_labels = features_and_labels(z_data, window_size=30, window_shift=6)\n",
    "\n",
    "print(x_features[0])\n",
    "print(x_labels[0])"
   ]
  },
  {
   "cell_type": "markdown",
   "metadata": {
    "id": "AkRYB4Lv7AWv"
   },
   "source": [
    "### 1.2.4 Data normalization\n",
    "We use the standard scaler, in order to normalize features."
   ]
  },
  {
   "cell_type": "code",
   "execution_count": 10,
   "metadata": {
    "colab": {
     "base_uri": "https://localhost:8080/"
    },
    "id": "__Gmr4shfOV3",
    "outputId": "4519f452-2ce7-489c-b9aa-e4f20655e870"
   },
   "outputs": [
    {
     "data": {
      "text/plain": [
       "array([-0.31846375, -0.69210742, -0.55333931, -1.29009094, -0.8330969 ,\n",
       "        0.21812059, -1.63390757, -0.36431967, -0.06244556, -0.23752702,\n",
       "        0.01981392, -0.26366122, -0.62766428, -1.83661042, -1.97735234,\n",
       "       -1.12156197, -1.11954163, -1.12352781, -1.12177456, -1.12407862,\n",
       "       -1.11992643, -1.10946296, -1.09729569, -1.09719701, -1.09747076,\n",
       "       -1.10380867, -1.09964788, -1.09736257, -1.09738732, -1.10135407])"
      ]
     },
     "execution_count": 10,
     "metadata": {},
     "output_type": "execute_result"
    }
   ],
   "source": [
    "x_scaler = StandardScaler()\n",
    "x_scaler.fit(x_features)\n",
    "x_features = x_scaler.transform(x_features)\n",
    "\n",
    "y_scaler = StandardScaler()\n",
    "y_scaler.fit(y_features)\n",
    "y_features = y_scaler.transform(y_features)\n",
    "\n",
    "z_scaler = StandardScaler()\n",
    "z_scaler.fit(z_features)\n",
    "z_features = z_scaler.transform(z_features)\n",
    "\n",
    "x_features[0]"
   ]
  },
  {
   "cell_type": "markdown",
   "metadata": {
    "id": "N3oELnj674AD"
   },
   "source": [
    "### 1.2.5 Splitting in training set and validation set"
   ]
  },
  {
   "cell_type": "code",
   "execution_count": 11,
   "metadata": {
    "id": "An0ypfE3iwYC"
   },
   "outputs": [],
   "source": [
    "x_train_features, x_val_features, x_train_labels, x_val_labels = train_test_split(x_features, x_labels, test_size=0.2, random_state=7)\n",
    "y_train_features, y_val_features, y_train_labels, y_val_labels = train_test_split(y_features, y_labels, test_size=0.2, random_state=7)\n",
    "z_train_features, z_val_features, z_train_labels, z_val_labels = train_test_split(z_features, z_labels, test_size=0.2, random_state=7)"
   ]
  },
  {
   "cell_type": "markdown",
   "metadata": {
    "id": "OL_UO_x68ZkV"
   },
   "source": [
    "### 1.2.6 Hyperparameters search\n",
    "We let the tuner look for the best parameters for each model."
   ]
  },
  {
   "cell_type": "code",
   "execution_count": 12,
   "metadata": {
    "colab": {
     "base_uri": "https://localhost:8080/"
    },
    "id": "2vVkJNhUimEV",
    "outputId": "95793237-845e-4603-adab-c9ab15084abf"
   },
   "outputs": [
    {
     "name": "stdout",
     "output_type": "stream",
     "text": [
      "INFO:tensorflow:Reloading Oracle from existing project task_1.1/tuner/x/oracle.json\n"
     ]
    },
    {
     "name": "stderr",
     "output_type": "stream",
     "text": [
      "2021-12-28 20:39:40.516891: I tensorflow/stream_executor/cuda/cuda_gpu_executor.cc:925] could not open file to read NUMA node: /sys/bus/pci/devices/0000:01:00.0/numa_node\n",
      "Your kernel may have been built without NUMA support.\n",
      "2021-12-28 20:39:40.631389: I tensorflow/stream_executor/cuda/cuda_gpu_executor.cc:925] could not open file to read NUMA node: /sys/bus/pci/devices/0000:01:00.0/numa_node\n",
      "Your kernel may have been built without NUMA support.\n",
      "2021-12-28 20:39:40.632303: I tensorflow/stream_executor/cuda/cuda_gpu_executor.cc:925] could not open file to read NUMA node: /sys/bus/pci/devices/0000:01:00.0/numa_node\n",
      "Your kernel may have been built without NUMA support.\n",
      "2021-12-28 20:39:40.634734: I tensorflow/core/platform/cpu_feature_guard.cc:151] This TensorFlow binary is optimized with oneAPI Deep Neural Network Library (oneDNN) to use the following CPU instructions in performance-critical operations:  AVX2 FMA\n",
      "To enable them in other operations, rebuild TensorFlow with the appropriate compiler flags.\n",
      "2021-12-28 20:39:40.636863: I tensorflow/stream_executor/cuda/cuda_gpu_executor.cc:925] could not open file to read NUMA node: /sys/bus/pci/devices/0000:01:00.0/numa_node\n",
      "Your kernel may have been built without NUMA support.\n",
      "2021-12-28 20:39:40.637791: I tensorflow/stream_executor/cuda/cuda_gpu_executor.cc:925] could not open file to read NUMA node: /sys/bus/pci/devices/0000:01:00.0/numa_node\n",
      "Your kernel may have been built without NUMA support.\n",
      "2021-12-28 20:39:40.638557: I tensorflow/stream_executor/cuda/cuda_gpu_executor.cc:925] could not open file to read NUMA node: /sys/bus/pci/devices/0000:01:00.0/numa_node\n",
      "Your kernel may have been built without NUMA support.\n",
      "2021-12-28 20:39:43.269247: I tensorflow/stream_executor/cuda/cuda_gpu_executor.cc:925] could not open file to read NUMA node: /sys/bus/pci/devices/0000:01:00.0/numa_node\n",
      "Your kernel may have been built without NUMA support.\n",
      "2021-12-28 20:39:43.270100: I tensorflow/stream_executor/cuda/cuda_gpu_executor.cc:925] could not open file to read NUMA node: /sys/bus/pci/devices/0000:01:00.0/numa_node\n",
      "Your kernel may have been built without NUMA support.\n",
      "2021-12-28 20:39:43.270119: I tensorflow/core/common_runtime/gpu/gpu_device.cc:1609] Could not identify NUMA node of platform GPU id 0, defaulting to 0.  Your kernel may not have been built with NUMA support.\n",
      "2021-12-28 20:39:43.270876: I tensorflow/stream_executor/cuda/cuda_gpu_executor.cc:925] could not open file to read NUMA node: /sys/bus/pci/devices/0000:01:00.0/numa_node\n",
      "Your kernel may have been built without NUMA support.\n",
      "2021-12-28 20:39:43.270948: I tensorflow/core/common_runtime/gpu/gpu_device.cc:1525] Created device /job:localhost/replica:0/task:0/device:GPU:0 with 1336 MB memory:  -> device: 0, name: NVIDIA GeForce 940M, pci bus id: 0000:01:00.0, compute capability: 5.0\n"
     ]
    },
    {
     "name": "stdout",
     "output_type": "stream",
     "text": [
      "INFO:tensorflow:Reloading Tuner from task_1.1/tuner/x/tuner0.json\n",
      "INFO:tensorflow:Oracle triggered exit\n",
      "INFO:tensorflow:Reloading Oracle from existing project task_1.1/tuner/y/oracle.json\n",
      "INFO:tensorflow:Reloading Tuner from task_1.1/tuner/y/tuner0.json\n",
      "INFO:tensorflow:Oracle triggered exit\n",
      "INFO:tensorflow:Reloading Oracle from existing project task_1.1/tuner/z/oracle.json\n",
      "INFO:tensorflow:Reloading Tuner from task_1.1/tuner/z/tuner0.json\n",
      "INFO:tensorflow:Oracle triggered exit\n"
     ]
    }
   ],
   "source": [
    "# x\n",
    "x_tuner = keras_tuner.Hyperband(model_builder,\n",
    "                              objective='val_mean_absolute_error',\n",
    "                              max_epochs=15,\n",
    "                              factor=3,\n",
    "                              directory='task_1.1/tuner',\n",
    "                              project_name='x')\n",
    "\n",
    "x_tuner.search(x_train_features, x_train_labels, validation_data=(x_val_features, x_val_labels), epochs=EPOCHS, batch_size=BATCH_SIZE)\n",
    "x_best_hps = x_tuner.get_best_hyperparameters(num_trials=1)[0]\n",
    "\n",
    "# y\n",
    "y_tuner = keras_tuner.Hyperband(model_builder,\n",
    "                              objective='val_mean_absolute_error',\n",
    "                              max_epochs=15,\n",
    "                              factor=3,\n",
    "                              directory='task_1.1/tuner',\n",
    "                              project_name='y')\n",
    "\n",
    "y_tuner.search(y_train_features, y_train_labels, validation_data=(y_val_features, y_val_labels), epochs=EPOCHS, batch_size=BATCH_SIZE)\n",
    "y_best_hps = y_tuner.get_best_hyperparameters(num_trials=1)[0]\n",
    "\n",
    "z_tuner = keras_tuner.Hyperband(model_builder,\n",
    "                              objective='val_mean_absolute_error',\n",
    "                              max_epochs=15,\n",
    "                              factor=3,\n",
    "                              directory='task_1.1/tuner',\n",
    "                              project_name='z')\n",
    "\n",
    "z_tuner.search(z_train_features, z_train_labels, validation_data=(z_val_features, z_val_labels), epochs=EPOCHS, batch_size=BATCH_SIZE)\n",
    "z_best_hps = z_tuner.get_best_hyperparameters(num_trials=1)[0]"
   ]
  },
  {
   "cell_type": "code",
   "execution_count": 13,
   "metadata": {
    "colab": {
     "base_uri": "https://localhost:8080/"
    },
    "id": "ZWXk115CCw81",
    "outputId": "f58b06ea-b043-40c7-d572-e30b9ab623bc"
   },
   "outputs": [
    {
     "name": "stdout",
     "output_type": "stream",
     "text": [
      "\n",
      "The hyperparameter search is complete.\n",
      "units_1:\tx: 112\ty: 208\tz: 96\n",
      "units_2:\tx: 224\ty: 208\tz: 144\n",
      "units_3:\tx: 192\ty: 192\tz: 160\n",
      "units_4:\tx: 240\ty: 240\tz: 224\n",
      "learning_rate:\tx: 0.0001\ty: 0.0001\tz: 0.001\n",
      "\n"
     ]
    }
   ],
   "source": [
    "print(f\"\"\"\n",
    "The hyperparameter search is complete.\n",
    "units_1:\\tx: {x_best_hps.get('units_1')}\\ty: {y_best_hps.get('units_1')}\\tz: {z_best_hps.get('units_1')}\n",
    "units_2:\\tx: {x_best_hps.get('units_2')}\\ty: {y_best_hps.get('units_2')}\\tz: {z_best_hps.get('units_2')}\n",
    "units_3:\\tx: {x_best_hps.get('units_3')}\\ty: {y_best_hps.get('units_3')}\\tz: {z_best_hps.get('units_3')}\n",
    "units_4:\\tx: {x_best_hps.get('units_4')}\\ty: {y_best_hps.get('units_4')}\\tz: {z_best_hps.get('units_4')}\n",
    "learning_rate:\\tx: {x_best_hps.get('learning_rate')}\\ty: {y_best_hps.get('learning_rate')}\\tz: {z_best_hps.get('learning_rate')}\n",
    "\"\"\")"
   ]
  },
  {
   "cell_type": "markdown",
   "metadata": {},
   "source": [
    "### 1.2.7 Models building and fitting\n",
    "\n",
    "We build the models according to the parameters found by tuner, then fit the data."
   ]
  },
  {
   "cell_type": "code",
   "execution_count": 14,
   "metadata": {},
   "outputs": [],
   "source": [
    "x_model = x_tuner.hypermodel.build(x_best_hps)\n",
    "y_model = y_tuner.hypermodel.build(y_best_hps)\n",
    "z_model = z_tuner.hypermodel.build(z_best_hps)\n",
    "\n",
    "plot_model(x_model, to_file='task_1.1/models/x_model.png', show_shapes=True, show_layer_names=True)\n",
    "plot_model(y_model, to_file='task_1.1/models/y_model.png', show_shapes=True, show_layer_names=True)\n",
    "plot_model(z_model, to_file='task_1.1/models/z_model.png', show_shapes=True, show_layer_names=True)\n",
    "\n",
    "if not exists('task_1.1/models/x.index'):\n",
    "    x_model_checkpoint_callback = callbacks.ModelCheckpoint('task_1.1/models/x', save_weights_only=True, monitor='val_mean_absolute_error', mode='min', save_best_only=True)\n",
    "    x_history = x_model.fit(x_train_features, x_train_labels, validation_data=(x_val_features, x_val_labels), epochs=EPOCHS, batch_size=BATCH_SIZE, callbacks=[x_model_checkpoint_callback])\n",
    "    if exists('task_1.1/plots/x_loss.png'):\n",
    "        remove('task_1.1/plots/x_loss.png')\n",
    "    if exists('task_1.1/plots/x_mae.png'):\n",
    "        remove('task_1.1/plots/x_mae.png')\n",
    "\n",
    "if not exists('task_1.1/models/y.index'):\n",
    "    y_model_checkpoint_callback = callbacks.ModelCheckpoint('task_1.1/models/y', save_weights_only=True, monitor='val_mean_absolute_error', mode='min', save_best_only=True)\n",
    "    y_history = y_model.fit(y_train_features, y_train_labels, validation_data=(y_val_features, y_val_labels), epochs=EPOCHS, batch_size=BATCH_SIZE, callbacks=[y_model_checkpoint_callback])\n",
    "    if exists('task_1.1/plots/y_loss.png'):\n",
    "        remove('task_1.1/plots/y_loss.png')\n",
    "    if exists('task_1.1/plots/y_mae.png'):\n",
    "        remove('task_1.1/plots/y_mae.png')\n",
    "\n",
    "if not exists('task_1.1/models/z.index'):\n",
    "    z_model_checkpoint_callback = callbacks.ModelCheckpoint('task_1.1/models/z', save_weights_only=True, monitor='val_mean_absolute_error', mode='min', save_best_only=True)\n",
    "    z_history = z_model.fit(z_train_features, z_train_labels, validation_data=(z_val_features, z_val_labels), epochs=EPOCHS, batch_size=BATCH_SIZE, callbacks=[z_model_checkpoint_callback])\n",
    "    if exists('task_1.1/plots/z_loss.png'):\n",
    "        remove('task_1.1/plots/z_loss.png')\n",
    "    if exists('task_1.1/plots/z_mae.png'):\n",
    "        remove('task_1.1/plots/z_mae.png')"
   ]
  },
  {
   "cell_type": "markdown",
   "metadata": {
    "id": "KnPexhqj8i9R"
   },
   "source": [
    "### 1.2.8 Plotting losses and metrics"
   ]
  },
  {
   "cell_type": "code",
   "execution_count": 15,
   "metadata": {
    "id": "reG_A2gHAuy-"
   },
   "outputs": [
    {
     "data": {
      "image/png": "[encoded data removed]",
      "text/plain": [
       "<Figure size 432x288 with 1 Axes>"
      ]
     },
     "metadata": {
      "needs_background": "light"
     },
     "output_type": "display_data"
    }
   ],
   "source": [
    "if not exists('task_1.1/plots/x_loss.png'):\n",
    "    x_loss = x_history.history['loss']\n",
    "    x_val_loss = x_history.history['val_loss']\n",
    "    epochs = range(1, EPOCHS + 1)\n",
    "    plt.plot(epochs, x_loss, 'b', label='x training loss')\n",
    "    plt.plot(epochs, x_val_loss, 'y', label='x validation loss')\n",
    "    plt.title('Loss')\n",
    "    plt.xlabel('Epochs')\n",
    "    plt.ylabel('MSE')\n",
    "    plt.legend()\n",
    "    plt.savefig('task_1.1/plots/x_loss.png')\n",
    "    plt.show()\n",
    "else:\n",
    "    img = mpimg.imread('task_1.1/plots/x_loss.png')\n",
    "    imgplot = plt.imshow(img)\n",
    "    plt.show()"
   ]
  },
  {
   "cell_type": "code",
   "execution_count": 16,
   "metadata": {
    "id": "MK6fX55rMSIa"
   },
   "outputs": [
    {
     "data": {
      "image/png": "[encoded data removed]",
      "text/plain": [
       "<Figure size 432x288 with 1 Axes>"
      ]
     },
     "metadata": {
      "needs_background": "light"
     },
     "output_type": "display_data"
    }
   ],
   "source": [
    "if not exists('task_1.1/plots/y_loss.png'):\n",
    "    y_loss = y_history.history['loss']\n",
    "    y_val_loss = y_history.history['val_loss']\n",
    "    epochs = range(1, EPOCHS + 1)\n",
    "    plt.plot(epochs, y_loss, 'b', label='y training loss')\n",
    "    plt.plot(epochs, y_val_loss, 'y', label='y validation loss')\n",
    "    plt.title('Loss')\n",
    "    plt.xlabel('Epochs')\n",
    "    plt.ylabel('MSE')\n",
    "    plt.legend()\n",
    "    plt.savefig('task_1.1/plots/y_loss.png')\n",
    "    plt.show()\n",
    "else:\n",
    "    img = mpimg.imread('task_1.1/plots/y_loss.png')\n",
    "    imgplot = plt.imshow(img)\n",
    "    plt.show()"
   ]
  },
  {
   "cell_type": "code",
   "execution_count": 17,
   "metadata": {
    "id": "f4Gr230LMS6C"
   },
   "outputs": [
    {
     "data": {
      "image/png": "[encoded data removed]",
      "text/plain": [
       "<Figure size 432x288 with 1 Axes>"
      ]
     },
     "metadata": {
      "needs_background": "light"
     },
     "output_type": "display_data"
    }
   ],
   "source": [
    "if not exists('task_1.1/plots/z_loss.png'):\n",
    "    z_loss = z_history.history['loss']\n",
    "    z_val_loss = z_history.history['val_loss']\n",
    "    epochs = range(1, EPOCHS + 1)\n",
    "    plt.plot(epochs, z_loss, 'b', label='z training loss')\n",
    "    plt.plot(epochs, z_val_loss, 'y', label='z validation loss')\n",
    "    plt.title('Loss')\n",
    "    plt.xlabel('Epochs')\n",
    "    plt.ylabel('MSE')\n",
    "    plt.legend()\n",
    "    plt.savefig('task_1.1/plots/z_loss.png')\n",
    "    plt.show()\n",
    "else:\n",
    "    img = mpimg.imread('task_1.1/plots/z_loss.png')\n",
    "    imgplot = plt.imshow(img)\n",
    "    plt.show()"
   ]
  },
  {
   "cell_type": "code",
   "execution_count": 52,
   "metadata": {
    "id": "x49mDpq19Z88"
   },
   "outputs": [
    {
     "data": {
      "image/png": "[encoded data removed]",
      "text/plain": [
       "<Figure size 460.8x345.6 with 1 Axes>"
      ]
     },
     "metadata": {
      "needs_background": "light"
     },
     "output_type": "display_data"
    }
   ],
   "source": [
    "if not exists('task_1.1/plots/x_mae.png'):\n",
    "    x_mae = x_history.history['mean_absolute_error']\n",
    "    x_val_mae = x_history.history['val_mean_absolute_error']\n",
    "    epochs = range(1, EPOCHS + 1)\n",
    "    plt.plot(epochs, x_mae, 'b', label='x training mae')\n",
    "    plt.plot(epochs, x_val_mae, 'y', label='x validation mae')\n",
    "    plt.title('MAE')\n",
    "    plt.xlabel('Epochs')\n",
    "    plt.ylabel('MAE')\n",
    "    plt.legend()\n",
    "    plt.savefig('task_1.1/plots/x_mae.png')\n",
    "    plt.show()\n",
    "else:\n",
    "    img = mpimg.imread('task_1.1/plots/x_mae.png')\n",
    "    imgplot = plt.imshow(img)\n",
    "    plt.show()"
   ]
  },
  {
   "cell_type": "code",
   "execution_count": 19,
   "metadata": {
    "id": "eqoV0kuFMd3w"
   },
   "outputs": [
    {
     "data": {
      "image/png": "[encoded data removed]",
      "text/plain": [
       "<Figure size 432x288 with 1 Axes>"
      ]
     },
     "metadata": {
      "needs_background": "light"
     },
     "output_type": "display_data"
    }
   ],
   "source": [
    "if not exists('task_1.1/plots/y_mae.png'):\n",
    "    y_mae = y_history.history['mean_absolute_error']\n",
    "    y_val_mae = y_history.history['val_mean_absolute_error']\n",
    "    epochs = range(1, EPOCHS + 1)\n",
    "    plt.plot(epochs, y_mae, 'b', label='y training mae')\n",
    "    plt.plot(epochs, y_val_mae, 'y', label='y validation mae')\n",
    "    plt.title('MAE')\n",
    "    plt.xlabel('Epochs')\n",
    "    plt.ylabel('MAE')\n",
    "    plt.legend()\n",
    "    plt.savefig('task_1.1/plots/y_mae.png')\n",
    "    plt.show()\n",
    "else:\n",
    "    img = mpimg.imread('task_1.1/plots/y_mae.png')\n",
    "    imgplot = plt.imshow(img)\n",
    "    plt.show()"
   ]
  },
  {
   "cell_type": "code",
   "execution_count": 20,
   "metadata": {
    "id": "y9XXd2jrMemL"
   },
   "outputs": [
    {
     "data": {
      "image/png": "[encoded data removed]",
      "text/plain": [
       "<Figure size 432x288 with 1 Axes>"
      ]
     },
     "metadata": {
      "needs_background": "light"
     },
     "output_type": "display_data"
    }
   ],
   "source": [
    "if not exists('task_1.1/plots/z_mae.png'):\n",
    "    z_mae = z_history.history['mean_absolute_error']\n",
    "    z_val_mae = z_history.history['val_mean_absolute_error']\n",
    "    epochs = range(1, EPOCHS + 1)\n",
    "    plt.plot(epochs, z_mae, 'b', label='z training mae')\n",
    "    plt.plot(epochs, z_val_mae, 'y', label='z validation mae')\n",
    "    plt.title('MAE')\n",
    "    plt.xlabel('Epochs')\n",
    "    plt.ylabel('MAE')\n",
    "    plt.legend()\n",
    "    plt.savefig('task_1.1/plots/z_mae.png')\n",
    "    plt.show()\n",
    "else:\n",
    "    img = mpimg.imread('task_1.1/plots/z_mae.png')\n",
    "    imgplot = plt.imshow(img)\n",
    "    plt.show()"
   ]
  },
  {
   "cell_type": "markdown",
   "metadata": {
    "id": "h9m-FYDF-ifa"
   },
   "source": [
    "### 1.2.9 Evaluation\n",
    "\n",
    "Targets:\n",
    "- x = 81.06\n",
    "- y = 85.26\n",
    "- z = 79.94"
   ]
  },
  {
   "cell_type": "code",
   "execution_count": 21,
   "metadata": {
    "id": "KZ3ogayDj3HQ"
   },
   "outputs": [
    {
     "name": "stderr",
     "output_type": "stream",
     "text": [
      "2021-12-28 20:39:58.512834: I tensorflow/stream_executor/cuda/cuda_dnn.cc:366] Loaded cuDNN version 8301\n"
     ]
    },
    {
     "name": "stdout",
     "output_type": "stream",
     "text": [
      "773/773 [==============================] - 15s 13ms/step - loss: 27998.5195 - mean_absolute_error: 77.6207\n",
      "773/773 [==============================] - 20s 24ms/step - loss: 26341.1348 - mean_absolute_error: 84.3111\n",
      "773/773 [==============================] - 13s 14ms/step - loss: 22666.8672 - mean_absolute_error: 78.3937\n",
      "x_mean_absolute_error:\t77.62065124511719\n",
      "y_mean_absolute_error:\t84.31111145019531\n",
      "z_mean_absolute_error:\t78.39374542236328\n"
     ]
    }
   ],
   "source": [
    "test_data = pd.read_csv('dataset_task_1/test.csv')\n",
    "\n",
    "x_test_data = np.reshape(test_data.x.to_numpy(), (-1, 1))\n",
    "y_test_data = np.reshape(test_data.y.to_numpy(), (-1, 1))\n",
    "z_test_data = np.reshape(test_data.z.to_numpy(), (-1, 1))\n",
    "\n",
    "x_test_features, x_test_labels = features_and_labels(x_test_data, window_size=30, window_shift=6)\n",
    "y_test_features, y_test_labels = features_and_labels(y_test_data, window_size=30, window_shift=6)\n",
    "z_test_features, z_test_labels = features_and_labels(z_test_data, window_size=30, window_shift=6)\n",
    "\n",
    "x_test_features = x_scaler.transform(x_test_features)\n",
    "y_test_features = y_scaler.transform(y_test_features)\n",
    "z_test_features = z_scaler.transform(z_test_features)\n",
    "\n",
    "# Loading the best models for each time series\n",
    "x_model.load_weights('task_1.1/models/x')\n",
    "y_model.load_weights('task_1.1/models/y')\n",
    "z_model.load_weights('task_1.1/models/z')\n",
    "\n",
    "x_evaluation = x_model.evaluate(x_test_features, x_test_labels)[1]\n",
    "y_evaluation = y_model.evaluate(y_test_features, y_test_labels)[1]\n",
    "z_evaluation = z_model.evaluate(z_test_features, z_test_labels)[1]\n",
    "\n",
    "print(f'x_mean_absolute_error:\\t{x_evaluation}')\n",
    "print(f'y_mean_absolute_error:\\t{y_evaluation}')\n",
    "print(f'z_mean_absolute_error:\\t{z_evaluation}')"
   ]
  },
  {
   "cell_type": "markdown",
   "metadata": {
    "id": "N9uFsJPTCY3N"
   },
   "source": [
    "### 1.2.10 Predict some values\n",
    "We predict some values to look at how good it is."
   ]
  },
  {
   "cell_type": "code",
   "execution_count": 22,
   "metadata": {
    "id": "2gEmCPgow1Kq"
   },
   "outputs": [
    {
     "name": "stdout",
     "output_type": "stream",
     "text": [
      "x\n",
      "expected prediction:\t[576]\n",
      "actual prediction:\t[580.3735]\n",
      "y\n",
      "expected prediction:\t[-407]\n",
      "actual prediction:\t[-419.1904]\n",
      "z\n",
      "expected prediction:\t[-730]\n",
      "actual prediction:\t[-713.1943]\n"
     ]
    }
   ],
   "source": [
    "index = 1\n",
    "\n",
    "print(f'x')\n",
    "expected_prediction = x_test_labels[index]\n",
    "test = np.reshape(x_test_features[index], (1, x_test_features[index].shape[0]))\n",
    "actual_prediction = x_model.predict(test)[0]\n",
    "print(f'expected prediction:\\t{expected_prediction}')\n",
    "print(f'actual prediction:\\t{actual_prediction}')\n",
    "\n",
    "print(f'y')\n",
    "expected_prediction = y_test_labels[index]\n",
    "test = np.reshape(y_test_features[index], (1, y_test_features[index].shape[0]))\n",
    "actual_prediction = y_model.predict(test)[0]\n",
    "print(f'expected prediction:\\t{expected_prediction}')\n",
    "print(f'actual prediction:\\t{actual_prediction}')\n",
    "\n",
    "print(f'z')\n",
    "expected_prediction = z_test_labels[index]\n",
    "test = np.reshape(z_test_features[index], (1, z_test_features[index].shape[0]))\n",
    "actual_prediction = z_model.predict(test)[0]\n",
    "print(f'expected prediction:\\t{expected_prediction}')\n",
    "print(f'actual prediction:\\t{actual_prediction}')"
   ]
  },
  {
   "cell_type": "markdown",
   "metadata": {
    "id": "kYDqaKyYERkV",
    "tags": []
   },
   "source": [
    "## 1.3 Best window size and window shift selection\n",
    "Now we need to try to find the best <code>window_size</code> and <code>window_shift</code> that better fit the model of one of the time series. We choose the y time series."
   ]
  },
  {
   "cell_type": "markdown",
   "metadata": {
    "id": "AwrljuD_Ew6A"
   },
   "source": [
    "### 1.3.1 Definition of search space"
   ]
  },
  {
   "cell_type": "code",
   "execution_count": 23,
   "metadata": {
    "id": "5vBnfJgYE1wu"
   },
   "outputs": [],
   "source": [
    "window_sizes = [\n",
    " 18,  # 10 seconds sequences in 3 minutes\n",
    " 24,  # 10 seconds sequences in 4 minutes\n",
    " 30,  # 10 seconds sequences in 5 minutes\n",
    " 36,  # 10 seconds sequences in 6 minutes\n",
    " 42,  # 10 seconds sequences in 7 minutes\n",
    "]\n",
    "\n",
    "window_shifts = [\n",
    " 1,  # 10 seconds shift\n",
    " 3,  # 30 seconds shift\n",
    " 6,  # 1 minute shift\n",
    " 9,  # 1 minute and 30 seconds shift\n",
    "]"
   ]
  },
  {
   "cell_type": "markdown",
   "metadata": {
    "id": "hPdMHhpMFfMo"
   },
   "source": [
    "### 1.3.2 Model building, fitting and evaluation\n",
    "For each combination, we build the model, fit it, evaluate it and save all the information."
   ]
  },
  {
   "cell_type": "code",
   "execution_count": 24,
   "metadata": {
    "id": "Tm4-C-_21LjY"
   },
   "outputs": [
    {
     "name": "stdout",
     "output_type": "stream",
     "text": [
      "window_size: 18 - window_shift: 1\n",
      "starting to fit...\n",
      "fit ended!\n",
      "starting to evaluate...\n",
      "4637/4637 [==============================] - 86s 18ms/step - loss: 25420.2051 - mean_absolute_error: 85.3548\n",
      "evaluation ended!\n",
      "window_size: 18 - window_shift: 3\n",
      "starting to fit...\n",
      "fit ended!\n",
      "starting to evaluate...\n",
      "1546/1546 [==============================] - 33s 20ms/step - loss: 26294.8711 - mean_absolute_error: 86.2145\n",
      "evaluation ended!\n",
      "window_size: 18 - window_shift: 6\n",
      "WARNING:tensorflow:Unresolved object in checkpoint: (root).optimizer.iter\n",
      "WARNING:tensorflow:Unresolved object in checkpoint: (root).optimizer.beta_1\n",
      "WARNING:tensorflow:Unresolved object in checkpoint: (root).optimizer.beta_2\n",
      "WARNING:tensorflow:Unresolved object in checkpoint: (root).optimizer.decay\n",
      "WARNING:tensorflow:Unresolved object in checkpoint: (root).optimizer.learning_rate\n",
      "WARNING:tensorflow:A checkpoint was restored (e.g. tf.train.Checkpoint.restore or tf.keras.Model.load_weights) but not all checkpointed values were used. See above for specific issues. Use expect_partial() on the load status object, e.g. tf.train.Checkpoint.restore(...).expect_partial(), to silence these warnings, or use assert_consumed() to make the check explicit. See https://www.tensorflow.org/guide/checkpoint#loading_mechanics for details.\n",
      "starting to fit...\n",
      "fit ended!\n",
      "starting to evaluate...\n",
      "773/773 [==============================] - 16s 19ms/step - loss: 25629.2852 - mean_absolute_error: 84.8304\n",
      "evaluation ended!\n",
      "window_size: 18 - window_shift: 9\n",
      "starting to fit...\n",
      "fit ended!\n",
      "starting to evaluate...\n",
      "516/516 [==============================] - 12s 19ms/step - loss: 25535.5840 - mean_absolute_error: 86.7556\n",
      "evaluation ended!\n",
      "window_size: 24 - window_shift: 1\n",
      "starting to fit...\n",
      "fit ended!\n",
      "starting to evaluate...\n",
      "4636/4636 [==============================] - 102s 22ms/step - loss: 25603.7852 - mean_absolute_error: 83.6524\n",
      "evaluation ended!\n",
      "window_size: 24 - window_shift: 3\n",
      "WARNING:tensorflow:Unresolved object in checkpoint: (root).optimizer.iter\n",
      "WARNING:tensorflow:Unresolved object in checkpoint: (root).optimizer.beta_1\n",
      "WARNING:tensorflow:Unresolved object in checkpoint: (root).optimizer.beta_2\n",
      "WARNING:tensorflow:Unresolved object in checkpoint: (root).optimizer.decay\n",
      "WARNING:tensorflow:Unresolved object in checkpoint: (root).optimizer.learning_rate\n",
      "WARNING:tensorflow:A checkpoint was restored (e.g. tf.train.Checkpoint.restore or tf.keras.Model.load_weights) but not all checkpointed values were used. See above for specific issues. Use expect_partial() on the load status object, e.g. tf.train.Checkpoint.restore(...).expect_partial(), to silence these warnings, or use assert_consumed() to make the check explicit. See https://www.tensorflow.org/guide/checkpoint#loading_mechanics for details.\n",
      "WARNING:tensorflow:Unresolved object in checkpoint: (root).optimizer.iter\n",
      "WARNING:tensorflow:Unresolved object in checkpoint: (root).optimizer.beta_1\n",
      "WARNING:tensorflow:Unresolved object in checkpoint: (root).optimizer.beta_2\n",
      "WARNING:tensorflow:Unresolved object in checkpoint: (root).optimizer.decay\n",
      "WARNING:tensorflow:Unresolved object in checkpoint: (root).optimizer.learning_rate\n",
      "WARNING:tensorflow:A checkpoint was restored (e.g. tf.train.Checkpoint.restore or tf.keras.Model.load_weights) but not all checkpointed values were used. See above for specific issues. Use expect_partial() on the load status object, e.g. tf.train.Checkpoint.restore(...).expect_partial(), to silence these warnings, or use assert_consumed() to make the check explicit. See https://www.tensorflow.org/guide/checkpoint#loading_mechanics for details.\n",
      "WARNING:tensorflow:Unresolved object in checkpoint: (root).optimizer.iter\n",
      "WARNING:tensorflow:Unresolved object in checkpoint: (root).optimizer.beta_1\n",
      "WARNING:tensorflow:Unresolved object in checkpoint: (root).optimizer.beta_2\n",
      "WARNING:tensorflow:Unresolved object in checkpoint: (root).optimizer.decay\n",
      "WARNING:tensorflow:Unresolved object in checkpoint: (root).optimizer.learning_rate\n",
      "WARNING:tensorflow:A checkpoint was restored (e.g. tf.train.Checkpoint.restore or tf.keras.Model.load_weights) but not all checkpointed values were used. See above for specific issues. Use expect_partial() on the load status object, e.g. tf.train.Checkpoint.restore(...).expect_partial(), to silence these warnings, or use assert_consumed() to make the check explicit. See https://www.tensorflow.org/guide/checkpoint#loading_mechanics for details.\n",
      "starting to fit...\n",
      "fit ended!\n",
      "starting to evaluate...\n",
      "1546/1546 [==============================] - 35s 22ms/step - loss: 26586.4277 - mean_absolute_error: 87.9144\n",
      "evaluation ended!\n",
      "window_size: 24 - window_shift: 6\n",
      "starting to fit...\n",
      "fit ended!\n",
      "starting to evaluate...\n",
      "773/773 [==============================] - 18s 21ms/step - loss: 25914.6934 - mean_absolute_error: 83.7120\n",
      "evaluation ended!\n",
      "window_size: 24 - window_shift: 9\n",
      "starting to fit...\n",
      "fit ended!\n",
      "starting to evaluate...\n",
      "516/516 [==============================] - 13s 21ms/step - loss: 26544.9531 - mean_absolute_error: 86.7441\n",
      "evaluation ended!\n",
      "window_size: 30 - window_shift: 1\n",
      "starting to fit...\n",
      "fit ended!\n",
      "starting to evaluate...\n",
      "WARNING:tensorflow:Unresolved object in checkpoint: (root).optimizer.iter\n",
      "WARNING:tensorflow:Unresolved object in checkpoint: (root).optimizer.beta_1\n",
      "WARNING:tensorflow:Unresolved object in checkpoint: (root).optimizer.beta_2\n",
      "WARNING:tensorflow:Unresolved object in checkpoint: (root).optimizer.decay\n",
      "WARNING:tensorflow:Unresolved object in checkpoint: (root).optimizer.learning_rate\n",
      "WARNING:tensorflow:A checkpoint was restored (e.g. tf.train.Checkpoint.restore or tf.keras.Model.load_weights) but not all checkpointed values were used. See above for specific issues. Use expect_partial() on the load status object, e.g. tf.train.Checkpoint.restore(...).expect_partial(), to silence these warnings, or use assert_consumed() to make the check explicit. See https://www.tensorflow.org/guide/checkpoint#loading_mechanics for details.\n",
      "WARNING:tensorflow:Unresolved object in checkpoint: (root).optimizer.iter\n",
      "WARNING:tensorflow:Unresolved object in checkpoint: (root).optimizer.beta_1\n",
      "WARNING:tensorflow:Unresolved object in checkpoint: (root).optimizer.beta_2\n",
      "WARNING:tensorflow:Unresolved object in checkpoint: (root).optimizer.decay\n",
      "WARNING:tensorflow:Unresolved object in checkpoint: (root).optimizer.learning_rate\n",
      "WARNING:tensorflow:A checkpoint was restored (e.g. tf.train.Checkpoint.restore or tf.keras.Model.load_weights) but not all checkpointed values were used. See above for specific issues. Use expect_partial() on the load status object, e.g. tf.train.Checkpoint.restore(...).expect_partial(), to silence these warnings, or use assert_consumed() to make the check explicit. See https://www.tensorflow.org/guide/checkpoint#loading_mechanics for details.\n",
      "WARNING:tensorflow:Unresolved object in checkpoint: (root).optimizer.iter\n",
      "WARNING:tensorflow:Unresolved object in checkpoint: (root).optimizer.beta_1\n",
      "WARNING:tensorflow:Unresolved object in checkpoint: (root).optimizer.beta_2\n",
      "WARNING:tensorflow:Unresolved object in checkpoint: (root).optimizer.decay\n",
      "WARNING:tensorflow:Unresolved object in checkpoint: (root).optimizer.learning_rate\n",
      "WARNING:tensorflow:A checkpoint was restored (e.g. tf.train.Checkpoint.restore or tf.keras.Model.load_weights) but not all checkpointed values were used. See above for specific issues. Use expect_partial() on the load status object, e.g. tf.train.Checkpoint.restore(...).expect_partial(), to silence these warnings, or use assert_consumed() to make the check explicit. See https://www.tensorflow.org/guide/checkpoint#loading_mechanics for details.\n",
      "WARNING:tensorflow:Unresolved object in checkpoint: (root).optimizer.iter\n",
      "WARNING:tensorflow:Unresolved object in checkpoint: (root).optimizer.beta_1\n",
      "WARNING:tensorflow:Unresolved object in checkpoint: (root).optimizer.beta_2\n",
      "WARNING:tensorflow:Unresolved object in checkpoint: (root).optimizer.decay\n",
      "WARNING:tensorflow:Unresolved object in checkpoint: (root).optimizer.learning_rate\n",
      "WARNING:tensorflow:A checkpoint was restored (e.g. tf.train.Checkpoint.restore or tf.keras.Model.load_weights) but not all checkpointed values were used. See above for specific issues. Use expect_partial() on the load status object, e.g. tf.train.Checkpoint.restore(...).expect_partial(), to silence these warnings, or use assert_consumed() to make the check explicit. See https://www.tensorflow.org/guide/checkpoint#loading_mechanics for details.\n",
      "4636/4636 [==============================] - 119s 25ms/step - loss: 25720.8066 - mean_absolute_error: 82.2438\n",
      "evaluation ended!\n",
      "window_size: 30 - window_shift: 3\n",
      "starting to fit...\n",
      "fit ended!\n",
      "starting to evaluate...\n",
      "1546/1546 [==============================] - 41s 25ms/step - loss: 25764.2227 - mean_absolute_error: 84.6936\n",
      "evaluation ended!\n",
      "window_size: 30 - window_shift: 6\n",
      "starting to fit...\n",
      "fit ended!\n",
      "starting to evaluate...\n",
      "773/773 [==============================] - 21s 26ms/step - loss: 26074.8262 - mean_absolute_error: 88.1915\n",
      "evaluation ended!\n",
      "window_size: 30 - window_shift: 9\n",
      "starting to fit...\n",
      "Epoch 1/25\n",
      "WARNING:tensorflow:Unresolved object in checkpoint: (root).optimizer.iter\n",
      "WARNING:tensorflow:Unresolved object in checkpoint: (root).optimizer.beta_1\n",
      "WARNING:tensorflow:Unresolved object in checkpoint: (root).optimizer.beta_2\n",
      "WARNING:tensorflow:Unresolved object in checkpoint: (root).optimizer.decay\n",
      "WARNING:tensorflow:Unresolved object in checkpoint: (root).optimizer.learning_rate\n",
      "WARNING:tensorflow:A checkpoint was restored (e.g. tf.train.Checkpoint.restore or tf.keras.Model.load_weights) but not all checkpointed values were used. See above for specific issues. Use expect_partial() on the load status object, e.g. tf.train.Checkpoint.restore(...).expect_partial(), to silence these warnings, or use assert_consumed() to make the check explicit. See https://www.tensorflow.org/guide/checkpoint#loading_mechanics for details.\n",
      "WARNING:tensorflow:Unresolved object in checkpoint: (root).optimizer.iter\n",
      "WARNING:tensorflow:Unresolved object in checkpoint: (root).optimizer.beta_1\n",
      "WARNING:tensorflow:Unresolved object in checkpoint: (root).optimizer.beta_2\n",
      "WARNING:tensorflow:Unresolved object in checkpoint: (root).optimizer.decay\n",
      "WARNING:tensorflow:Unresolved object in checkpoint: (root).optimizer.learning_rate\n",
      "WARNING:tensorflow:A checkpoint was restored (e.g. tf.train.Checkpoint.restore or tf.keras.Model.load_weights) but not all checkpointed values were used. See above for specific issues. Use expect_partial() on the load status object, e.g. tf.train.Checkpoint.restore(...).expect_partial(), to silence these warnings, or use assert_consumed() to make the check explicit. See https://www.tensorflow.org/guide/checkpoint#loading_mechanics for details.\n",
      "WARNING:tensorflow:Unresolved object in checkpoint: (root).optimizer.iter\n",
      "WARNING:tensorflow:Unresolved object in checkpoint: (root).optimizer.beta_1\n",
      "WARNING:tensorflow:Unresolved object in checkpoint: (root).optimizer.beta_2\n",
      "WARNING:tensorflow:Unresolved object in checkpoint: (root).optimizer.decay\n",
      "WARNING:tensorflow:Unresolved object in checkpoint: (root).optimizer.learning_rate\n",
      "WARNING:tensorflow:A checkpoint was restored (e.g. tf.train.Checkpoint.restore or tf.keras.Model.load_weights) but not all checkpointed values were used. See above for specific issues. Use expect_partial() on the load status object, e.g. tf.train.Checkpoint.restore(...).expect_partial(), to silence these warnings, or use assert_consumed() to make the check explicit. See https://www.tensorflow.org/guide/checkpoint#loading_mechanics for details.\n",
      "403/403 [==============================] - 31s 65ms/step - loss: 167220.8906 - mean_absolute_error: 291.3434 - val_loss: 55905.2461 - val_mean_absolute_error: 120.7767\n",
      "Epoch 2/25\n",
      "403/403 [==============================] - 25s 62ms/step - loss: 40340.4219 - mean_absolute_error: 121.1869 - val_loss: 33248.5352 - val_mean_absolute_error: 106.8137\n",
      "Epoch 3/25\n",
      "403/403 [==============================] - 26s 63ms/step - loss: 30269.2266 - mean_absolute_error: 109.1097 - val_loss: 27589.2422 - val_mean_absolute_error: 85.4595\n",
      "Epoch 4/25\n",
      "403/403 [==============================] - 26s 64ms/step - loss: 27095.2461 - mean_absolute_error: 103.3112 - val_loss: 21231.9980 - val_mean_absolute_error: 76.8284\n",
      "Epoch 5/25\n",
      "403/403 [==============================] - 25s 63ms/step - loss: 25576.2520 - mean_absolute_error: 100.0751 - val_loss: 20711.0449 - val_mean_absolute_error: 67.0377\n",
      "Epoch 6/25\n",
      "403/403 [==============================] - 26s 63ms/step - loss: 24323.4297 - mean_absolute_error: 97.7206 - val_loss: 20940.7383 - val_mean_absolute_error: 70.1578\n",
      "Epoch 7/25\n",
      "403/403 [==============================] - 25s 63ms/step - loss: 23964.2578 - mean_absolute_error: 95.3983 - val_loss: 19414.6562 - val_mean_absolute_error: 66.2477\n",
      "Epoch 8/25\n",
      "403/403 [==============================] - 25s 63ms/step - loss: 23095.4375 - mean_absolute_error: 93.5863 - val_loss: 19606.3125 - val_mean_absolute_error: 66.5119\n",
      "Epoch 9/25\n",
      "403/403 [==============================] - 25s 63ms/step - loss: 22851.4766 - mean_absolute_error: 93.4407 - val_loss: 19994.8301 - val_mean_absolute_error: 66.3632\n",
      "Epoch 10/25\n",
      "403/403 [==============================] - 25s 63ms/step - loss: 22715.4746 - mean_absolute_error: 92.5966 - val_loss: 19742.1582 - val_mean_absolute_error: 73.6968\n",
      "Epoch 11/25\n",
      "403/403 [==============================] - 25s 63ms/step - loss: 22506.3848 - mean_absolute_error: 91.6121 - val_loss: 20009.3867 - val_mean_absolute_error: 77.3741\n",
      "Epoch 12/25\n",
      "403/403 [==============================] - 25s 63ms/step - loss: 21938.1660 - mean_absolute_error: 90.2964 - val_loss: 19015.0488 - val_mean_absolute_error: 69.1110\n",
      "Epoch 13/25\n",
      "403/403 [==============================] - 25s 63ms/step - loss: 21676.5977 - mean_absolute_error: 89.4282 - val_loss: 18841.9121 - val_mean_absolute_error: 67.1740\n",
      "Epoch 14/25\n",
      "403/403 [==============================] - 25s 63ms/step - loss: 21650.2305 - mean_absolute_error: 88.9076 - val_loss: 18442.5273 - val_mean_absolute_error: 66.4926\n",
      "Epoch 15/25\n",
      "403/403 [==============================] - 25s 63ms/step - loss: 21650.2695 - mean_absolute_error: 88.8172 - val_loss: 18519.8320 - val_mean_absolute_error: 64.9932\n",
      "Epoch 16/25\n",
      "403/403 [==============================] - 25s 63ms/step - loss: 21209.4434 - mean_absolute_error: 87.4641 - val_loss: 19417.3125 - val_mean_absolute_error: 69.4459\n",
      "Epoch 17/25\n",
      "403/403 [==============================] - 25s 63ms/step - loss: 21206.9727 - mean_absolute_error: 86.9990 - val_loss: 18575.5352 - val_mean_absolute_error: 68.8104\n",
      "Epoch 18/25\n",
      "403/403 [==============================] - 26s 63ms/step - loss: 21095.6484 - mean_absolute_error: 86.9972 - val_loss: 18223.8555 - val_mean_absolute_error: 63.4289\n",
      "Epoch 19/25\n",
      "403/403 [==============================] - 26s 64ms/step - loss: 21122.2207 - mean_absolute_error: 86.8470 - val_loss: 18234.5156 - val_mean_absolute_error: 62.5181\n",
      "Epoch 20/25\n",
      "403/403 [==============================] - 26s 63ms/step - loss: 21099.9668 - mean_absolute_error: 86.1965 - val_loss: 18947.0586 - val_mean_absolute_error: 67.0730\n",
      "Epoch 21/25\n",
      "403/403 [==============================] - 25s 63ms/step - loss: 21017.2676 - mean_absolute_error: 86.6142 - val_loss: 18428.8516 - val_mean_absolute_error: 64.5935\n",
      "Epoch 22/25\n",
      "403/403 [==============================] - 25s 63ms/step - loss: 20798.8398 - mean_absolute_error: 85.3028 - val_loss: 18775.5977 - val_mean_absolute_error: 64.1587\n",
      "Epoch 23/25\n",
      "403/403 [==============================] - 25s 63ms/step - loss: 20915.1875 - mean_absolute_error: 85.3884 - val_loss: 19095.7109 - val_mean_absolute_error: 68.6521\n",
      "Epoch 24/25\n",
      "403/403 [==============================] - 25s 63ms/step - loss: 20598.2344 - mean_absolute_error: 85.0973 - val_loss: 18410.4746 - val_mean_absolute_error: 65.9991\n",
      "Epoch 25/25\n",
      "403/403 [==============================] - 25s 63ms/step - loss: 20643.6172 - mean_absolute_error: 84.5227 - val_loss: 18595.4414 - val_mean_absolute_error: 64.4115\n",
      "fit ended!\n",
      "starting to evaluate...\n",
      "516/516 [==============================] - 14s 26ms/step - loss: 27590.9570 - mean_absolute_error: 89.0134\n",
      "evaluation ended!\n",
      "window_size: 36 - window_shift: 1\n",
      "starting to fit...\n",
      "Epoch 1/25\n",
      "3622/3622 [==============================] - 258s 70ms/step - loss: 42789.1016 - mean_absolute_error: 122.5045 - val_loss: 20241.1777 - val_mean_absolute_error: 64.4264\n",
      "Epoch 2/25\n",
      "3622/3622 [==============================] - 252s 70ms/step - loss: 22962.4980 - mean_absolute_error: 90.4157 - val_loss: 20669.5820 - val_mean_absolute_error: 76.4724\n",
      "Epoch 3/25\n",
      "3622/3622 [==============================] - 271s 75ms/step - loss: 22188.5137 - mean_absolute_error: 87.1918 - val_loss: 20174.8633 - val_mean_absolute_error: 63.5441\n",
      "Epoch 4/25\n",
      "3622/3622 [==============================] - 251s 69ms/step - loss: 21818.4414 - mean_absolute_error: 85.5260 - val_loss: 19764.2051 - val_mean_absolute_error: 57.8797\n",
      "Epoch 5/25\n",
      "3622/3622 [==============================] - 253s 70ms/step - loss: 21618.9922 - mean_absolute_error: 84.4490 - val_loss: 19921.5762 - val_mean_absolute_error: 63.8597\n",
      "Epoch 6/25\n",
      "3622/3622 [==============================] - 253s 70ms/step - loss: 21498.1094 - mean_absolute_error: 83.9938 - val_loss: 19923.0176 - val_mean_absolute_error: 60.7832\n",
      "Epoch 7/25\n",
      "3622/3622 [==============================] - 254s 70ms/step - loss: 21258.3672 - mean_absolute_error: 83.2544 - val_loss: 19576.3164 - val_mean_absolute_error: 64.1407\n",
      "Epoch 8/25\n",
      "3622/3622 [==============================] - 253s 70ms/step - loss: 21182.4766 - mean_absolute_error: 82.9205 - val_loss: 19984.1934 - val_mean_absolute_error: 62.3361\n",
      "Epoch 9/25\n",
      "3622/3622 [==============================] - 253s 70ms/step - loss: 21061.0996 - mean_absolute_error: 82.4563 - val_loss: 19636.0137 - val_mean_absolute_error: 66.1406\n",
      "Epoch 10/25\n",
      "3622/3622 [==============================] - 255s 70ms/step - loss: 21047.1680 - mean_absolute_error: 82.4752 - val_loss: 20002.8066 - val_mean_absolute_error: 62.5148\n",
      "Epoch 11/25\n",
      "3622/3622 [==============================] - 254s 70ms/step - loss: 20813.8027 - mean_absolute_error: 81.6604 - val_loss: 19429.0586 - val_mean_absolute_error: 57.2275\n",
      "Epoch 12/25\n",
      "3622/3622 [==============================] - 254s 70ms/step - loss: 20951.1523 - mean_absolute_error: 81.7494 - val_loss: 19381.7129 - val_mean_absolute_error: 59.8950\n",
      "Epoch 13/25\n",
      "3622/3622 [==============================] - 255s 70ms/step - loss: 20858.1172 - mean_absolute_error: 81.5193 - val_loss: 19512.8457 - val_mean_absolute_error: 62.9670\n",
      "Epoch 14/25\n",
      "3622/3622 [==============================] - 254s 70ms/step - loss: 20727.7109 - mean_absolute_error: 81.2044 - val_loss: 19299.3770 - val_mean_absolute_error: 57.8883\n",
      "Epoch 15/25\n",
      "3622/3622 [==============================] - 255s 70ms/step - loss: 20834.7031 - mean_absolute_error: 81.3676 - val_loss: 19696.3574 - val_mean_absolute_error: 71.4710\n",
      "Epoch 16/25\n",
      "3622/3622 [==============================] - 254s 70ms/step - loss: 20737.5371 - mean_absolute_error: 80.9522 - val_loss: 19539.5059 - val_mean_absolute_error: 59.0157\n",
      "Epoch 17/25\n",
      "3622/3622 [==============================] - 255s 70ms/step - loss: 20627.4102 - mean_absolute_error: 80.8014 - val_loss: 19410.3262 - val_mean_absolute_error: 63.4047\n",
      "Epoch 18/25\n",
      "3622/3622 [==============================] - 257s 71ms/step - loss: 20623.2910 - mean_absolute_error: 80.6804 - val_loss: 19586.5410 - val_mean_absolute_error: 68.4606\n",
      "Epoch 19/25\n",
      "3622/3622 [==============================] - 256s 71ms/step - loss: 20604.5195 - mean_absolute_error: 80.5169 - val_loss: 19523.1348 - val_mean_absolute_error: 58.8237\n",
      "Epoch 20/25\n",
      "3622/3622 [==============================] - 255s 70ms/step - loss: 20607.1504 - mean_absolute_error: 80.4650 - val_loss: 19755.4922 - val_mean_absolute_error: 69.7866\n",
      "Epoch 21/25\n",
      "3622/3622 [==============================] - 256s 71ms/step - loss: 20445.3809 - mean_absolute_error: 80.0919 - val_loss: 19454.1875 - val_mean_absolute_error: 62.1353\n",
      "Epoch 22/25\n",
      "3622/3622 [==============================] - 256s 71ms/step - loss: 20410.2773 - mean_absolute_error: 79.9633 - val_loss: 19471.4023 - val_mean_absolute_error: 60.4803\n",
      "Epoch 23/25\n",
      "3622/3622 [==============================] - 257s 71ms/step - loss: 20393.8164 - mean_absolute_error: 80.0754 - val_loss: 19385.3984 - val_mean_absolute_error: 66.3897\n",
      "Epoch 24/25\n",
      "3622/3622 [==============================] - 258s 71ms/step - loss: 20332.9609 - mean_absolute_error: 79.7026 - val_loss: 19304.2969 - val_mean_absolute_error: 59.5627\n",
      "Epoch 25/25\n",
      "3622/3622 [==============================] - 259s 72ms/step - loss: 20299.3047 - mean_absolute_error: 79.4724 - val_loss: 19341.8477 - val_mean_absolute_error: 62.8706\n",
      "fit ended!\n",
      "starting to evaluate...\n",
      "4636/4636 [==============================] - 139s 30ms/step - loss: 26302.9512 - mean_absolute_error: 84.0687\n",
      "evaluation ended!\n",
      "window_size: 36 - window_shift: 3\n",
      "starting to fit...\n",
      "Epoch 1/25\n",
      "1208/1208 [==============================] - 93s 74ms/step - loss: 76146.1953 - mean_absolute_error: 170.5872 - val_loss: 21202.3652 - val_mean_absolute_error: 78.2344\n",
      "Epoch 2/25\n",
      "1208/1208 [==============================] - 87s 72ms/step - loss: 26154.6973 - mean_absolute_error: 99.7554 - val_loss: 18479.3359 - val_mean_absolute_error: 69.3083\n",
      "Epoch 3/25\n",
      "1208/1208 [==============================] - 88s 73ms/step - loss: 23850.3984 - mean_absolute_error: 93.9966 - val_loss: 18242.1328 - val_mean_absolute_error: 65.8371\n",
      "Epoch 4/25\n",
      "1208/1208 [==============================] - 88s 73ms/step - loss: 23255.8066 - mean_absolute_error: 92.0201 - val_loss: 17852.4531 - val_mean_absolute_error: 61.2891\n",
      "Epoch 5/25\n",
      "1208/1208 [==============================] - 88s 73ms/step - loss: 22847.4277 - mean_absolute_error: 90.1653 - val_loss: 17794.4531 - val_mean_absolute_error: 68.0773\n",
      "Epoch 6/25\n",
      "1208/1208 [==============================] - 88s 73ms/step - loss: 22586.1699 - mean_absolute_error: 89.0902 - val_loss: 17485.1895 - val_mean_absolute_error: 61.3904\n",
      "Epoch 7/25\n",
      "1208/1208 [==============================] - 89s 73ms/step - loss: 22359.8594 - mean_absolute_error: 88.1669 - val_loss: 18589.3945 - val_mean_absolute_error: 66.8076\n",
      "Epoch 8/25\n",
      "1208/1208 [==============================] - 87s 72ms/step - loss: 22241.7910 - mean_absolute_error: 87.4339 - val_loss: 17416.9512 - val_mean_absolute_error: 67.4983\n",
      "Epoch 9/25\n",
      "1208/1208 [==============================] - 88s 73ms/step - loss: 22087.3633 - mean_absolute_error: 86.5673 - val_loss: 17102.9648 - val_mean_absolute_error: 65.3322\n",
      "Epoch 10/25\n",
      "1208/1208 [==============================] - 88s 73ms/step - loss: 21865.9746 - mean_absolute_error: 86.2042 - val_loss: 17267.7207 - val_mean_absolute_error: 59.5604\n",
      "Epoch 11/25\n",
      "1208/1208 [==============================] - 88s 73ms/step - loss: 21790.9824 - mean_absolute_error: 85.7609 - val_loss: 16981.8613 - val_mean_absolute_error: 60.4925\n",
      "Epoch 12/25\n",
      "1208/1208 [==============================] - 88s 73ms/step - loss: 21769.3105 - mean_absolute_error: 85.6626 - val_loss: 16929.9746 - val_mean_absolute_error: 59.1646\n",
      "Epoch 13/25\n",
      "1208/1208 [==============================] - 88s 73ms/step - loss: 21693.4590 - mean_absolute_error: 85.4469 - val_loss: 17082.6855 - val_mean_absolute_error: 62.5176\n",
      "Epoch 14/25\n",
      "1208/1208 [==============================] - 88s 73ms/step - loss: 21541.5938 - mean_absolute_error: 84.6579 - val_loss: 18449.8184 - val_mean_absolute_error: 77.8366\n",
      "Epoch 15/25\n",
      "1208/1208 [==============================] - 88s 73ms/step - loss: 21547.4551 - mean_absolute_error: 84.7778 - val_loss: 16580.4453 - val_mean_absolute_error: 56.7753\n",
      "Epoch 16/25\n",
      "1208/1208 [==============================] - 88s 73ms/step - loss: 21476.8574 - mean_absolute_error: 84.5779 - val_loss: 16809.3301 - val_mean_absolute_error: 60.2037\n",
      "Epoch 17/25\n",
      "1208/1208 [==============================] - 89s 74ms/step - loss: 21365.1973 - mean_absolute_error: 84.1988 - val_loss: 16661.3926 - val_mean_absolute_error: 56.2354\n",
      "Epoch 18/25\n",
      "1208/1208 [==============================] - 88s 73ms/step - loss: 21432.7266 - mean_absolute_error: 84.0210 - val_loss: 16528.0762 - val_mean_absolute_error: 57.3278\n",
      "Epoch 19/25\n",
      "1208/1208 [==============================] - 88s 73ms/step - loss: 21425.9941 - mean_absolute_error: 83.7831 - val_loss: 16822.1602 - val_mean_absolute_error: 59.8025\n",
      "Epoch 20/25\n",
      "1208/1208 [==============================] - 88s 73ms/step - loss: 21343.6660 - mean_absolute_error: 83.7709 - val_loss: 16596.7715 - val_mean_absolute_error: 57.8241\n",
      "Epoch 21/25\n",
      "1208/1208 [==============================] - 88s 73ms/step - loss: 21295.3535 - mean_absolute_error: 83.8763 - val_loss: 16850.7207 - val_mean_absolute_error: 63.1937\n",
      "Epoch 22/25\n",
      "1208/1208 [==============================] - 88s 73ms/step - loss: 21159.1719 - mean_absolute_error: 83.2240 - val_loss: 16682.6719 - val_mean_absolute_error: 59.5696\n",
      "Epoch 23/25\n",
      "1208/1208 [==============================] - 88s 73ms/step - loss: 21110.2969 - mean_absolute_error: 83.1553 - val_loss: 17235.7266 - val_mean_absolute_error: 63.0206\n",
      "Epoch 24/25\n",
      "1208/1208 [==============================] - 88s 73ms/step - loss: 21188.8945 - mean_absolute_error: 82.9814 - val_loss: 16682.5117 - val_mean_absolute_error: 59.6086\n",
      "Epoch 25/25\n",
      "1208/1208 [==============================] - 88s 73ms/step - loss: 21144.4434 - mean_absolute_error: 83.1832 - val_loss: 16654.4336 - val_mean_absolute_error: 58.9223\n",
      "fit ended!\n",
      "starting to evaluate...\n",
      "1546/1546 [==============================] - 47s 30ms/step - loss: 25970.7168 - mean_absolute_error: 84.0325\n",
      "evaluation ended!\n",
      "window_size: 36 - window_shift: 6\n",
      "starting to fit...\n",
      "Epoch 1/25\n",
      "604/604 [==============================] - 49s 75ms/step - loss: 119184.5547 - mean_absolute_error: 228.7350 - val_loss: 34012.9805 - val_mean_absolute_error: 101.0293\n",
      "Epoch 2/25\n",
      "604/604 [==============================] - 45s 74ms/step - loss: 30783.5371 - mean_absolute_error: 109.0037 - val_loss: 24357.4043 - val_mean_absolute_error: 79.3830\n",
      "Epoch 3/25\n",
      "604/604 [==============================] - 44s 73ms/step - loss: 26405.5312 - mean_absolute_error: 100.5319 - val_loss: 22696.4844 - val_mean_absolute_error: 72.9636\n",
      "Epoch 4/25\n",
      "604/604 [==============================] - 45s 74ms/step - loss: 25718.4531 - mean_absolute_error: 98.6046 - val_loss: 21749.7832 - val_mean_absolute_error: 73.7861\n",
      "Epoch 5/25\n",
      "604/604 [==============================] - 44s 74ms/step - loss: 24627.3828 - mean_absolute_error: 95.5240 - val_loss: 21377.3516 - val_mean_absolute_error: 71.7797\n",
      "Epoch 6/25\n",
      "604/604 [==============================] - 45s 74ms/step - loss: 24013.0254 - mean_absolute_error: 94.2402 - val_loss: 20358.3457 - val_mean_absolute_error: 68.3205\n",
      "Epoch 7/25\n",
      "604/604 [==============================] - 44s 73ms/step - loss: 23717.6074 - mean_absolute_error: 92.9042 - val_loss: 20032.1348 - val_mean_absolute_error: 68.8882\n",
      "Epoch 8/25\n",
      "604/604 [==============================] - 44s 73ms/step - loss: 23178.8203 - mean_absolute_error: 90.6709 - val_loss: 20119.0039 - val_mean_absolute_error: 71.3645\n",
      "Epoch 9/25\n",
      "604/604 [==============================] - 44s 73ms/step - loss: 23098.6680 - mean_absolute_error: 90.3689 - val_loss: 20446.1406 - val_mean_absolute_error: 72.2129\n",
      "Epoch 10/25\n",
      "604/604 [==============================] - 44s 73ms/step - loss: 22880.6699 - mean_absolute_error: 89.6212 - val_loss: 19786.4590 - val_mean_absolute_error: 74.5240\n",
      "Epoch 11/25\n",
      "604/604 [==============================] - 44s 74ms/step - loss: 22608.6191 - mean_absolute_error: 88.8888 - val_loss: 19585.2266 - val_mean_absolute_error: 67.9832\n",
      "Epoch 12/25\n",
      "604/604 [==============================] - 44s 73ms/step - loss: 22527.6953 - mean_absolute_error: 88.3729 - val_loss: 19755.3789 - val_mean_absolute_error: 72.6186\n",
      "Epoch 13/25\n",
      "604/604 [==============================] - 44s 73ms/step - loss: 22475.3457 - mean_absolute_error: 88.3419 - val_loss: 19520.8691 - val_mean_absolute_error: 66.2087\n",
      "Epoch 14/25\n",
      "604/604 [==============================] - 44s 73ms/step - loss: 22284.4082 - mean_absolute_error: 87.8138 - val_loss: 19711.9941 - val_mean_absolute_error: 69.4246\n",
      "Epoch 15/25\n",
      "604/604 [==============================] - 44s 73ms/step - loss: 22407.8711 - mean_absolute_error: 87.5676 - val_loss: 19514.5391 - val_mean_absolute_error: 68.3442\n",
      "Epoch 16/25\n",
      "604/604 [==============================] - 44s 73ms/step - loss: 22145.8750 - mean_absolute_error: 87.1466 - val_loss: 19748.7930 - val_mean_absolute_error: 71.4748\n",
      "Epoch 17/25\n",
      "604/604 [==============================] - 44s 73ms/step - loss: 21814.0215 - mean_absolute_error: 86.6072 - val_loss: 19748.7715 - val_mean_absolute_error: 73.1602\n",
      "Epoch 18/25\n",
      "604/604 [==============================] - 45s 74ms/step - loss: 21955.0117 - mean_absolute_error: 86.0954 - val_loss: 19433.1934 - val_mean_absolute_error: 65.5371\n",
      "Epoch 19/25\n",
      "604/604 [==============================] - 44s 73ms/step - loss: 22050.6016 - mean_absolute_error: 86.5311 - val_loss: 19381.6660 - val_mean_absolute_error: 66.3163\n",
      "Epoch 20/25\n",
      "604/604 [==============================] - 44s 73ms/step - loss: 21904.9062 - mean_absolute_error: 86.3359 - val_loss: 19259.5879 - val_mean_absolute_error: 66.0706\n",
      "Epoch 21/25\n",
      "604/604 [==============================] - 44s 73ms/step - loss: 21607.6016 - mean_absolute_error: 84.9031 - val_loss: 20449.0273 - val_mean_absolute_error: 77.5921\n",
      "Epoch 22/25\n",
      "604/604 [==============================] - 45s 74ms/step - loss: 21555.5098 - mean_absolute_error: 85.1334 - val_loss: 19263.6211 - val_mean_absolute_error: 64.3707\n",
      "Epoch 23/25\n",
      "604/604 [==============================] - 44s 73ms/step - loss: 21847.0781 - mean_absolute_error: 85.3300 - val_loss: 19499.3223 - val_mean_absolute_error: 72.1035\n",
      "Epoch 24/25\n",
      "604/604 [==============================] - 45s 74ms/step - loss: 21695.3672 - mean_absolute_error: 84.9572 - val_loss: 18999.7266 - val_mean_absolute_error: 61.3766\n",
      "Epoch 25/25\n",
      "604/604 [==============================] - 44s 73ms/step - loss: 21855.4707 - mean_absolute_error: 84.9014 - val_loss: 19477.5312 - val_mean_absolute_error: 66.9648\n",
      "fit ended!\n",
      "starting to evaluate...\n",
      "773/773 [==============================] - 24s 31ms/step - loss: 25431.9316 - mean_absolute_error: 84.4137\n",
      "evaluation ended!\n",
      "window_size: 36 - window_shift: 9\n",
      "starting to fit...\n",
      "Epoch 1/25\n",
      "403/403 [==============================] - 36s 76ms/step - loss: 159277.0781 - mean_absolute_error: 282.8943 - val_loss: 45679.9062 - val_mean_absolute_error: 115.1862\n",
      "Epoch 2/25\n",
      "403/403 [==============================] - 30s 73ms/step - loss: 35747.8750 - mean_absolute_error: 117.2179 - val_loss: 29332.0840 - val_mean_absolute_error: 93.4076\n",
      "Epoch 3/25\n",
      "403/403 [==============================] - 30s 74ms/step - loss: 28763.8828 - mean_absolute_error: 106.9542 - val_loss: 25328.0078 - val_mean_absolute_error: 85.3626\n",
      "Epoch 4/25\n",
      "403/403 [==============================] - 30s 74ms/step - loss: 26244.4648 - mean_absolute_error: 101.6739 - val_loss: 23728.9707 - val_mean_absolute_error: 77.3064\n",
      "Epoch 5/25\n",
      "403/403 [==============================] - 30s 73ms/step - loss: 25530.5625 - mean_absolute_error: 99.5900 - val_loss: 22797.7168 - val_mean_absolute_error: 78.5360\n",
      "Epoch 6/25\n",
      "403/403 [==============================] - 30s 74ms/step - loss: 24341.1016 - mean_absolute_error: 96.3966 - val_loss: 22724.7324 - val_mean_absolute_error: 73.6971\n",
      "Epoch 7/25\n",
      "403/403 [==============================] - 30s 74ms/step - loss: 24022.7891 - mean_absolute_error: 95.1860 - val_loss: 22388.3184 - val_mean_absolute_error: 76.7602\n",
      "Epoch 8/25\n",
      "403/403 [==============================] - 29s 73ms/step - loss: 23446.5684 - mean_absolute_error: 93.8204 - val_loss: 21773.2793 - val_mean_absolute_error: 71.4392\n",
      "Epoch 9/25\n",
      "403/403 [==============================] - 29s 73ms/step - loss: 23375.4785 - mean_absolute_error: 92.9753 - val_loss: 21534.6914 - val_mean_absolute_error: 69.6527\n",
      "Epoch 10/25\n",
      "403/403 [==============================] - 30s 73ms/step - loss: 22792.6172 - mean_absolute_error: 91.5301 - val_loss: 21702.5176 - val_mean_absolute_error: 74.4745\n",
      "Epoch 11/25\n",
      "403/403 [==============================] - 29s 73ms/step - loss: 23052.8301 - mean_absolute_error: 92.0154 - val_loss: 21229.3965 - val_mean_absolute_error: 67.2714\n",
      "Epoch 12/25\n",
      "403/403 [==============================] - 30s 73ms/step - loss: 22585.4297 - mean_absolute_error: 90.5955 - val_loss: 21902.3906 - val_mean_absolute_error: 79.5757\n",
      "Epoch 13/25\n",
      "403/403 [==============================] - 29s 73ms/step - loss: 22631.8242 - mean_absolute_error: 89.9895 - val_loss: 21057.2441 - val_mean_absolute_error: 73.0393\n",
      "Epoch 14/25\n",
      "403/403 [==============================] - 29s 73ms/step - loss: 22091.3848 - mean_absolute_error: 88.7268 - val_loss: 21654.6367 - val_mean_absolute_error: 73.6900\n",
      "Epoch 15/25\n",
      "403/403 [==============================] - 30s 74ms/step - loss: 22169.4492 - mean_absolute_error: 89.2007 - val_loss: 20760.8066 - val_mean_absolute_error: 65.9835\n",
      "Epoch 16/25\n",
      "403/403 [==============================] - 30s 74ms/step - loss: 21897.7285 - mean_absolute_error: 88.7787 - val_loss: 21849.6426 - val_mean_absolute_error: 71.5098\n",
      "Epoch 17/25\n",
      "403/403 [==============================] - 30s 73ms/step - loss: 22032.8047 - mean_absolute_error: 88.7202 - val_loss: 20721.9277 - val_mean_absolute_error: 69.4961\n",
      "Epoch 18/25\n",
      "403/403 [==============================] - 29s 73ms/step - loss: 21880.6133 - mean_absolute_error: 87.1054 - val_loss: 20983.4941 - val_mean_absolute_error: 70.1519\n",
      "Epoch 19/25\n",
      "403/403 [==============================] - 29s 73ms/step - loss: 21458.6270 - mean_absolute_error: 86.5922 - val_loss: 21482.8320 - val_mean_absolute_error: 76.2066\n",
      "Epoch 20/25\n",
      "403/403 [==============================] - 29s 73ms/step - loss: 21487.4102 - mean_absolute_error: 86.2625 - val_loss: 20603.3516 - val_mean_absolute_error: 69.4263\n",
      "Epoch 21/25\n",
      "403/403 [==============================] - 29s 73ms/step - loss: 21625.9844 - mean_absolute_error: 86.7989 - val_loss: 22341.8008 - val_mean_absolute_error: 87.4930\n",
      "Epoch 22/25\n",
      "403/403 [==============================] - 29s 72ms/step - loss: 21436.3008 - mean_absolute_error: 86.3406 - val_loss: 21316.2070 - val_mean_absolute_error: 69.6679\n",
      "Epoch 23/25\n",
      "403/403 [==============================] - 29s 73ms/step - loss: 21141.7109 - mean_absolute_error: 85.8480 - val_loss: 21170.9297 - val_mean_absolute_error: 80.8561\n",
      "Epoch 24/25\n",
      "403/403 [==============================] - 30s 74ms/step - loss: 21273.1094 - mean_absolute_error: 85.8279 - val_loss: 20617.6055 - val_mean_absolute_error: 65.5914\n",
      "Epoch 25/25\n",
      "403/403 [==============================] - 30s 74ms/step - loss: 21108.2285 - mean_absolute_error: 85.2606 - val_loss: 20820.3516 - val_mean_absolute_error: 70.3355\n",
      "fit ended!\n",
      "starting to evaluate...\n",
      "516/516 [==============================] - 16s 31ms/step - loss: 25184.1934 - mean_absolute_error: 84.3712\n",
      "evaluation ended!\n",
      "window_size: 42 - window_shift: 1\n",
      "starting to fit...\n",
      "Epoch 1/25\n",
      "3622/3622 [==============================] - 298s 81ms/step - loss: 42715.4023 - mean_absolute_error: 122.4686 - val_loss: 19421.5566 - val_mean_absolute_error: 62.6628\n",
      "Epoch 2/25\n",
      "3622/3622 [==============================] - 293s 81ms/step - loss: 23041.0137 - mean_absolute_error: 90.2921 - val_loss: 19156.6602 - val_mean_absolute_error: 62.3286\n",
      "Epoch 3/25\n",
      "3622/3622 [==============================] - 293s 81ms/step - loss: 22347.4824 - mean_absolute_error: 87.4998 - val_loss: 18998.9316 - val_mean_absolute_error: 67.5648\n",
      "Epoch 4/25\n",
      "3622/3622 [==============================] - 301s 83ms/step - loss: 21955.1406 - mean_absolute_error: 85.7123 - val_loss: 18805.1328 - val_mean_absolute_error: 59.1318\n",
      "Epoch 5/25\n",
      "3622/3622 [==============================] - 293s 81ms/step - loss: 21800.3320 - mean_absolute_error: 84.7145 - val_loss: 18951.6641 - val_mean_absolute_error: 62.0597\n",
      "Epoch 6/25\n",
      "3622/3622 [==============================] - 293s 81ms/step - loss: 21528.4023 - mean_absolute_error: 83.9451 - val_loss: 18619.5117 - val_mean_absolute_error: 58.9254\n",
      "Epoch 7/25\n",
      "3622/3622 [==============================] - 293s 81ms/step - loss: 21448.0215 - mean_absolute_error: 83.3943 - val_loss: 18652.6113 - val_mean_absolute_error: 64.7889\n",
      "Epoch 8/25\n",
      "3622/3622 [==============================] - 292s 81ms/step - loss: 21398.1113 - mean_absolute_error: 83.1243 - val_loss: 18623.2871 - val_mean_absolute_error: 60.0453\n",
      "Epoch 9/25\n",
      "3622/3622 [==============================] - 293s 81ms/step - loss: 21277.0234 - mean_absolute_error: 82.7138 - val_loss: 18910.1348 - val_mean_absolute_error: 65.9247\n",
      "Epoch 10/25\n",
      "3622/3622 [==============================] - 295s 81ms/step - loss: 21249.6074 - mean_absolute_error: 82.4340 - val_loss: 18556.7637 - val_mean_absolute_error: 61.9166\n",
      "Epoch 11/25\n",
      "3622/3622 [==============================] - 293s 81ms/step - loss: 21255.2090 - mean_absolute_error: 82.5629 - val_loss: 18606.2090 - val_mean_absolute_error: 61.0546\n",
      "Epoch 12/25\n",
      "3622/3622 [==============================] - 293s 81ms/step - loss: 21047.5312 - mean_absolute_error: 81.7828 - val_loss: 18421.4160 - val_mean_absolute_error: 57.8555\n",
      "Epoch 13/25\n",
      "3622/3622 [==============================] - 295s 81ms/step - loss: 20995.8262 - mean_absolute_error: 81.4732 - val_loss: 18332.5957 - val_mean_absolute_error: 60.7198\n",
      "Epoch 14/25\n",
      "3622/3622 [==============================] - 292s 81ms/step - loss: 21004.6738 - mean_absolute_error: 81.3914 - val_loss: 18718.3848 - val_mean_absolute_error: 66.3120\n",
      "Epoch 15/25\n",
      "3622/3622 [==============================] - 293s 81ms/step - loss: 20871.3613 - mean_absolute_error: 81.1884 - val_loss: 18695.6855 - val_mean_absolute_error: 65.8080\n",
      "Epoch 16/25\n",
      "3622/3622 [==============================] - 294s 81ms/step - loss: 20906.1543 - mean_absolute_error: 81.0336 - val_loss: 18445.1113 - val_mean_absolute_error: 60.6065\n",
      "Epoch 17/25\n",
      "3622/3622 [==============================] - 293s 81ms/step - loss: 20906.0293 - mean_absolute_error: 81.1725 - val_loss: 18455.7656 - val_mean_absolute_error: 65.0478\n",
      "Epoch 18/25\n",
      "3622/3622 [==============================] - 294s 81ms/step - loss: 20733.7910 - mean_absolute_error: 80.9166 - val_loss: 18723.3184 - val_mean_absolute_error: 65.0368\n",
      "Epoch 19/25\n",
      "3622/3622 [==============================] - 292s 81ms/step - loss: 20807.4609 - mean_absolute_error: 80.8649 - val_loss: 18373.7246 - val_mean_absolute_error: 61.9191\n",
      "Epoch 20/25\n",
      "3622/3622 [==============================] - 292s 81ms/step - loss: 20720.6328 - mean_absolute_error: 80.6306 - val_loss: 18718.6191 - val_mean_absolute_error: 62.9602\n",
      "Epoch 21/25\n",
      "3622/3622 [==============================] - 293s 81ms/step - loss: 20733.1816 - mean_absolute_error: 80.5798 - val_loss: 18590.4336 - val_mean_absolute_error: 57.9315\n",
      "Epoch 22/25\n",
      "3622/3622 [==============================] - 293s 81ms/step - loss: 20666.4238 - mean_absolute_error: 80.3360 - val_loss: 18281.3496 - val_mean_absolute_error: 58.8598\n",
      "Epoch 23/25\n",
      "3622/3622 [==============================] - 293s 81ms/step - loss: 20638.1152 - mean_absolute_error: 80.1792 - val_loss: 18234.0723 - val_mean_absolute_error: 58.1760\n",
      "Epoch 24/25\n",
      "3622/3622 [==============================] - 291s 80ms/step - loss: 20562.9434 - mean_absolute_error: 80.0510 - val_loss: 18774.3555 - val_mean_absolute_error: 64.2175\n",
      "Epoch 25/25\n",
      "3622/3622 [==============================] - 292s 81ms/step - loss: 20525.5371 - mean_absolute_error: 80.0562 - val_loss: 18223.7246 - val_mean_absolute_error: 57.6886\n",
      "fit ended!\n",
      "starting to evaluate...\n",
      "4636/4636 [==============================] - 152s 33ms/step - loss: 25402.4180 - mean_absolute_error: 83.3697\n",
      "evaluation ended!\n",
      "window_size: 42 - window_shift: 3\n",
      "starting to fit...\n",
      "Epoch 1/25\n",
      "1208/1208 [==============================] - 103s 82ms/step - loss: 78231.4375 - mean_absolute_error: 172.5018 - val_loss: 23712.4453 - val_mean_absolute_error: 87.0839\n",
      "Epoch 2/25\n",
      "1208/1208 [==============================] - 98s 81ms/step - loss: 26144.2676 - mean_absolute_error: 99.9251 - val_loss: 18909.4688 - val_mean_absolute_error: 64.4940\n",
      "Epoch 3/25\n",
      "1208/1208 [==============================] - 98s 81ms/step - loss: 23869.1797 - mean_absolute_error: 94.4223 - val_loss: 17863.8125 - val_mean_absolute_error: 64.2594\n",
      "Epoch 4/25\n",
      "1208/1208 [==============================] - 97s 80ms/step - loss: 23500.6758 - mean_absolute_error: 92.2491 - val_loss: 18121.5137 - val_mean_absolute_error: 69.2451\n",
      "Epoch 5/25\n",
      "1208/1208 [==============================] - 97s 81ms/step - loss: 22788.7891 - mean_absolute_error: 89.5001 - val_loss: 17683.5000 - val_mean_absolute_error: 63.4093\n",
      "Epoch 6/25\n",
      "1208/1208 [==============================] - 97s 80ms/step - loss: 22618.7930 - mean_absolute_error: 88.9933 - val_loss: 17314.3105 - val_mean_absolute_error: 64.3415\n",
      "Epoch 7/25\n",
      "1208/1208 [==============================] - 97s 80ms/step - loss: 22429.8789 - mean_absolute_error: 88.1899 - val_loss: 17503.2246 - val_mean_absolute_error: 61.2699\n",
      "Epoch 8/25\n",
      "1208/1208 [==============================] - 97s 80ms/step - loss: 22048.4121 - mean_absolute_error: 86.4907 - val_loss: 17146.6914 - val_mean_absolute_error: 62.9181\n",
      "Epoch 9/25\n",
      "1208/1208 [==============================] - 97s 80ms/step - loss: 22081.0879 - mean_absolute_error: 86.5651 - val_loss: 17409.1758 - val_mean_absolute_error: 62.1433\n",
      "Epoch 10/25\n",
      "1208/1208 [==============================] - 97s 80ms/step - loss: 21788.1113 - mean_absolute_error: 85.7722 - val_loss: 17542.5586 - val_mean_absolute_error: 65.6443\n",
      "Epoch 11/25\n",
      "1208/1208 [==============================] - 97s 80ms/step - loss: 21795.5742 - mean_absolute_error: 85.8582 - val_loss: 16993.8281 - val_mean_absolute_error: 59.3906\n",
      "Epoch 12/25\n",
      "1208/1208 [==============================] - 97s 80ms/step - loss: 21515.2129 - mean_absolute_error: 84.8515 - val_loss: 17269.0781 - val_mean_absolute_error: 58.6617\n",
      "Epoch 13/25\n",
      "1208/1208 [==============================] - 97s 80ms/step - loss: 21599.7773 - mean_absolute_error: 84.6520 - val_loss: 17120.9277 - val_mean_absolute_error: 58.8242\n",
      "Epoch 14/25\n",
      "1208/1208 [==============================] - 97s 80ms/step - loss: 21545.5781 - mean_absolute_error: 84.9189 - val_loss: 17199.6289 - val_mean_absolute_error: 65.5980\n",
      "Epoch 15/25\n",
      "1208/1208 [==============================] - 97s 80ms/step - loss: 21473.8906 - mean_absolute_error: 84.1539 - val_loss: 17115.2695 - val_mean_absolute_error: 61.7891\n",
      "Epoch 16/25\n",
      "1208/1208 [==============================] - 97s 80ms/step - loss: 21439.6348 - mean_absolute_error: 84.1121 - val_loss: 17150.9336 - val_mean_absolute_error: 57.3159\n",
      "Epoch 17/25\n",
      "1208/1208 [==============================] - 97s 80ms/step - loss: 21393.8398 - mean_absolute_error: 83.7722 - val_loss: 17454.7793 - val_mean_absolute_error: 65.5654\n",
      "Epoch 18/25\n",
      "1208/1208 [==============================] - 97s 80ms/step - loss: 21309.2422 - mean_absolute_error: 83.7527 - val_loss: 17368.4219 - val_mean_absolute_error: 66.5655\n",
      "Epoch 19/25\n",
      "1208/1208 [==============================] - 97s 80ms/step - loss: 21196.8633 - mean_absolute_error: 83.3242 - val_loss: 17213.4219 - val_mean_absolute_error: 63.2175\n",
      "Epoch 20/25\n",
      "1208/1208 [==============================] - 97s 80ms/step - loss: 21099.3613 - mean_absolute_error: 83.0665 - val_loss: 17196.4141 - val_mean_absolute_error: 66.9220\n",
      "Epoch 21/25\n",
      "1208/1208 [==============================] - 97s 80ms/step - loss: 21340.7480 - mean_absolute_error: 83.4171 - val_loss: 17120.7617 - val_mean_absolute_error: 61.5422\n",
      "Epoch 22/25\n",
      "1208/1208 [==============================] - 97s 80ms/step - loss: 21179.7246 - mean_absolute_error: 82.9044 - val_loss: 16804.9531 - val_mean_absolute_error: 59.0468\n",
      "Epoch 23/25\n",
      "1208/1208 [==============================] - 98s 81ms/step - loss: 21026.3633 - mean_absolute_error: 82.7127 - val_loss: 18005.2227 - val_mean_absolute_error: 76.8954\n",
      "Epoch 24/25\n",
      "1208/1208 [==============================] - 97s 80ms/step - loss: 20968.4746 - mean_absolute_error: 82.8745 - val_loss: 17550.4727 - val_mean_absolute_error: 66.5479\n",
      "Epoch 25/25\n",
      "1208/1208 [==============================] - 97s 80ms/step - loss: 21119.1777 - mean_absolute_error: 82.6816 - val_loss: 17336.1660 - val_mean_absolute_error: 61.0051\n",
      "fit ended!\n",
      "starting to evaluate...\n",
      "1546/1546 [==============================] - 50s 33ms/step - loss: 26703.6973 - mean_absolute_error: 85.0109\n",
      "evaluation ended!\n",
      "window_size: 42 - window_shift: 6\n",
      "starting to fit...\n",
      "Epoch 1/25\n",
      "604/604 [==============================] - 56s 86ms/step - loss: 116863.5469 - mean_absolute_error: 227.2989 - val_loss: 30454.1992 - val_mean_absolute_error: 104.0988\n",
      "Epoch 2/25\n",
      "604/604 [==============================] - 54s 89ms/step - loss: 30903.5176 - mean_absolute_error: 110.5632 - val_loss: 21745.1328 - val_mean_absolute_error: 92.9345\n",
      "Epoch 3/25\n",
      "604/604 [==============================] - 51s 85ms/step - loss: 26829.5469 - mean_absolute_error: 101.7202 - val_loss: 19008.3027 - val_mean_absolute_error: 70.5941\n",
      "Epoch 4/25\n",
      "604/604 [==============================] - 49s 81ms/step - loss: 25550.1582 - mean_absolute_error: 98.3140 - val_loss: 18983.4102 - val_mean_absolute_error: 78.3136\n",
      "Epoch 5/25\n",
      "604/604 [==============================] - 49s 82ms/step - loss: 25006.2754 - mean_absolute_error: 96.7844 - val_loss: 17998.7266 - val_mean_absolute_error: 67.2515\n",
      "Epoch 6/25\n",
      "604/604 [==============================] - 49s 81ms/step - loss: 24402.4492 - mean_absolute_error: 95.0483 - val_loss: 17703.0723 - val_mean_absolute_error: 65.5854\n",
      "Epoch 7/25\n",
      "604/604 [==============================] - 49s 81ms/step - loss: 24243.6406 - mean_absolute_error: 94.0217 - val_loss: 17475.7305 - val_mean_absolute_error: 58.9550\n",
      "Epoch 8/25\n",
      "604/604 [==============================] - 49s 80ms/step - loss: 23974.4375 - mean_absolute_error: 92.7210 - val_loss: 18043.5664 - val_mean_absolute_error: 63.2396\n",
      "Epoch 9/25\n",
      "604/604 [==============================] - 49s 81ms/step - loss: 23592.7891 - mean_absolute_error: 92.0896 - val_loss: 17739.9355 - val_mean_absolute_error: 68.2870\n",
      "Epoch 10/25\n",
      "604/604 [==============================] - 49s 81ms/step - loss: 23224.3438 - mean_absolute_error: 90.3241 - val_loss: 17813.6699 - val_mean_absolute_error: 64.3115\n",
      "Epoch 11/25\n",
      "604/604 [==============================] - 49s 81ms/step - loss: 23308.0215 - mean_absolute_error: 90.5961 - val_loss: 17164.1523 - val_mean_absolute_error: 61.9389\n",
      "Epoch 12/25\n",
      "604/604 [==============================] - 49s 81ms/step - loss: 22961.8496 - mean_absolute_error: 89.5935 - val_loss: 17357.9062 - val_mean_absolute_error: 68.4847\n",
      "Epoch 13/25\n",
      "604/604 [==============================] - 49s 80ms/step - loss: 22923.0059 - mean_absolute_error: 89.4581 - val_loss: 17201.8477 - val_mean_absolute_error: 65.2958\n",
      "Epoch 14/25\n",
      "604/604 [==============================] - 49s 81ms/step - loss: 22680.2988 - mean_absolute_error: 88.5486 - val_loss: 16966.2148 - val_mean_absolute_error: 61.3402\n",
      "Epoch 15/25\n",
      "604/604 [==============================] - 49s 81ms/step - loss: 22874.4707 - mean_absolute_error: 88.5928 - val_loss: 18336.4199 - val_mean_absolute_error: 67.0529\n",
      "Epoch 16/25\n",
      "604/604 [==============================] - 49s 81ms/step - loss: 22609.0762 - mean_absolute_error: 87.7154 - val_loss: 17383.4141 - val_mean_absolute_error: 63.7930\n",
      "Epoch 17/25\n",
      "604/604 [==============================] - 49s 81ms/step - loss: 22440.8027 - mean_absolute_error: 87.6184 - val_loss: 17351.5273 - val_mean_absolute_error: 67.0628\n",
      "Epoch 18/25\n",
      "604/604 [==============================] - 49s 81ms/step - loss: 22746.1895 - mean_absolute_error: 88.3369 - val_loss: 18573.4746 - val_mean_absolute_error: 69.3782\n",
      "Epoch 19/25\n",
      "604/604 [==============================] - 49s 80ms/step - loss: 22780.2754 - mean_absolute_error: 88.0695 - val_loss: 17128.2207 - val_mean_absolute_error: 62.7871\n",
      "Epoch 20/25\n",
      "604/604 [==============================] - 49s 81ms/step - loss: 22438.9492 - mean_absolute_error: 87.3552 - val_loss: 17129.9277 - val_mean_absolute_error: 66.3486\n",
      "Epoch 21/25\n",
      "604/604 [==============================] - 49s 81ms/step - loss: 22273.9258 - mean_absolute_error: 86.7235 - val_loss: 17544.2734 - val_mean_absolute_error: 68.2632\n",
      "Epoch 22/25\n",
      "604/604 [==============================] - 49s 81ms/step - loss: 22526.5820 - mean_absolute_error: 87.2223 - val_loss: 16954.3633 - val_mean_absolute_error: 59.1731\n",
      "Epoch 23/25\n",
      "604/604 [==============================] - 49s 81ms/step - loss: 22263.9980 - mean_absolute_error: 86.4971 - val_loss: 17345.3457 - val_mean_absolute_error: 68.1481\n",
      "Epoch 24/25\n",
      "604/604 [==============================] - 49s 80ms/step - loss: 22298.2559 - mean_absolute_error: 86.7547 - val_loss: 17269.5449 - val_mean_absolute_error: 62.9598\n",
      "Epoch 25/25\n",
      "604/604 [==============================] - 49s 80ms/step - loss: 22224.9258 - mean_absolute_error: 86.3922 - val_loss: 16848.1211 - val_mean_absolute_error: 61.1255\n",
      "fit ended!\n",
      "starting to evaluate...\n",
      "773/773 [==============================] - 25s 33ms/step - loss: 26460.7559 - mean_absolute_error: 86.5559\n",
      "evaluation ended!\n",
      "window_size: 42 - window_shift: 9\n",
      "starting to fit...\n",
      "Epoch 1/25\n",
      "403/403 [==============================] - 38s 83ms/step - loss: 159267.9688 - mean_absolute_error: 283.3650 - val_loss: 41353.0664 - val_mean_absolute_error: 117.6849\n",
      "Epoch 2/25\n",
      "403/403 [==============================] - 33s 80ms/step - loss: 36561.7969 - mean_absolute_error: 116.7802 - val_loss: 29628.4590 - val_mean_absolute_error: 95.3899\n",
      "Epoch 3/25\n",
      "403/403 [==============================] - 34s 84ms/step - loss: 29169.1602 - mean_absolute_error: 106.6803 - val_loss: 25923.6191 - val_mean_absolute_error: 93.4362\n",
      "Epoch 4/25\n",
      "403/403 [==============================] - 33s 81ms/step - loss: 26546.2324 - mean_absolute_error: 101.6297 - val_loss: 24317.0215 - val_mean_absolute_error: 75.2037\n",
      "Epoch 5/25\n",
      "403/403 [==============================] - 33s 81ms/step - loss: 25352.9629 - mean_absolute_error: 97.8206 - val_loss: 23617.0898 - val_mean_absolute_error: 74.0952\n",
      "Epoch 6/25\n",
      "403/403 [==============================] - 33s 81ms/step - loss: 24752.4238 - mean_absolute_error: 96.6464 - val_loss: 23055.4707 - val_mean_absolute_error: 71.2238\n",
      "Epoch 7/25\n",
      "403/403 [==============================] - 33s 80ms/step - loss: 24328.7754 - mean_absolute_error: 95.1541 - val_loss: 22784.6055 - val_mean_absolute_error: 67.9236\n",
      "Epoch 8/25\n",
      "403/403 [==============================] - 32s 80ms/step - loss: 23944.9805 - mean_absolute_error: 93.4636 - val_loss: 22655.2637 - val_mean_absolute_error: 73.6142\n",
      "Epoch 9/25\n",
      "403/403 [==============================] - 32s 80ms/step - loss: 23158.2637 - mean_absolute_error: 91.8299 - val_loss: 22559.5781 - val_mean_absolute_error: 71.4859\n",
      "Epoch 10/25\n",
      "403/403 [==============================] - 32s 80ms/step - loss: 23387.0645 - mean_absolute_error: 91.9456 - val_loss: 21957.8262 - val_mean_absolute_error: 68.5500\n",
      "Epoch 11/25\n",
      "403/403 [==============================] - 32s 80ms/step - loss: 22659.3223 - mean_absolute_error: 89.8998 - val_loss: 22375.7539 - val_mean_absolute_error: 70.0614\n",
      "Epoch 12/25\n",
      "403/403 [==============================] - 32s 80ms/step - loss: 22843.2637 - mean_absolute_error: 90.1262 - val_loss: 23152.2480 - val_mean_absolute_error: 79.5583\n",
      "Epoch 13/25\n",
      "403/403 [==============================] - 32s 80ms/step - loss: 22428.4473 - mean_absolute_error: 90.0305 - val_loss: 21944.4902 - val_mean_absolute_error: 70.8100\n",
      "Epoch 14/25\n",
      "403/403 [==============================] - 33s 81ms/step - loss: 22541.2930 - mean_absolute_error: 89.3802 - val_loss: 22616.5586 - val_mean_absolute_error: 76.2875\n",
      "Epoch 15/25\n",
      "403/403 [==============================] - 32s 80ms/step - loss: 22360.2383 - mean_absolute_error: 89.4065 - val_loss: 21861.8105 - val_mean_absolute_error: 68.9231\n",
      "Epoch 16/25\n",
      "403/403 [==============================] - 32s 80ms/step - loss: 21792.2070 - mean_absolute_error: 86.9777 - val_loss: 22076.6367 - val_mean_absolute_error: 76.3040\n",
      "Epoch 17/25\n",
      "403/403 [==============================] - 32s 81ms/step - loss: 21974.0703 - mean_absolute_error: 87.5026 - val_loss: 22050.1895 - val_mean_absolute_error: 70.7091\n",
      "Epoch 18/25\n",
      "403/403 [==============================] - 33s 81ms/step - loss: 21965.5781 - mean_absolute_error: 87.6163 - val_loss: 22157.1074 - val_mean_absolute_error: 67.8223\n",
      "Epoch 19/25\n",
      "403/403 [==============================] - 33s 81ms/step - loss: 22081.3027 - mean_absolute_error: 87.5380 - val_loss: 21787.0957 - val_mean_absolute_error: 69.6717\n",
      "Epoch 20/25\n",
      "403/403 [==============================] - 33s 81ms/step - loss: 21683.1328 - mean_absolute_error: 87.0870 - val_loss: 21612.8008 - val_mean_absolute_error: 67.4562\n",
      "Epoch 21/25\n",
      "403/403 [==============================] - 33s 81ms/step - loss: 21822.4570 - mean_absolute_error: 86.6481 - val_loss: 22866.4746 - val_mean_absolute_error: 81.0756\n",
      "Epoch 22/25\n",
      "403/403 [==============================] - 32s 80ms/step - loss: 21506.7500 - mean_absolute_error: 86.2805 - val_loss: 21745.5078 - val_mean_absolute_error: 70.4198\n",
      "Epoch 23/25\n",
      "403/403 [==============================] - 33s 81ms/step - loss: 21387.6328 - mean_absolute_error: 85.6572 - val_loss: 21447.9941 - val_mean_absolute_error: 67.3427\n",
      "Epoch 24/25\n",
      "403/403 [==============================] - 32s 80ms/step - loss: 21817.4766 - mean_absolute_error: 86.4845 - val_loss: 21612.2988 - val_mean_absolute_error: 69.5091\n",
      "Epoch 25/25\n",
      "403/403 [==============================] - 32s 80ms/step - loss: 21383.8809 - mean_absolute_error: 86.3329 - val_loss: 21934.1582 - val_mean_absolute_error: 72.1331\n",
      "fit ended!\n",
      "starting to evaluate...\n",
      "516/516 [==============================] - 17s 32ms/step - loss: 26726.9082 - mean_absolute_error: 88.2021\n",
      "evaluation ended!\n"
     ]
    }
   ],
   "source": [
    "evaluations = []\n",
    "for window_size in window_sizes:\n",
    "    for window_shift in window_shifts:\n",
    "        print(f'window_size: {window_size} - window_shift: {window_shift}')\n",
    "\n",
    "        features, labels = features_and_labels(y_data, window_size, window_shift)\n",
    "        scaler = StandardScaler()\n",
    "        scaler.fit(features)\n",
    "        features = scaler.transform(features)\n",
    "        train_features, val_features, train_labels, val_labels = train_test_split(features, labels, test_size=0.2, random_state=7)\n",
    "\n",
    "        test_features, test_labels = features_and_labels(y_test_data, window_size, window_shift)\n",
    "        test_features = scaler.transform(test_features)\n",
    "\n",
    "        model = build_model((window_size, 1), y_best_hps['units_1'], y_best_hps['units_2'], y_best_hps['units_3'], y_best_hps['units_4'], y_best_hps['learning_rate'])\n",
    "\n",
    "        print(f'starting to fit...')\n",
    "        if not exists(f'task_1.2/models/{window_size}-{window_shift}.index'):\n",
    "            model_checkpoint_callback = callbacks.ModelCheckpoint(f'task_1.2/models/{window_size}-{window_shift}', save_weights_only=True, monitor='val_mean_absolute_error', mode='min', save_best_only=True)\n",
    "            model.fit(train_features, train_labels, validation_data=(val_features, val_labels), epochs=EPOCHS, batch_size=BATCH_SIZE, callbacks=[model_checkpoint_callback])\n",
    "        print(f'fit ended!')\n",
    "        print(f'starting to evaluate...')\n",
    "        model.load_weights(f'task_1.2/models/{window_size}-{window_shift}')\n",
    "        evaluation = model.evaluate(test_features, test_labels)[1]\n",
    "        evaluations.append((evaluation, f'{window_size}-{window_shift}'))\n",
    "        print(f'evaluation ended!')"
   ]
  },
  {
   "cell_type": "markdown",
   "metadata": {
    "id": "TpTGsMd7Hcic"
   },
   "source": [
    "### 1.3.3 Printing and plotting evaluations"
   ]
  },
  {
   "cell_type": "code",
   "execution_count": 55,
   "metadata": {
    "id": "O9y9cJSN2LLu"
   },
   "outputs": [
    {
     "data": {
      "image/png": "[encoded data removed]",
      "text/plain": [
       "<Figure size 1224x216 with 1 Axes>"
      ]
     },
     "metadata": {
      "needs_background": "light"
     },
     "output_type": "display_data"
    }
   ],
   "source": [
    "evaluations.sort(key=lambda elem : elem[0])\n",
    "\n",
    "combinations = []\n",
    "values = []\n",
    "for evaluation in evaluations:\n",
    "    values.append(evaluation[0])\n",
    "    combinations.append(evaluation[1])\n",
    "\n",
    "plt.rcParams['figure.figsize'] = (17,3)\n",
    "plt.bar(combinations, values, label='Evaluation')\n",
    "plt.title('Loss')\n",
    "plt.ylim(min(values) - 1, max(values) + 1)\n",
    "plt.xlabel('Epochs')\n",
    "plt.ylabel('Evaluation')\n",
    "plt.legend()\n",
    "plt.show()\n",
    "plt.rcParams['figure.figsize'] = plt.rcParamsDefault['figure.figsize']"
   ]
  },
  {
   "cell_type": "code",
   "execution_count": 26,
   "metadata": {},
   "outputs": [
    {
     "name": "stdout",
     "output_type": "stream",
     "text": [
      "Best result:\t\t\t82.2437744140625\n",
      "Best window_size-window_shift:\t30-1\n"
     ]
    }
   ],
   "source": [
    "print(f'Best result:\\t\\t\\t{values[0]}')\n",
    "print(f'Best window_size-window_shift:\\t{combinations[0]}')"
   ]
  },
  {
   "cell_type": "markdown",
   "metadata": {
    "id": "mM-P26ZuskH4",
    "tags": []
   },
   "source": [
    "## 1.4 Considerations about possible correlations\n",
    "Now, we decide to build a model that takes in input all time series, in order to see if we can obtain more accurate results."
   ]
  },
  {
   "cell_type": "markdown",
   "metadata": {
    "id": "ruSvW7A4sy4M"
   },
   "source": [
    "### 1.4.1 Data preprocessing\n",
    "We reshape the data in order to have a feature set, containing records of a specific window size, and a label set, containing the next value for each window."
   ]
  },
  {
   "cell_type": "code",
   "execution_count": 27,
   "metadata": {
    "colab": {
     "base_uri": "https://localhost:8080/"
    },
    "id": "yQi36sFwb3Kf",
    "outputId": "3cac925d-dc99-439c-ed8a-8271488ffb78"
   },
   "outputs": [
    {
     "name": "stdout",
     "output_type": "stream",
     "text": [
      "[[ -24  749 -626]\n",
      " [-206  930  -63]\n",
      " [-139  763 -577]\n",
      " [-503  441 -557]\n",
      " [-278  705 -396]\n",
      " [ 240  839 -310]\n",
      " [-671  318 -213]\n",
      " [ -45  296 -927]\n",
      " [ 102  294 -888]\n",
      " [  15  635 -671]\n",
      " [ 142  101 -945]\n",
      " [   3  143  543]\n",
      " [-176  368  629]\n",
      " [-768 -547  202]\n",
      " [-838 -509  194]\n",
      " [-420  306  885]\n",
      " [-419  307  885]\n",
      " [-420  308  884]\n",
      " [-419  309  885]\n",
      " [-418  309  885]\n",
      " [-417  310  884]\n",
      " [-414  312  885]\n",
      " [-408  315  887]\n",
      " [-407  315  887]\n",
      " [-407  316  887]\n",
      " [-408  316  887]\n",
      " [-407  315  887]\n",
      " [-408  316  887]\n",
      " [-408  316  887]\n",
      " [-409  316  887]]\n",
      "[-408  316  887]\n"
     ]
    }
   ],
   "source": [
    "features = []\n",
    "labels = []\n",
    "\n",
    "for i in range(WINDOW_SIZE, len(data), WINDOW_SHIFT):\n",
    "    features.append(data.to_numpy()[i - WINDOW_SIZE:i])\n",
    "    labels.append(data.to_numpy()[i])\n",
    "features, labels = np.array(features), np.array(labels)\n",
    "\n",
    "print(features[0])\n",
    "print(labels[0])"
   ]
  },
  {
   "cell_type": "markdown",
   "metadata": {},
   "source": [
    "### 1.4.2 Data normalization\n",
    "\n",
    "We use the standard scaler, in order to normalize features."
   ]
  },
  {
   "cell_type": "code",
   "execution_count": 28,
   "metadata": {},
   "outputs": [
    {
     "data": {
      "text/plain": [
       "array([[-0.31871224,  1.31732579, -0.59142138],\n",
       "       [-0.68885218,  1.62155109,  0.45436087],\n",
       "       [-0.55259187,  1.34085703, -0.50040303],\n",
       "       [-1.29287176,  0.79963853, -0.46325269],\n",
       "       [-0.83528117,  1.24337046, -0.1641924 ],\n",
       "       [ 0.21819405,  1.46859804, -0.00444591],\n",
       "       [-1.63453939,  0.59289978,  0.17573327],\n",
       "       [-0.3614207 ,  0.55592212, -1.15053409],\n",
       "       [-0.06246151,  0.55256052, -1.07809092],\n",
       "       [-0.23939654,  1.12571427, -0.67500966],\n",
       "       [ 0.01888792,  0.22816558, -1.1839694 ],\n",
       "       [-0.26380137,  0.2987593 ,  1.58001636],\n",
       "       [-0.6278401 ,  0.67693992,  1.73976285],\n",
       "       [-1.83181178, -0.86099463,  0.94660296],\n",
       "       [-1.9741733 , -0.79712412,  0.93174282],\n",
       "       [-1.12407167,  0.57273015,  2.21528729],\n",
       "       [-1.12203794,  0.57441095,  2.21528729],\n",
       "       [-1.12407167,  0.57609176,  2.21342977],\n",
       "       [-1.12203794,  0.57777256,  2.21528729],\n",
       "       [-1.1200042 ,  0.57777256,  2.21528729],\n",
       "       [-1.11797047,  0.57945336,  2.21342977],\n",
       "       [-1.11186926,  0.58281497,  2.21528729],\n",
       "       [-1.09966684,  0.58785738,  2.21900232],\n",
       "       [-1.09763311,  0.58785738,  2.21900232],\n",
       "       [-1.09763311,  0.58953818,  2.21900232],\n",
       "       [-1.09966684,  0.58953818,  2.21900232],\n",
       "       [-1.09763311,  0.58785738,  2.21900232],\n",
       "       [-1.09966684,  0.58953818,  2.21900232],\n",
       "       [-1.09966684,  0.58953818,  2.21900232],\n",
       "       [-1.10170058,  0.58953818,  2.21900232]])"
      ]
     },
     "execution_count": 28,
     "metadata": {},
     "output_type": "execute_result"
    }
   ],
   "source": [
    "normalized_features = np.reshape(features, (-1, features.shape[-1]))\n",
    "\n",
    "scaler = StandardScaler()\n",
    "scaler.fit(normalized_features)\n",
    "normalized_features = scaler.transform(normalized_features)\n",
    "\n",
    "normalized_features = np.reshape(normalized_features, features.shape)\n",
    "features = normalized_features\n",
    "features[0]"
   ]
  },
  {
   "cell_type": "markdown",
   "metadata": {
    "id": "vs5ViXLrzkQR"
   },
   "source": [
    "### 1.4.3 Splitting in training set and validation set\n",
    "We are splitting the data in training data and validation data"
   ]
  },
  {
   "cell_type": "code",
   "execution_count": 29,
   "metadata": {
    "id": "ngeSTdMfuvIy"
   },
   "outputs": [],
   "source": [
    "train_features, val_features, train_labels, val_labels = train_test_split(features, labels, test_size=0.2, random_state=7)"
   ]
  },
  {
   "cell_type": "markdown",
   "metadata": {
    "id": "kVwBplk5ugQ6"
   },
   "source": [
    "### 1.4.4 Hyperparameter search\n",
    "\n",
    "We let the tuner look for the best parameters for each model."
   ]
  },
  {
   "cell_type": "code",
   "execution_count": 30,
   "metadata": {
    "colab": {
     "base_uri": "https://localhost:8080/"
    },
    "id": "qeftxctfk0e-",
    "outputId": "11abe4f0-ea10-4e9e-995b-4527ed582adb"
   },
   "outputs": [
    {
     "name": "stdout",
     "output_type": "stream",
     "text": [
      "Trial 30 Complete [00h 08m 00s]\n",
      "val_mean_absolute_error: 77.26754760742188\n",
      "\n",
      "Best val_mean_absolute_error So Far: 75.87015533447266\n",
      "Total elapsed time: 01h 20m 27s\n",
      "INFO:tensorflow:Oracle triggered exit\n"
     ]
    }
   ],
   "source": [
    "tuner = keras_tuner.Hyperband(model_builder_three,\n",
    "                              objective='val_mean_absolute_error',\n",
    "                              max_epochs=15,\n",
    "                              factor=3,\n",
    "                              directory='task_1.3/tuner',\n",
    "                              project_name='all')\n",
    "\n",
    "tuner.search(train_features, train_labels, validation_data=(val_features, val_labels), epochs=EPOCHS, batch_size=BATCH_SIZE)\n",
    "best_hps = tuner.get_best_hyperparameters(num_trials=1)[0]"
   ]
  },
  {
   "cell_type": "markdown",
   "metadata": {
    "id": "yR0edFrOz_9F"
   },
   "source": [
    "### 1.4.5 Model building and fitting\n",
    "\n",
    "We build the models according to the parameters found by tuner, then fit the data."
   ]
  },
  {
   "cell_type": "code",
   "execution_count": 33,
   "metadata": {
    "colab": {
     "base_uri": "https://localhost:8080/",
     "height": 865
    },
    "id": "AN35kWVO0EZV",
    "outputId": "4bbed59b-32d9-4bbb-9f7e-6edf7dbcbe4a"
   },
   "outputs": [
    {
     "name": "stdout",
     "output_type": "stream",
     "text": [
      "Epoch 1/25\n",
      "604/604 [==============================] - 27s 34ms/step - loss: 142117.2812 - mean_absolute_error: 291.1260 - val_loss: 77963.3594 - val_mean_absolute_error: 200.6633\n",
      "Epoch 2/25\n",
      "604/604 [==============================] - 19s 32ms/step - loss: 85551.6094 - mean_absolute_error: 220.9215 - val_loss: 55562.7188 - val_mean_absolute_error: 161.9096\n",
      "Epoch 3/25\n",
      "604/604 [==============================] - 19s 32ms/step - loss: 45296.3789 - mean_absolute_error: 155.1931 - val_loss: 23826.4980 - val_mean_absolute_error: 92.7554\n",
      "Epoch 4/25\n",
      "604/604 [==============================] - 20s 33ms/step - loss: 37452.3086 - mean_absolute_error: 139.7030 - val_loss: 23240.0391 - val_mean_absolute_error: 90.1177\n",
      "Epoch 5/25\n",
      "604/604 [==============================] - 21s 34ms/step - loss: 36185.4336 - mean_absolute_error: 136.3616 - val_loss: 23318.5703 - val_mean_absolute_error: 93.0452\n",
      "Epoch 6/25\n",
      "604/604 [==============================] - 23s 38ms/step - loss: 35057.7852 - mean_absolute_error: 133.7901 - val_loss: 22748.7969 - val_mean_absolute_error: 86.6270\n",
      "Epoch 7/25\n",
      "604/604 [==============================] - 19s 32ms/step - loss: 34369.8008 - mean_absolute_error: 131.7336 - val_loss: 22047.5508 - val_mean_absolute_error: 83.5629\n",
      "Epoch 8/25\n",
      "604/604 [==============================] - 20s 33ms/step - loss: 33197.7969 - mean_absolute_error: 128.9382 - val_loss: 21685.7891 - val_mean_absolute_error: 79.6906\n",
      "Epoch 9/25\n",
      "604/604 [==============================] - 19s 32ms/step - loss: 33133.9570 - mean_absolute_error: 128.9160 - val_loss: 21778.2734 - val_mean_absolute_error: 82.4295\n",
      "Epoch 10/25\n",
      "604/604 [==============================] - 19s 31ms/step - loss: 32327.2227 - mean_absolute_error: 126.8412 - val_loss: 21682.9180 - val_mean_absolute_error: 81.2557\n",
      "Epoch 11/25\n",
      "604/604 [==============================] - 20s 34ms/step - loss: 31721.5527 - mean_absolute_error: 125.2683 - val_loss: 22374.5664 - val_mean_absolute_error: 85.1064\n",
      "Epoch 12/25\n",
      "604/604 [==============================] - 20s 33ms/step - loss: 31156.0957 - mean_absolute_error: 123.6445 - val_loss: 21751.2969 - val_mean_absolute_error: 83.1650\n",
      "Epoch 13/25\n",
      "604/604 [==============================] - 20s 33ms/step - loss: 30845.6348 - mean_absolute_error: 122.5694 - val_loss: 21460.5332 - val_mean_absolute_error: 77.9227\n",
      "Epoch 14/25\n",
      "604/604 [==============================] - 18s 30ms/step - loss: 30195.6719 - mean_absolute_error: 121.0942 - val_loss: 22491.9512 - val_mean_absolute_error: 87.1139\n",
      "Epoch 15/25\n",
      "604/604 [==============================] - 19s 31ms/step - loss: 29895.1074 - mean_absolute_error: 119.9420 - val_loss: 21494.1680 - val_mean_absolute_error: 77.3452\n",
      "Epoch 16/25\n",
      "604/604 [==============================] - 19s 32ms/step - loss: 29272.5469 - mean_absolute_error: 118.3593 - val_loss: 21753.0781 - val_mean_absolute_error: 81.1507\n",
      "Epoch 17/25\n",
      "604/604 [==============================] - 20s 33ms/step - loss: 29078.7949 - mean_absolute_error: 117.3325 - val_loss: 21890.7637 - val_mean_absolute_error: 84.8456\n",
      "Epoch 18/25\n",
      "604/604 [==============================] - 20s 33ms/step - loss: 28330.7227 - mean_absolute_error: 115.8049 - val_loss: 21988.7305 - val_mean_absolute_error: 82.4694\n",
      "Epoch 19/25\n",
      "604/604 [==============================] - 20s 32ms/step - loss: 28204.2148 - mean_absolute_error: 115.4558 - val_loss: 21787.5293 - val_mean_absolute_error: 83.3115\n",
      "Epoch 20/25\n",
      "604/604 [==============================] - 19s 32ms/step - loss: 27515.8340 - mean_absolute_error: 113.2041 - val_loss: 21528.4922 - val_mean_absolute_error: 80.9771\n",
      "Epoch 21/25\n",
      "604/604 [==============================] - 20s 32ms/step - loss: 27199.7793 - mean_absolute_error: 112.2253 - val_loss: 21485.1289 - val_mean_absolute_error: 80.0632\n",
      "Epoch 22/25\n",
      "604/604 [==============================] - 20s 34ms/step - loss: 26849.4531 - mean_absolute_error: 111.3311 - val_loss: 21771.2344 - val_mean_absolute_error: 79.0475\n",
      "Epoch 23/25\n",
      "604/604 [==============================] - 20s 33ms/step - loss: 26286.1973 - mean_absolute_error: 109.7877 - val_loss: 22041.7441 - val_mean_absolute_error: 82.0058\n",
      "Epoch 24/25\n",
      "604/604 [==============================] - 20s 33ms/step - loss: 25909.6406 - mean_absolute_error: 108.7863 - val_loss: 22242.3184 - val_mean_absolute_error: 85.1874\n",
      "Epoch 25/25\n",
      "604/604 [==============================] - 19s 32ms/step - loss: 25517.3203 - mean_absolute_error: 108.0762 - val_loss: 22527.2266 - val_mean_absolute_error: 86.2106\n"
     ]
    }
   ],
   "source": [
    "model = tuner.hypermodel.build(best_hps)\n",
    "\n",
    "plot_model(model, to_file='task_1.3/models/model.png', show_shapes=True, show_layer_names=True)\n",
    "if not exists('task_1.3/models/model.index'):\n",
    "    model_checkpoint_callback = callbacks.ModelCheckpoint('task_1.3/models/model', save_weights_only=True, monitor='val_mean_absolute_error', mode='min', save_best_only=True)\n",
    "    history = model.fit(train_features, train_labels, validation_data=(val_features, val_labels), epochs=EPOCHS, batch_size=BATCH_SIZE, callbacks=[model_checkpoint_callback])\n",
    "    if exists('task_1.3/plots/loss.png'):\n",
    "        remove('task_1.3/plots/loss.png')\n",
    "    if exists('task_1.3/plots/mae.png'):\n",
    "        remove('task_1.3/plots/mae.png')"
   ]
  },
  {
   "cell_type": "markdown",
   "metadata": {
    "id": "e-QddczM0_Wg"
   },
   "source": [
    "### 1.4.6 Plotting losses and metrics"
   ]
  },
  {
   "cell_type": "code",
   "execution_count": 58,
   "metadata": {
    "colab": {
     "base_uri": "https://localhost:8080/",
     "height": 295
    },
    "id": "r7nA8yyIq2TL",
    "outputId": "84a1c19c-f7e7-4bda-ac0f-4e7d736e845b"
   },
   "outputs": [
    {
     "data": {
      "image/png": "[encoded data removed]",
      "text/plain": [
       "<Figure size 460.8x345.6 with 1 Axes>"
      ]
     },
     "metadata": {
      "needs_background": "light"
     },
     "output_type": "display_data"
    }
   ],
   "source": [
    "if not exists('task_1.3/plots/loss.png'):\n",
    "    loss = history.history['loss']\n",
    "    val_loss = history.history['val_loss']\n",
    "    epochs = range(1, EPOCHS + 1)\n",
    "    plt.plot(epochs, loss, 'b', label='training loss')\n",
    "    plt.plot(epochs, val_loss, 'y', label='validation loss')\n",
    "    plt.title('Loss')\n",
    "    plt.xlabel('Epochs')\n",
    "    plt.ylabel('MSE')\n",
    "    plt.legend()\n",
    "    plt.savefig('task_1.3/plots/loss.png')\n",
    "    plt.show()\n",
    "else:\n",
    "    img = mpimg.imread('task_1.3/plots/loss.png')\n",
    "    imgplot = plt.imshow(img)\n",
    "    plt.show()"
   ]
  },
  {
   "cell_type": "code",
   "execution_count": 59,
   "metadata": {
    "colab": {
     "base_uri": "https://localhost:8080/",
     "height": 295
    },
    "id": "5_3WiIupxg_Z",
    "outputId": "f617d301-eb5f-448f-acf9-4e43c1706762"
   },
   "outputs": [
    {
     "data": {
      "image/png": "[encoded data removed]",
      "text/plain": [
       "<Figure size 460.8x345.6 with 1 Axes>"
      ]
     },
     "metadata": {
      "needs_background": "light"
     },
     "output_type": "display_data"
    }
   ],
   "source": [
    "if not exists('task_1.3/plots/mae.png'):\n",
    "    mae = history.history['mean_absolute_error']\n",
    "    val_mae = history.history['val_mean_absolute_error']\n",
    "    epochs = range(1, EPOCHS + 1)\n",
    "    plt.plot(epochs, mae, 'b', label='training mae')\n",
    "    plt.plot(epochs, val_mae, 'y', label='validation mae')\n",
    "    plt.title('MAE')\n",
    "    plt.xlabel('Epochs')\n",
    "    plt.ylabel('MAE')\n",
    "    plt.legend()\n",
    "    plt.savefig('task_1.3/plots/mae.png')\n",
    "    plt.show()\n",
    "else:\n",
    "    img = mpimg.imread('task_1.3/plots/mae.png')\n",
    "    imgplot = plt.imshow(img)\n",
    "    plt.show()"
   ]
  },
  {
   "cell_type": "markdown",
   "metadata": {
    "id": "4KYRDeWi1IOr"
   },
   "source": [
    "### 1.4.7 Evaluation\n",
    "\n",
    "Targets:\n",
    "- x = 81.06\n",
    "- y = 85.26\n",
    "- z = 79.94"
   ]
  },
  {
   "cell_type": "code",
   "execution_count": 38,
   "metadata": {
    "colab": {
     "base_uri": "https://localhost:8080/"
    },
    "id": "4hoOegrqoAUt",
    "outputId": "01a78932-4e2e-4b98-ecde-69a540d96a83"
   },
   "outputs": [
    {
     "name": "stdout",
     "output_type": "stream",
     "text": [
      "755/755 [==============================] - 14s 19ms/step - loss: 29740.4102 - mean_absolute_error: 108.0530\n",
      "mean_absolute_error:\t108.05298614501953\n"
     ]
    }
   ],
   "source": [
    "test_features = []\n",
    "test_labels = []\n",
    "\n",
    "for i in range(WINDOW_SIZE, len(data), WINDOW_SHIFT):\n",
    "    test_features.append(test_data.to_numpy()[i - WINDOW_SIZE:i])\n",
    "    test_labels.append(test_data.to_numpy()[i])\n",
    "test_features, test_labels = np.array(test_features), np.array(test_labels)\n",
    "\n",
    "normalized_test_features = np.reshape(test_features, (-1, test_features.shape[-1]))\n",
    "normalized_test_features = scaler.transform(normalized_test_features)\n",
    "\n",
    "normalized_test_features = np.reshape(normalized_test_features, test_features.shape)\n",
    "test_features = normalized_test_features\n",
    "\n",
    "evaluation = model.evaluate(test_features, test_labels)[1]\n",
    "print(f'mean_absolute_error:\\t{evaluation}')"
   ]
  }
 ],
 "metadata": {
  "accelerator": "GPU",
  "colab": {
   "collapsed_sections": [
    "ra_xitvr2Lhq",
    "kYDqaKyYERkV",
    "mM-P26ZuskH4",
    "ruSvW7A4sy4M",
    "vs5ViXLrzkQR",
    "kVwBplk5ugQ6",
    "yR0edFrOz_9F",
    "4KYRDeWi1IOr",
    "y5tM0Jki4sBY",
    "B_iNHNG8ppnX"
   ],
   "name": "Deep Learning Project",
   "provenance": [],
   "toc_visible": true
  },
  "kernelspec": {
   "display_name": "Python 3 (ipykernel)",
   "language": "python",
   "name": "python3"
  },
  "language_info": {
   "codemirror_mode": {
    "name": "ipython",
    "version": 3
   },
   "file_extension": ".py",
   "mimetype": "text/x-python",
   "name": "python",
   "nbconvert_exporter": "python",
   "pygments_lexer": "ipython3",
   "version": "3.8.10"
  }
 },
 "nbformat": 4,
 "nbformat_minor": 4
}
